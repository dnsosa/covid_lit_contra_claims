{
 "cells": [
  {
   "cell_type": "markdown",
   "metadata": {},
   "source": [
    "## Main Analysis Notebook\n",
    "\n",
    "For all pre-processing of the raw data, and analysis with HuggingFace"
   ]
  },
  {
   "cell_type": "markdown",
   "metadata": {},
   "source": [
    "### Pure HF Training"
   ]
  },
  {
   "cell_type": "code",
   "execution_count": null,
   "metadata": {},
   "outputs": [],
   "source": [
    "#!conda install -c conda-forge datasets evaluate ipykernel jupyter jupyterlab keras nb_conda_kernels openpyxl pytorch scikit-learn transformers tqdm wandb\n",
    "#!ipython kernel install --user --name=cc2\n",
    "#!pip install transformers -U\n",
    "#!pip install tokenizers==0.12.1 #maybe"
   ]
  },
  {
   "cell_type": "code",
   "execution_count": 20,
   "metadata": {
    "collapsed": true,
    "jupyter": {
     "outputs_hidden": true
    },
    "tags": []
   },
   "outputs": [
    {
     "name": "stdout",
     "output_type": "stream",
     "text": [
      "huggingface/tokenizers: The current process just got forked, after parallelism has already been used. Disabling parallelism to avoid deadlocks...\n",
      "To disable this warning, you can either:\n",
      "\t- Avoid using `tokenizers` before the fork if possible\n",
      "\t- Explicitly set the environment variable TOKENIZERS_PARALLELISM=(true | false)\n",
      "Collecting package metadata (current_repodata.json): done\n",
      "Solving environment: done\n",
      "\n",
      "## Package Plan ##\n",
      "\n",
      "  environment location: /Users/dnsosa/opt/miniconda3/envs/cc37\n",
      "\n",
      "  added / updated specs:\n",
      "    - openpyxl\n",
      "\n",
      "\n",
      "The following packages will be downloaded:\n",
      "\n",
      "    package                    |            build\n",
      "    ---------------------------|-----------------\n",
      "    et_xmlfile-1.0.1           |          py_1001          11 KB  conda-forge\n",
      "    openpyxl-3.0.10            |   py37h8052db5_1         537 KB  conda-forge\n",
      "    ------------------------------------------------------------\n",
      "                                           Total:         548 KB\n",
      "\n",
      "The following NEW packages will be INSTALLED:\n",
      "\n",
      "  et_xmlfile         conda-forge/noarch::et_xmlfile-1.0.1-py_1001 None\n",
      "  openpyxl           conda-forge/osx-64::openpyxl-3.0.10-py37h8052db5_1 None\n",
      "  python_abi         conda-forge/osx-64::python_abi-3.7-2_cp37m None\n",
      "\n",
      "The following packages will be UPDATED:\n",
      "\n",
      "  ca-certificates    pkgs/main::ca-certificates-2022.07.19~ --> conda-forge::ca-certificates-2022.9.24-h033912b_0 None\n",
      "\n",
      "The following packages will be SUPERSEDED by a higher-priority channel:\n",
      "\n",
      "  certifi            pkgs/main/osx-64::certifi-2022.9.24-p~ --> conda-forge/noarch::certifi-2022.9.24-pyhd8ed1ab_0 None\n",
      "  openssl              pkgs/main::openssl-1.1.1q-hca72f7f_0 --> conda-forge::openssl-1.1.1q-hfe4f2af_0 None\n",
      "\n",
      "\n",
      "\n",
      "Downloading and Extracting Packages\n",
      "openpyxl-3.0.10      | 537 KB    | ##################################### | 100% \n",
      "et_xmlfile-1.0.1     | 11 KB     | ##################################### | 100% \n",
      "Preparing transaction: done\n",
      "Verifying transaction: done\n",
      "Executing transaction: done\n",
      "Retrieving notices: ...working... done\n"
     ]
    }
   ],
   "source": [
    "!conda install -c conda-forge openpyxl --yes"
   ]
  },
  {
   "cell_type": "code",
   "execution_count": null,
   "metadata": {},
   "outputs": [],
   "source": [
    "# TODO 1: Implement negex benchmark \n",
    "# TODO 2: Implement word overlap benchmark\n",
    "# TODO 3: Implement benchmarks based on Vader (polarity detection)\n",
    "\n",
    "# TODO 4: Implement final evaluation (all test stuff)\n"
   ]
  },
  {
   "cell_type": "code",
   "execution_count": 215,
   "metadata": {},
   "outputs": [],
   "source": [
    "# Pre-processing functions\n",
    "\n",
    "from datasets import ClassLabel\n",
    "\n",
    "label_map = {\"entailment\": 0, \"neutral\": 1, \"contradiction\": 2}\n",
    "ClassLabels = ClassLabel(num_classes=len(label_map), names=list(label_map.keys()))\n",
    "\n",
    "\n",
    "def label_str_to_num(example):\n",
    "    #example['labels'] = label_map[example['labels']]\n",
    "    example['labels'] = ClassLabels.str2int([example['labels']])\n",
    "    return example\n",
    "\n",
    "def label_num_to_str(example):\n",
    "    num_to_str = {v: k for k,v in label_map.items()}\n",
    "    example['labels'] = num_to_str[int(example['labels'])]\n",
    "    return example\n",
    "\n",
    "\n",
    "        \n",
    "def preprocess_nli_corpus_for_pytorch(corpus_id, tokenizer, truncation, mancon_neutral_frac=1, mancon_train_frac=0.67, SEED=42):\n",
    "    if corpus_id == \"multinli\":\n",
    "        raw_dataset = create_multinli_dataset(SEED=SEED)\n",
    "    \n",
    "    elif corpus_id == \"mednli\":\n",
    "        raw_dataset = create_mednli_dataset(mednli_train_path, mednli_dev_path, mednli_test_path)\n",
    "\n",
    "    elif corpus_id == \"manconcorpus\":\n",
    "        raw_dataset = create_mancon_dataset(mancon_xml_path, mancon_neutral_frac, mancon_train_frac, SEED)\n",
    "        \n",
    "    elif corpus_id == \"roam\":      \n",
    "        raw_dataset = create_roam_dataset(roam_path)\n",
    "        \n",
    "    else:\n",
    "        print(\"Invalid corpus ID. Pre-processing failed. \")\n",
    "        return None\n",
    "    \n",
    "    old_column_names = raw_dataset['train'].column_names\n",
    "    old_column_names.remove('labels')\n",
    "    \n",
    "    def tokenize_data(example, tokenizer=tokenizer):\n",
    "        return tokenizer(example[\"sentence1\"], example[\"sentence2\"], truncation=truncation)\n",
    "    \n",
    "    tokenized_datasets = raw_dataset.map(tokenize_data, batched=True, remove_columns=old_column_names)\n",
    "\n",
    "    return tokenized_datasets\n"
   ]
  },
  {
   "cell_type": "code",
   "execution_count": 216,
   "metadata": {
    "tags": []
   },
   "outputs": [
    {
     "name": "stderr",
     "output_type": "stream",
     "text": [
      "Using custom data configuration default\n",
      "Found cached dataset multi_nli (/Users/dnsosa/.cache/huggingface/datasets/multi_nli/default/0.0.0/591f72eb6263d1ab527561777936b199b714cda156d35716881158a2bd144f39)\n"
     ]
    },
    {
     "data": {
      "application/vnd.jupyter.widget-view+json": {
       "model_id": "a1d6667231e24154a6db7fb321443899",
       "version_major": 2,
       "version_minor": 0
      },
      "text/plain": [
       "  0%|          | 0/3 [00:00<?, ?it/s]"
      ]
     },
     "metadata": {},
     "output_type": "display_data"
    },
    {
     "name": "stderr",
     "output_type": "stream",
     "text": [
      "Loading cached processed dataset at /Users/dnsosa/.cache/huggingface/datasets/multi_nli/default/0.0.0/591f72eb6263d1ab527561777936b199b714cda156d35716881158a2bd144f39/cache-cf746adc131b9a82.arrow\n",
      "Loading cached processed dataset at /Users/dnsosa/.cache/huggingface/datasets/multi_nli/default/0.0.0/591f72eb6263d1ab527561777936b199b714cda156d35716881158a2bd144f39/cache-219eae8003b88bad.arrow\n",
      "Loading cached processed dataset at /Users/dnsosa/.cache/huggingface/datasets/multi_nli/default/0.0.0/591f72eb6263d1ab527561777936b199b714cda156d35716881158a2bd144f39/cache-5f6c1b53460da3cd.arrow\n",
      "Loading cached split indices for dataset at /Users/dnsosa/.cache/huggingface/datasets/multi_nli/default/0.0.0/591f72eb6263d1ab527561777936b199b714cda156d35716881158a2bd144f39/cache-9b83d1256632f1d6.arrow and /Users/dnsosa/.cache/huggingface/datasets/multi_nli/default/0.0.0/591f72eb6263d1ab527561777936b199b714cda156d35716881158a2bd144f39/cache-e0c94d6a3ca27823.arrow\n"
     ]
    },
    {
     "data": {
      "application/vnd.jupyter.widget-view+json": {
       "model_id": "e69226b1a64043f09971a1fb658b0465",
       "version_major": 2,
       "version_minor": 0
      },
      "text/plain": [
       "  0%|          | 0/393 [00:00<?, ?ba/s]"
      ]
     },
     "metadata": {},
     "output_type": "display_data"
    },
    {
     "data": {
      "application/vnd.jupyter.widget-view+json": {
       "model_id": "0a31ddbe380047e69fff2a94870577e6",
       "version_major": 2,
       "version_minor": 0
      },
      "text/plain": [
       "  0%|          | 0/5 [00:00<?, ?ba/s]"
      ]
     },
     "metadata": {},
     "output_type": "display_data"
    },
    {
     "data": {
      "application/vnd.jupyter.widget-view+json": {
       "model_id": "794c66b7459e41c4b11c04767d649bd3",
       "version_major": 2,
       "version_minor": 0
      },
      "text/plain": [
       "  0%|          | 0/5 [00:00<?, ?ba/s]"
      ]
     },
     "metadata": {},
     "output_type": "display_data"
    },
    {
     "name": "stderr",
     "output_type": "stream",
     "text": [
      "Using custom data configuration default-7d9106e9c4160845\n",
      "Found cached dataset json (/Users/dnsosa/.cache/huggingface/datasets/json/default-7d9106e9c4160845/0.0.0/e6070c77f18f01a5ad4551a8b7edfba20b8438b7cad4d94e6ad9378022ce4aab)\n"
     ]
    },
    {
     "data": {
      "application/vnd.jupyter.widget-view+json": {
       "model_id": "5437ffa72bd64bffa50ce01e8c7da60c",
       "version_major": 2,
       "version_minor": 0
      },
      "text/plain": [
       "  0%|          | 0/3 [00:00<?, ?it/s]"
      ]
     },
     "metadata": {},
     "output_type": "display_data"
    },
    {
     "name": "stderr",
     "output_type": "stream",
     "text": [
      "Loading cached processed dataset at /Users/dnsosa/.cache/huggingface/datasets/json/default-7d9106e9c4160845/0.0.0/e6070c77f18f01a5ad4551a8b7edfba20b8438b7cad4d94e6ad9378022ce4aab/cache-0cd8e3899082131a.arrow\n",
      "Loading cached processed dataset at /Users/dnsosa/.cache/huggingface/datasets/json/default-7d9106e9c4160845/0.0.0/e6070c77f18f01a5ad4551a8b7edfba20b8438b7cad4d94e6ad9378022ce4aab/cache-af3ebcd197c3c424.arrow\n",
      "Loading cached processed dataset at /Users/dnsosa/.cache/huggingface/datasets/json/default-7d9106e9c4160845/0.0.0/e6070c77f18f01a5ad4551a8b7edfba20b8438b7cad4d94e6ad9378022ce4aab/cache-e3b18813c149330b.arrow\n",
      "Loading cached processed dataset at /Users/dnsosa/.cache/huggingface/datasets/json/default-7d9106e9c4160845/0.0.0/e6070c77f18f01a5ad4551a8b7edfba20b8438b7cad4d94e6ad9378022ce4aab/cache-31f2acf7f6950d78.arrow\n",
      "Loading cached processed dataset at /Users/dnsosa/.cache/huggingface/datasets/json/default-7d9106e9c4160845/0.0.0/e6070c77f18f01a5ad4551a8b7edfba20b8438b7cad4d94e6ad9378022ce4aab/cache-7c8c03db9b717441.arrow\n",
      "Loading cached processed dataset at /Users/dnsosa/.cache/huggingface/datasets/json/default-7d9106e9c4160845/0.0.0/e6070c77f18f01a5ad4551a8b7edfba20b8438b7cad4d94e6ad9378022ce4aab/cache-62a91ed733742bf8.arrow\n"
     ]
    },
    {
     "data": {
      "application/vnd.jupyter.widget-view+json": {
       "model_id": "f72d773e6d514b8cb91701b510598fec",
       "version_major": 2,
       "version_minor": 0
      },
      "text/plain": [
       "  0%|          | 0/12 [00:00<?, ?ba/s]"
      ]
     },
     "metadata": {},
     "output_type": "display_data"
    },
    {
     "data": {
      "application/vnd.jupyter.widget-view+json": {
       "model_id": "9b600743fad347a4ba681fdf20c7cf3a",
       "version_major": 2,
       "version_minor": 0
      },
      "text/plain": [
       "  0%|          | 0/2 [00:00<?, ?ba/s]"
      ]
     },
     "metadata": {},
     "output_type": "display_data"
    },
    {
     "data": {
      "application/vnd.jupyter.widget-view+json": {
       "model_id": "eff7561cc6734c629354c24ea33ed8e7",
       "version_major": 2,
       "version_minor": 0
      },
      "text/plain": [
       "  0%|          | 0/2 [00:00<?, ?ba/s]"
      ]
     },
     "metadata": {},
     "output_type": "display_data"
    },
    {
     "data": {
      "application/vnd.jupyter.widget-view+json": {
       "model_id": "ad08ae8882ad4546a2cc158b7ef9ab6b",
       "version_major": 2,
       "version_minor": 0
      },
      "text/plain": [
       "Casting the dataset:   0%|          | 0/1 [00:00<?, ?ba/s]"
      ]
     },
     "metadata": {},
     "output_type": "display_data"
    },
    {
     "data": {
      "application/vnd.jupyter.widget-view+json": {
       "model_id": "cfad1e134bb14508ba4104d2c6107179",
       "version_major": 2,
       "version_minor": 0
      },
      "text/plain": [
       "Casting the dataset:   0%|          | 0/1 [00:00<?, ?ba/s]"
      ]
     },
     "metadata": {},
     "output_type": "display_data"
    },
    {
     "data": {
      "application/vnd.jupyter.widget-view+json": {
       "model_id": "d20aba871a9b47d290df02600332458b",
       "version_major": 2,
       "version_minor": 0
      },
      "text/plain": [
       "Casting the dataset:   0%|          | 0/1 [00:00<?, ?ba/s]"
      ]
     },
     "metadata": {},
     "output_type": "display_data"
    },
    {
     "data": {
      "application/vnd.jupyter.widget-view+json": {
       "model_id": "d9b3443069ed4e51909cb0f480a53cbe",
       "version_major": 2,
       "version_minor": 0
      },
      "text/plain": [
       "  0%|          | 0/2 [00:00<?, ?ba/s]"
      ]
     },
     "metadata": {},
     "output_type": "display_data"
    },
    {
     "data": {
      "application/vnd.jupyter.widget-view+json": {
       "model_id": "03d492a9845d4677977b1055dd9691e0",
       "version_major": 2,
       "version_minor": 0
      },
      "text/plain": [
       "  0%|          | 0/1 [00:00<?, ?ba/s]"
      ]
     },
     "metadata": {},
     "output_type": "display_data"
    },
    {
     "data": {
      "application/vnd.jupyter.widget-view+json": {
       "model_id": "053f8a5cec044ad5aec1c6abae240155",
       "version_major": 2,
       "version_minor": 0
      },
      "text/plain": [
       "  0%|          | 0/1 [00:00<?, ?ba/s]"
      ]
     },
     "metadata": {},
     "output_type": "display_data"
    },
    {
     "data": {
      "application/vnd.jupyter.widget-view+json": {
       "model_id": "795f13a8dffc4bc590271752f6073443",
       "version_major": 2,
       "version_minor": 0
      },
      "text/plain": [
       "  0%|          | 0/1 [00:00<?, ?ba/s]"
      ]
     },
     "metadata": {},
     "output_type": "display_data"
    },
    {
     "data": {
      "application/vnd.jupyter.widget-view+json": {
       "model_id": "588c66be51f04647a0edb46dd85b0018",
       "version_major": 2,
       "version_minor": 0
      },
      "text/plain": [
       "  0%|          | 0/1 [00:00<?, ?ba/s]"
      ]
     },
     "metadata": {},
     "output_type": "display_data"
    },
    {
     "data": {
      "application/vnd.jupyter.widget-view+json": {
       "model_id": "544fff5270634799bd5173b908a4695a",
       "version_major": 2,
       "version_minor": 0
      },
      "text/plain": [
       "  0%|          | 0/1 [00:00<?, ?ba/s]"
      ]
     },
     "metadata": {},
     "output_type": "display_data"
    },
    {
     "data": {
      "application/vnd.jupyter.widget-view+json": {
       "model_id": "94ea65099a424551b74f933b2c31e326",
       "version_major": 2,
       "version_minor": 0
      },
      "text/plain": [
       "Casting the dataset:   0%|          | 0/1 [00:00<?, ?ba/s]"
      ]
     },
     "metadata": {},
     "output_type": "display_data"
    },
    {
     "data": {
      "application/vnd.jupyter.widget-view+json": {
       "model_id": "8f18ecfb77ea44318cbe1cdd2933d0c8",
       "version_major": 2,
       "version_minor": 0
      },
      "text/plain": [
       "Casting the dataset:   0%|          | 0/1 [00:00<?, ?ba/s]"
      ]
     },
     "metadata": {},
     "output_type": "display_data"
    },
    {
     "data": {
      "application/vnd.jupyter.widget-view+json": {
       "model_id": "3550320c26c843e48e5b594187b7a58d",
       "version_major": 2,
       "version_minor": 0
      },
      "text/plain": [
       "Casting the dataset:   0%|          | 0/1 [00:00<?, ?ba/s]"
      ]
     },
     "metadata": {},
     "output_type": "display_data"
    },
    {
     "data": {
      "application/vnd.jupyter.widget-view+json": {
       "model_id": "c4c3aaffac2d4d90aab027c16ea2c0c0",
       "version_major": 2,
       "version_minor": 0
      },
      "text/plain": [
       "  0%|          | 0/1 [00:00<?, ?ba/s]"
      ]
     },
     "metadata": {},
     "output_type": "display_data"
    },
    {
     "data": {
      "application/vnd.jupyter.widget-view+json": {
       "model_id": "9b3d8139f71d44dfa326ef167bd8e145",
       "version_major": 2,
       "version_minor": 0
      },
      "text/plain": [
       "  0%|          | 0/1 [00:00<?, ?ba/s]"
      ]
     },
     "metadata": {},
     "output_type": "display_data"
    },
    {
     "data": {
      "application/vnd.jupyter.widget-view+json": {
       "model_id": "510db90ced284455b7e320ff9f91b8ad",
       "version_major": 2,
       "version_minor": 0
      },
      "text/plain": [
       "  0%|          | 0/1 [00:00<?, ?ba/s]"
      ]
     },
     "metadata": {},
     "output_type": "display_data"
    }
   ],
   "source": [
    "import pandas as pd\n",
    "\n",
    "tokenized_datasets_multi = preprocess_nli_corpus_for_pytorch(\"multinli\", tokenizer=tokenizer, truncation=config['truncation'])\n",
    "tokenized_datasets_med = preprocess_nli_corpus_for_pytorch(\"mednli\", tokenizer=tokenizer, truncation=config['truncation'])\n",
    "tokenized_datasets_man = preprocess_nli_corpus_for_pytorch(\"manconcorpus\", tokenizer=tokenizer, truncation=config['truncation'])\n",
    "tokenized_datasets_roam = preprocess_nli_corpus_for_pytorch(\"roam\", tokenizer=tokenizer, truncation=config['truncation'])\n"
   ]
  },
  {
   "cell_type": "code",
   "execution_count": 208,
   "metadata": {},
   "outputs": [
    {
     "data": {
      "text/plain": [
       "DatasetDict({\n",
       "    train: Dataset({\n",
       "        features: ['labels', 'input_ids', 'attention_mask'],\n",
       "        num_rows: 1566\n",
       "    })\n",
       "    val: Dataset({\n",
       "        features: ['labels', 'input_ids', 'attention_mask'],\n",
       "        num_rows: 755\n",
       "    })\n",
       "    test: Dataset({\n",
       "        features: ['labels', 'input_ids', 'attention_mask'],\n",
       "        num_rows: 501\n",
       "    })\n",
       "})"
      ]
     },
     "execution_count": 208,
     "metadata": {},
     "output_type": "execute_result"
    }
   ],
   "source": [
    "tokenized_datasets_man"
   ]
  },
  {
   "cell_type": "code",
   "execution_count": 217,
   "metadata": {},
   "outputs": [
    {
     "name": "stdout",
     "output_type": "stream",
     "text": [
      "{'labels': ClassLabel(num_classes=3, names=['entailment', 'neutral', 'contradiction'], id=None), 'input_ids': Sequence(feature=Value(dtype='int32', id=None), length=-1, id=None), 'attention_mask': Sequence(feature=Value(dtype='int8', id=None), length=-1, id=None)}\n",
      "{'labels': ClassLabel(num_classes=3, names=['entailment', 'neutral', 'contradiction'], id=None), 'input_ids': Sequence(feature=Value(dtype='int32', id=None), length=-1, id=None), 'attention_mask': Sequence(feature=Value(dtype='int8', id=None), length=-1, id=None)}\n",
      "{'labels': ClassLabel(num_classes=3, names=['entailment', 'neutral', 'contradiction'], id=None), 'input_ids': Sequence(feature=Value(dtype='int32', id=None), length=-1, id=None), 'attention_mask': Sequence(feature=Value(dtype='int8', id=None), length=-1, id=None)}\n",
      "{'labels': ClassLabel(num_classes=3, names=['entailment', 'neutral', 'contradiction'], id=None), 'input_ids': Sequence(feature=Value(dtype='int32', id=None), length=-1, id=None), 'attention_mask': Sequence(feature=Value(dtype='int8', id=None), length=-1, id=None)}\n"
     ]
    },
    {
     "name": "stderr",
     "output_type": "stream",
     "text": [
      "wandb: Network error (ConnectTimeout), entering retry loop.\n"
     ]
    }
   ],
   "source": [
    "train_dataset_list = [tokenized_datasets_multi, tokenized_datasets_med, tokenized_datasets_man, tokenized_datasets_roam]\n",
    "train_subset_list = [dataset[\"train\"] for dataset in train_dataset_list]\n",
    "for dataset in train_subset_list:\n",
    "    print(dataset.features)"
   ]
  },
  {
   "cell_type": "code",
   "execution_count": 161,
   "metadata": {},
   "outputs": [
    {
     "data": {
      "text/plain": [
       "Dataset({\n",
       "    features: ['labels', 'input_ids', 'attention_mask'],\n",
       "    num_rows: 406060\n",
       "})"
      ]
     },
     "execution_count": 161,
     "metadata": {},
     "output_type": "execute_result"
    }
   ],
   "source": [
    "import datasets\n",
    "train_subset_list_combined = datasets.concatenate_datasets(train_subset_list).shuffle()\n",
    "train_subset_list_combined"
   ]
  },
  {
   "cell_type": "code",
   "execution_count": 36,
   "metadata": {},
   "outputs": [
    {
     "data": {
      "text/plain": [
       "DatasetDict({\n",
       "    train: Dataset({\n",
       "        features: ['labels', 'input_ids', 'attention_mask'],\n",
       "        num_rows: 11232\n",
       "    })\n",
       "    val: Dataset({\n",
       "        features: ['labels', 'input_ids', 'attention_mask'],\n",
       "        num_rows: 1395\n",
       "    })\n",
       "    test: Dataset({\n",
       "        features: ['labels', 'input_ids', 'attention_mask'],\n",
       "        num_rows: 1422\n",
       "    })\n",
       "})"
      ]
     },
     "execution_count": 36,
     "metadata": {},
     "output_type": "execute_result"
    }
   ],
   "source": [
    "tokenized_datasets_med"
   ]
  },
  {
   "cell_type": "code",
   "execution_count": 37,
   "metadata": {},
   "outputs": [
    {
     "data": {
      "text/plain": [
       "DatasetDict({\n",
       "    train: Dataset({\n",
       "        features: ['labels', 'input_ids', 'attention_mask'],\n",
       "        num_rows: 1692\n",
       "    })\n",
       "    test: Dataset({\n",
       "        features: ['labels', 'input_ids', 'attention_mask'],\n",
       "        num_rows: 565\n",
       "    })\n",
       "    val: Dataset({\n",
       "        features: ['labels', 'input_ids', 'attention_mask'],\n",
       "        num_rows: 565\n",
       "    })\n",
       "})"
      ]
     },
     "execution_count": 37,
     "metadata": {},
     "output_type": "execute_result"
    }
   ],
   "source": [
    "tokenized_datasets_man"
   ]
  },
  {
   "cell_type": "code",
   "execution_count": 38,
   "metadata": {},
   "outputs": [
    {
     "data": {
      "text/plain": [
       "DatasetDict({\n",
       "    train: Dataset({\n",
       "        features: ['labels', 'input_ids', 'attention_mask'],\n",
       "        num_rows: 434\n",
       "    })\n",
       "    val: Dataset({\n",
       "        features: ['labels', 'input_ids', 'attention_mask'],\n",
       "        num_rows: 157\n",
       "    })\n",
       "    test: Dataset({\n",
       "        features: ['labels', 'input_ids', 'attention_mask'],\n",
       "        num_rows: 187\n",
       "    })\n",
       "})"
      ]
     },
     "execution_count": 38,
     "metadata": {},
     "output_type": "execute_result"
    }
   ],
   "source": [
    "tokenized_datasets_roam"
   ]
  },
  {
   "cell_type": "code",
   "execution_count": 4,
   "metadata": {
    "tags": []
   },
   "outputs": [
    {
     "name": "stdout",
     "output_type": "stream",
     "text": [
      "Packages loaded.\n"
     ]
    },
    {
     "name": "stderr",
     "output_type": "stream",
     "text": [
      "\u001b[34m\u001b[1mwandb\u001b[0m: Currently logged in as: \u001b[33mdnsosa\u001b[0m. Use \u001b[1m`wandb login --relogin`\u001b[0m to force relogin\n"
     ]
    },
    {
     "data": {
      "text/html": [
       "Tracking run with wandb version 0.13.4"
      ],
      "text/plain": [
       "<IPython.core.display.HTML object>"
      ]
     },
     "metadata": {},
     "output_type": "display_data"
    },
    {
     "data": {
      "text/html": [
       "Run data is saved locally in <code>/Users/dnsosa/Desktop/AltmanLab/ContradictoryClaims/drug-lit-contradictory-claims/notebooks/wandb/run-20221007_142945-3hhf0c6d</code>"
      ],
      "text/plain": [
       "<IPython.core.display.HTML object>"
      ]
     },
     "metadata": {},
     "output_type": "display_data"
    },
    {
     "data": {
      "text/html": [
       "Syncing run <strong><a href=\"https://wandb.ai/dnsosa/Contra%20Claims%2010_22/runs/3hhf0c6d\" target=\"_blank\">iconic-feather-18</a></strong> to <a href=\"https://wandb.ai/dnsosa/Contra%20Claims%2010_22\" target=\"_blank\">Weights & Biases</a> (<a href=\"https://wandb.me/run\" target=\"_blank\">docs</a>)<br/>"
      ],
      "text/plain": [
       "<IPython.core.display.HTML object>"
      ]
     },
     "metadata": {},
     "output_type": "display_data"
    },
    {
     "name": "stdout",
     "output_type": "stream",
     "text": [
      "env: \"WANDB_NOTEBOOK_NAME\"=\"Main CC Pipeline Analysis Notebook\"\n",
      "WandB initialized.\n",
      "Tokenizer loaded.\n"
     ]
    },
    {
     "name": "stderr",
     "output_type": "stream",
     "text": [
      "Using custom data configuration default-7d9106e9c4160845\n",
      "Found cached dataset json (/Users/dnsosa/.cache/huggingface/datasets/json/default-7d9106e9c4160845/0.0.0/e6070c77f18f01a5ad4551a8b7edfba20b8438b7cad4d94e6ad9378022ce4aab)\n"
     ]
    },
    {
     "data": {
      "application/vnd.jupyter.widget-view+json": {
       "model_id": "36982fc90b26449c9349f9758bf3fcb6",
       "version_major": 2,
       "version_minor": 0
      },
      "text/plain": [
       "  0%|          | 0/3 [00:00<?, ?it/s]"
      ]
     },
     "metadata": {},
     "output_type": "display_data"
    },
    {
     "data": {
      "application/vnd.jupyter.widget-view+json": {
       "model_id": "6d4e9ee514de4859a8593a4549491bd2",
       "version_major": 2,
       "version_minor": 0
      },
      "text/plain": [
       "  0%|          | 0/12 [00:00<?, ?ba/s]"
      ]
     },
     "metadata": {},
     "output_type": "display_data"
    },
    {
     "data": {
      "application/vnd.jupyter.widget-view+json": {
       "model_id": "653aa8deab2c488c9fec82984c832e61",
       "version_major": 2,
       "version_minor": 0
      },
      "text/plain": [
       "  0%|          | 0/2 [00:00<?, ?ba/s]"
      ]
     },
     "metadata": {},
     "output_type": "display_data"
    },
    {
     "data": {
      "application/vnd.jupyter.widget-view+json": {
       "model_id": "9a864b8ad15e4a52b407b529d2c9200d",
       "version_major": 2,
       "version_minor": 0
      },
      "text/plain": [
       "  0%|          | 0/2 [00:00<?, ?ba/s]"
      ]
     },
     "metadata": {},
     "output_type": "display_data"
    },
    {
     "data": {
      "application/vnd.jupyter.widget-view+json": {
       "model_id": "9150c868f8e64326bb0c810fa74f0e19",
       "version_major": 2,
       "version_minor": 0
      },
      "text/plain": [
       "  0%|          | 0/11232 [00:00<?, ?ex/s]"
      ]
     },
     "metadata": {},
     "output_type": "display_data"
    },
    {
     "data": {
      "application/vnd.jupyter.widget-view+json": {
       "model_id": "e2445846eef74982b442c34e2df19fcf",
       "version_major": 2,
       "version_minor": 0
      },
      "text/plain": [
       "  0%|          | 0/1395 [00:00<?, ?ex/s]"
      ]
     },
     "metadata": {},
     "output_type": "display_data"
    },
    {
     "data": {
      "application/vnd.jupyter.widget-view+json": {
       "model_id": "c5cbd5b5a465400d9ed30dd1d2d39df7",
       "version_major": 2,
       "version_minor": 0
      },
      "text/plain": [
       "  0%|          | 0/1422 [00:00<?, ?ex/s]"
      ]
     },
     "metadata": {},
     "output_type": "display_data"
    },
    {
     "data": {
      "application/vnd.jupyter.widget-view+json": {
       "model_id": "62b4e10c668d499bb39d8df22dd7ebeb",
       "version_major": 2,
       "version_minor": 0
      },
      "text/plain": [
       "  0%|          | 0/12 [00:00<?, ?ba/s]"
      ]
     },
     "metadata": {},
     "output_type": "display_data"
    },
    {
     "data": {
      "application/vnd.jupyter.widget-view+json": {
       "model_id": "4353c23ba2fa4cf5b8e117a477ac5b3d",
       "version_major": 2,
       "version_minor": 0
      },
      "text/plain": [
       "  0%|          | 0/2 [00:00<?, ?ba/s]"
      ]
     },
     "metadata": {},
     "output_type": "display_data"
    },
    {
     "data": {
      "application/vnd.jupyter.widget-view+json": {
       "model_id": "3cd8ed1b5602417c90c18d4400fcd627",
       "version_major": 2,
       "version_minor": 0
      },
      "text/plain": [
       "  0%|          | 0/2 [00:00<?, ?ba/s]"
      ]
     },
     "metadata": {},
     "output_type": "display_data"
    },
    {
     "name": "stdout",
     "output_type": "stream",
     "text": [
      "mednli tokenized.\n"
     ]
    },
    {
     "name": "stderr",
     "output_type": "stream",
     "text": [
      "Some weights of the model checkpoint at allenai/biomed_roberta_base were not used when initializing RobertaForSequenceClassification: ['lm_head.layer_norm.weight', 'lm_head.dense.weight', 'lm_head.dense.bias', 'lm_head.decoder.weight', 'lm_head.bias', 'roberta.pooler.dense.weight', 'roberta.pooler.dense.bias', 'lm_head.layer_norm.bias']\n",
      "- This IS expected if you are initializing RobertaForSequenceClassification from the checkpoint of a model trained on another task or with another architecture (e.g. initializing a BertForSequenceClassification model from a BertForPreTraining model).\n",
      "- This IS NOT expected if you are initializing RobertaForSequenceClassification from the checkpoint of a model that you expect to be exactly identical (initializing a BertForSequenceClassification model from a BertForSequenceClassification model).\n",
      "Some weights of RobertaForSequenceClassification were not initialized from the model checkpoint at allenai/biomed_roberta_base and are newly initialized: ['classifier.dense.weight', 'classifier.out_proj.weight', 'classifier.out_proj.bias', 'classifier.dense.bias']\n",
      "You should probably TRAIN this model on a down-stream task to be able to use it for predictions and inference.\n"
     ]
    },
    {
     "name": "stdout",
     "output_type": "stream",
     "text": [
      "Model loaded.\n",
      "Using device cpu.\n",
      "Beginning training...\n",
      "# Epochs: 8\n"
     ]
    },
    {
     "name": "stderr",
     "output_type": "stream",
     "text": [
      "/Users/dnsosa/opt/miniconda3/envs/cc37/lib/python3.7/site-packages/transformers/optimization.py:309: FutureWarning: This implementation of AdamW is deprecated and will be removed in a future version. Use the PyTorch implementation torch.optim.AdamW instead, or set `no_deprecation_warning=True` to disable this warning\n",
      "  FutureWarning,\n"
     ]
    },
    {
     "data": {
      "application/vnd.jupyter.widget-view+json": {
       "model_id": "270764c249e24b39a9d1c20cbe20a183",
       "version_major": 2,
       "version_minor": 0
      },
      "text/plain": [
       "  0%|          | 0/8 [00:00<?, ?it/s]"
      ]
     },
     "metadata": {},
     "output_type": "display_data"
    },
    {
     "ename": "KeyboardInterrupt",
     "evalue": "",
     "output_type": "error",
     "traceback": [
      "\u001b[0;31m---------------------------------------------------------------------------\u001b[0m",
      "\u001b[0;31mKeyboardInterrupt\u001b[0m                         Traceback (most recent call last)",
      "\u001b[0;32m/var/folders/p9/8pp847bn49bbsx879fpbsqs00000gn/T/ipykernel_18916/856664918.py\u001b[0m in \u001b[0;36m<module>\u001b[0;34m\u001b[0m\n\u001b[1;32m    102\u001b[0m         \u001b[0moutputs\u001b[0m \u001b[0;34m=\u001b[0m \u001b[0mmodel\u001b[0m\u001b[0;34m(\u001b[0m\u001b[0;34m**\u001b[0m\u001b[0mbatch\u001b[0m\u001b[0;34m)\u001b[0m\u001b[0;34m\u001b[0m\u001b[0;34m\u001b[0m\u001b[0m\n\u001b[1;32m    103\u001b[0m         \u001b[0mloss\u001b[0m \u001b[0;34m=\u001b[0m \u001b[0moutputs\u001b[0m\u001b[0;34m.\u001b[0m\u001b[0mloss\u001b[0m\u001b[0;34m\u001b[0m\u001b[0;34m\u001b[0m\u001b[0m\n\u001b[0;32m--> 104\u001b[0;31m         \u001b[0mloss\u001b[0m\u001b[0;34m.\u001b[0m\u001b[0mbackward\u001b[0m\u001b[0;34m(\u001b[0m\u001b[0;34m)\u001b[0m\u001b[0;34m\u001b[0m\u001b[0;34m\u001b[0m\u001b[0m\n\u001b[0m\u001b[1;32m    105\u001b[0m \u001b[0;34m\u001b[0m\u001b[0m\n\u001b[1;32m    106\u001b[0m         \u001b[0moptimizer\u001b[0m\u001b[0;34m.\u001b[0m\u001b[0mstep\u001b[0m\u001b[0;34m(\u001b[0m\u001b[0;34m)\u001b[0m\u001b[0;34m\u001b[0m\u001b[0;34m\u001b[0m\u001b[0m\n",
      "\u001b[0;32m~/opt/miniconda3/envs/cc37/lib/python3.7/site-packages/torch/_tensor.py\u001b[0m in \u001b[0;36mbackward\u001b[0;34m(self, gradient, retain_graph, create_graph, inputs)\u001b[0m\n\u001b[1;32m    305\u001b[0m                 \u001b[0mcreate_graph\u001b[0m\u001b[0;34m=\u001b[0m\u001b[0mcreate_graph\u001b[0m\u001b[0;34m,\u001b[0m\u001b[0;34m\u001b[0m\u001b[0;34m\u001b[0m\u001b[0m\n\u001b[1;32m    306\u001b[0m                 inputs=inputs)\n\u001b[0;32m--> 307\u001b[0;31m         \u001b[0mtorch\u001b[0m\u001b[0;34m.\u001b[0m\u001b[0mautograd\u001b[0m\u001b[0;34m.\u001b[0m\u001b[0mbackward\u001b[0m\u001b[0;34m(\u001b[0m\u001b[0mself\u001b[0m\u001b[0;34m,\u001b[0m \u001b[0mgradient\u001b[0m\u001b[0;34m,\u001b[0m \u001b[0mretain_graph\u001b[0m\u001b[0;34m,\u001b[0m \u001b[0mcreate_graph\u001b[0m\u001b[0;34m,\u001b[0m \u001b[0minputs\u001b[0m\u001b[0;34m=\u001b[0m\u001b[0minputs\u001b[0m\u001b[0;34m)\u001b[0m\u001b[0;34m\u001b[0m\u001b[0;34m\u001b[0m\u001b[0m\n\u001b[0m\u001b[1;32m    308\u001b[0m \u001b[0;34m\u001b[0m\u001b[0m\n\u001b[1;32m    309\u001b[0m     \u001b[0;32mdef\u001b[0m \u001b[0mregister_hook\u001b[0m\u001b[0;34m(\u001b[0m\u001b[0mself\u001b[0m\u001b[0;34m,\u001b[0m \u001b[0mhook\u001b[0m\u001b[0;34m)\u001b[0m\u001b[0;34m:\u001b[0m\u001b[0;34m\u001b[0m\u001b[0;34m\u001b[0m\u001b[0m\n",
      "\u001b[0;32m~/opt/miniconda3/envs/cc37/lib/python3.7/site-packages/torch/autograd/__init__.py\u001b[0m in \u001b[0;36mbackward\u001b[0;34m(tensors, grad_tensors, retain_graph, create_graph, grad_variables, inputs)\u001b[0m\n\u001b[1;32m    154\u001b[0m     Variable._execution_engine.run_backward(\n\u001b[1;32m    155\u001b[0m         \u001b[0mtensors\u001b[0m\u001b[0;34m,\u001b[0m \u001b[0mgrad_tensors_\u001b[0m\u001b[0;34m,\u001b[0m \u001b[0mretain_graph\u001b[0m\u001b[0;34m,\u001b[0m \u001b[0mcreate_graph\u001b[0m\u001b[0;34m,\u001b[0m \u001b[0minputs\u001b[0m\u001b[0;34m,\u001b[0m\u001b[0;34m\u001b[0m\u001b[0;34m\u001b[0m\u001b[0m\n\u001b[0;32m--> 156\u001b[0;31m         allow_unreachable=True, accumulate_grad=True)  # allow_unreachable flag\n\u001b[0m\u001b[1;32m    157\u001b[0m \u001b[0;34m\u001b[0m\u001b[0m\n\u001b[1;32m    158\u001b[0m \u001b[0;34m\u001b[0m\u001b[0m\n",
      "\u001b[0;32m~/opt/miniconda3/envs/cc37/lib/python3.7/site-packages/wandb/wandb_torch.py\u001b[0m in \u001b[0;36m<lambda>\u001b[0;34m(grad)\u001b[0m\n\u001b[1;32m    280\u001b[0m             \u001b[0mself\u001b[0m\u001b[0;34m.\u001b[0m\u001b[0mlog_tensor_stats\u001b[0m\u001b[0;34m(\u001b[0m\u001b[0mgrad\u001b[0m\u001b[0;34m.\u001b[0m\u001b[0mdata\u001b[0m\u001b[0;34m,\u001b[0m \u001b[0mname\u001b[0m\u001b[0;34m)\u001b[0m\u001b[0;34m\u001b[0m\u001b[0;34m\u001b[0m\u001b[0m\n\u001b[1;32m    281\u001b[0m \u001b[0;34m\u001b[0m\u001b[0m\n\u001b[0;32m--> 282\u001b[0;31m         \u001b[0mhandle\u001b[0m \u001b[0;34m=\u001b[0m \u001b[0mvar\u001b[0m\u001b[0;34m.\u001b[0m\u001b[0mregister_hook\u001b[0m\u001b[0;34m(\u001b[0m\u001b[0;32mlambda\u001b[0m \u001b[0mgrad\u001b[0m\u001b[0;34m:\u001b[0m \u001b[0m_callback\u001b[0m\u001b[0;34m(\u001b[0m\u001b[0mgrad\u001b[0m\u001b[0;34m,\u001b[0m \u001b[0mlog_track\u001b[0m\u001b[0;34m)\u001b[0m\u001b[0;34m)\u001b[0m\u001b[0;34m\u001b[0m\u001b[0;34m\u001b[0m\u001b[0m\n\u001b[0m\u001b[1;32m    283\u001b[0m         \u001b[0mself\u001b[0m\u001b[0;34m.\u001b[0m\u001b[0m_hook_handles\u001b[0m\u001b[0;34m[\u001b[0m\u001b[0mname\u001b[0m\u001b[0;34m]\u001b[0m \u001b[0;34m=\u001b[0m \u001b[0mhandle\u001b[0m\u001b[0;34m\u001b[0m\u001b[0;34m\u001b[0m\u001b[0m\n\u001b[1;32m    284\u001b[0m         \u001b[0;32mreturn\u001b[0m \u001b[0mhandle\u001b[0m\u001b[0;34m\u001b[0m\u001b[0;34m\u001b[0m\u001b[0m\n",
      "\u001b[0;31mKeyboardInterrupt\u001b[0m: "
     ]
    }
   ],
   "source": [
    "import os\n",
    "\n",
    "import torch\n",
    "import wandb\n",
    "\n",
    "from datasets import load_dataset, Dataset, DatasetDict\n",
    "from torch.utils.data import DataLoader\n",
    "from transformers import AdamW, AutoModelForSequenceClassification, AutoTokenizer, DataCollatorWithPadding, get_scheduler,  Trainer, TrainingArguments\n",
    "from tqdm.notebook import tqdm\n",
    "\n",
    "import evaluate\n",
    "\n",
    "\n",
    "print(\"Packages loaded.\")\n",
    "\n",
    "SEED = 42\n",
    "\n",
    "root_dir = os.path.abspath(\"..\")\n",
    "mednli_train_path = os.path.join(root_dir, 'input/mednli/mli_train_v1.jsonl')\n",
    "mednli_dev_path = os.path.join(root_dir, 'input/mednli/mli_dev_v1.jsonl')\n",
    "mednli_test_path = os.path.join(root_dir, 'input/mednli/mli_test_v1.jsonl')\n",
    "mancon_xml_path = os.path.join(root_dir, 'input/manconcorpus/ManConCorpus.xml')\n",
    "roam_path = os.path.join(root_dir, 'input/cord-training/Roam_annotations_trainvaltest_split_V2.xlsx')\n",
    "\n",
    "in_dataset = \"mednli\"\n",
    "val_set_name = \"val\"\n",
    "#val_set_mapper[{\"multinli\": \"validation_matched\"}]\n",
    "\n",
    "config = dict(\n",
    "    truncation = True,\n",
    "    mancon_neutral_frac = 1,\n",
    "    train_val_frac = 0.8,\n",
    "    num_epochs = 8,\n",
    "    batch_size = 8,\n",
    "    wandb_log_interval = 10,\n",
    "    dataset = in_dataset,\n",
    "    learning_rate = 3e-5\n",
    ")\n",
    "\n",
    "wandb.init(project='Contra Claims 10_22', config=config)\n",
    "%env \"WANDB_NOTEBOOK_NAME\" \"Main CC Pipeline Analysis Notebook\"\n",
    "\n",
    "print(\"WandB initialized.\")\n",
    "\n",
    "\n",
    "    \n",
    "checkpoint = \"allenai/biomed_roberta_base\"\n",
    "#checkpoint = \"bert-base-uncased\"\n",
    "#checkpoint = \"microsoft/BiomedNLP-PubMedBERT-base-uncased-abstract-fulltext\"\n",
    "#checkpoint = \"gsarti/biobert-nli\"\n",
    "\n",
    "tokenizer = AutoTokenizer.from_pretrained(checkpoint)\n",
    "\n",
    "print(\"Tokenizer loaded.\")\n",
    "\n",
    "tokenized_datasets = preprocess_nli_corpus_for_pytorch(config['dataset'], tokenizer=tokenizer, truncation=config['truncation'])\n",
    "\n",
    "print(f\"{in_dataset} tokenized.\")\n",
    "\n",
    "data_collator = DataCollatorWithPadding(tokenizer=tokenizer)\n",
    "\n",
    "# NOTE: Change from 100\n",
    "train_dataloader = DataLoader(\n",
    "    tokenized_datasets[\"train\"].select(range(1000)), shuffle=True, batch_size=config['batch_size'], collate_fn=data_collator\n",
    ")\n",
    "#eval_dataloader = DataLoader(\n",
    "#    tokenized_datasets[val_set_name], batch_size=config['batch_size'], collate_fn=data_collator\n",
    "#)\n",
    "eval_dataloader = train_dataloader\n",
    "\n",
    "model = AutoModelForSequenceClassification.from_pretrained(checkpoint, num_labels=3)\n",
    "optimizer = AdamW(model.parameters(), lr=config['learning_rate'])\n",
    "wandb.watch(model, log_freq=100)\n",
    "\n",
    "\n",
    "print(\"Model loaded.\")\n",
    "\n",
    "device = torch.device(\"cuda\") if torch.cuda.is_available() else torch.device(\"cpu\")\n",
    "model.to(device)\n",
    "\n",
    "print(f\"Using device {device}.\")\n",
    "\n",
    "num_training_steps = config['num_epochs'] * len(train_dataloader)\n",
    "lr_scheduler = get_scheduler(\n",
    "    \"linear\",\n",
    "    optimizer=optimizer,\n",
    "    num_warmup_steps=0,\n",
    "    num_training_steps=num_training_steps,\n",
    ")\n",
    "\n",
    "#progress_bar = tqdm(range(num_training_steps))\n",
    "\n",
    "print(\"Beginning training...\")\n",
    "print(f\"# Epochs: {config['num_epochs']}\")\n",
    "model.train()\n",
    "\n",
    "#for epoch in range(config['num_epochs']):\n",
    "for epoch in tqdm(range(config['num_epochs'])):\n",
    "    for batch_idx, batch in enumerate(train_dataloader):\n",
    "        batch = {k: v.to(device) for k, v in batch.items()}\n",
    "        outputs = model(**batch)\n",
    "        loss = outputs.loss\n",
    "        loss.backward()\n",
    "\n",
    "        optimizer.step()\n",
    "        lr_scheduler.step()\n",
    "        optimizer.zero_grad()\n",
    "        #progress_bar.update(1)\n",
    "        \n",
    "        if batch_idx % config['wandb_log_interval'] == 0:\n",
    "            wandb.log({\"epoch\": epoch, \"training_loss\": loss})\n",
    "\n",
    "print(\"Training complete.\")\n",
    "print(\"Beginning evaluation...\")\n",
    "\n",
    "acc_metric = evaluate.load('accuracy')\n",
    "f1_metric = evaluate.load('f1', average='macro')\n",
    "precision_metric = evaluate.load('precision', average='macro')\n",
    "recall_metric = evaluate.load('recall', average='macro')\n",
    "\n",
    "model.eval()\n",
    "#for batch_idx, batch in enumerate(eval_dataloader):\n",
    "for batch_idx, batch in enumerate(tqdm(eval_dataloader)):\n",
    "    batch = {k: v.to(device) for k, v in batch.items()}\n",
    "    with torch.no_grad():\n",
    "        outputs = model(**batch)\n",
    "\n",
    "    logits = outputs.logits\n",
    "    predictions = torch.argmax(logits, dim=-1)\n",
    "    for metric in [acc_metric, f1_metric, precision_metric, recall_metric]:\n",
    "        metric.add_batch(predictions=predictions, references=batch[\"labels\"])\n",
    "\n",
    "results = acc_metric.compute()\n",
    "for metric in [f1_metric, precision_metric, recall_metric]:\n",
    "    results.update(metric.compute(average='macro'))\n",
    "    \n",
    "wandb.log(results)\n",
    "#torch.onnx.export(model, batch, \"model.onnx\")\n",
    "#wandb.save(\"model.onnx\")\n",
    "\n",
    "print(f\"Results: {results}\")\n",
    "print(\"Evaluation complete.\")\n",
    "\n"
   ]
  },
  {
   "cell_type": "code",
   "execution_count": null,
   "metadata": {},
   "outputs": [],
   "source": []
  },
  {
   "cell_type": "code",
   "execution_count": null,
   "metadata": {},
   "outputs": [],
   "source": []
  },
  {
   "cell_type": "code",
   "execution_count": null,
   "metadata": {},
   "outputs": [],
   "source": []
  },
  {
   "cell_type": "code",
   "execution_count": 255,
   "metadata": {},
   "outputs": [],
   "source": [
    "# Processing the Roam annotated corpus again\n",
    "\n",
    "import os\n",
    "import pandas as pd\n",
    "\n",
    "root_dir = os.path.join(os.getcwd(),  \"../\") # MIGHT NEED TO CHANGE LATER\n",
    "input_dir = os.path.join(root_dir, \"input\")\n",
    "roam_path = os.path.join(input_dir, \"Coronawhy-Contra-Claims-Scaling-v2-annotated-2020-10-21.xlsx\")\n",
    "active_sheet = \"Docs\"\n",
    "roam_data = pd.read_excel(roam_path, sheet_name=active_sheet)\n",
    "\n",
    "def process_text(s):\n",
    "    s = s.replace(\"Claim1:\\n\\n\", \"\")\n",
    "    return s.split(\"\\n\\nClaim2:\\n\\n\")\n",
    "\n",
    "def normalize_tags(s):\n",
    "    s = s.replace(\"STRICT_\", \"\")\n",
    "    return s.lower()\n",
    "\n",
    "##df['example'] = df['text'].apply(process_text)\n",
    "\n",
    "roam_data = roam_data.dropna()\n",
    "roam_data['label'] = roam_data['tags'].apply(normalize_tags)\n",
    "roam_data = roam_data[~roam_data['label'].str.contains(\"question|duplicate\")]\n",
    "\n",
    "\n",
    "\n",
    "def splitter(in_str, index):\n",
    "    text1 = in_str.rstrip().split(\"\\n\\n\")[index]\n",
    "    return text1\n",
    "\n",
    "roam_data[\"claim1\"] = roam_data.text.transform(lambda x: splitter(x, 1))\n",
    "roam_data[\"claim2\"] = roam_data.text.transform(lambda x: splitter(x, 3))\n",
    "\n",
    "\n",
    "## df = pd.read_csv(\"Demo-Annotations-R1-2020-08-21.csv\")\n",
    "\n",
    "\n",
    "# Get the context term set (e.g. Tabula) hits for a PMID where at least k occur\n",
    "drug_list = [\"hydroxychloroquine\", \" chloroquine\", \"tocilizumab\", \"remdesivir\", \"vitamin d\", \"lopinavir\", \"dexamethasone\"]\n",
    "def identify_drugs_mentioned(claim):\n",
    "    \n",
    "    found_drugs = []\n",
    "    for drug in drug_list:\n",
    "        if drug in claim:\n",
    "            found_drugs.append(drug)\n",
    "    \n",
    "    return found_drugs\n",
    "\n",
    "        \n",
    "roam_data[\"claim1_drugs\"] = roam_data['claim1'].apply(identify_drugs_mentioned)\n",
    "roam_data[\"claim2_drugs\"] = roam_data['claim2'].apply(identify_drugs_mentioned)"
   ]
  },
  {
   "cell_type": "code",
   "execution_count": null,
   "metadata": {},
   "outputs": [],
   "source": []
  },
  {
   "cell_type": "code",
   "execution_count": null,
   "metadata": {},
   "outputs": [],
   "source": []
  },
  {
   "cell_type": "code",
   "execution_count": null,
   "metadata": {},
   "outputs": [],
   "source": []
  },
  {
   "cell_type": "code",
   "execution_count": 294,
   "metadata": {
    "tags": []
   },
   "outputs": [
    {
     "name": "stderr",
     "output_type": "stream",
     "text": [
      "/Users/dnsosa/opt/miniconda3/envs/cc37/lib/python3.7/site-packages/ipykernel_launcher.py:3: FutureWarning: Passing a negative integer is deprecated in version 1.0 and will not be supported in future version. Instead, use None to not limit the column width.\n",
      "  This is separate from the ipykernel package so we can avoid doing imports until\n"
     ]
    },
    {
     "data": {
      "text/html": [
       "<div>\n",
       "<style scoped>\n",
       "    .dataframe tbody tr th:only-of-type {\n",
       "        vertical-align: middle;\n",
       "    }\n",
       "\n",
       "    .dataframe tbody tr th {\n",
       "        vertical-align: top;\n",
       "    }\n",
       "\n",
       "    .dataframe thead th {\n",
       "        text-align: right;\n",
       "    }\n",
       "</style>\n",
       "<table border=\"1\" class=\"dataframe\">\n",
       "  <thead>\n",
       "    <tr style=\"text-align: right;\">\n",
       "      <th></th>\n",
       "      <th>docnum</th>\n",
       "      <th>tags</th>\n",
       "      <th>source</th>\n",
       "      <th>text</th>\n",
       "      <th>row_id</th>\n",
       "      <th>paper1_cord_uid</th>\n",
       "      <th>paper2_cord_uid</th>\n",
       "      <th>label</th>\n",
       "      <th>claim1</th>\n",
       "      <th>claim2</th>\n",
       "      <th>claim1_drugs</th>\n",
       "      <th>claim2_drugs</th>\n",
       "    </tr>\n",
       "  </thead>\n",
       "  <tbody>\n",
       "    <tr>\n",
       "      <th>0</th>\n",
       "      <td>0</td>\n",
       "      <td>NEUTRAL</td>\n",
       "      <td>Demo-Annotations_43573ac3-R1</td>\n",
       "      <td>Claim1:\\n\\nchloroquine has been recommended by some authors to be used for the treatment of patients infected with this virus however chloroquine may have side effects and drug resistance problems.\\n\\nClaim2:\\n\\non the basis of hydroxychloroquine's superior antiviral and prophylactic activity, as well as its more tolerable safety profile in comparison to chloroquine, we believe that hydroxychloroquine may be a promising drug for the treatment of sars-cov-2 infection [24] .</td>\n",
       "      <td>323</td>\n",
       "      <td>rc5bn6jc</td>\n",
       "      <td>sdij1d90</td>\n",
       "      <td>neutral</td>\n",
       "      <td>chloroquine has been recommended by some authors to be used for the treatment of patients infected with this virus however chloroquine may have side effects and drug resistance problems.</td>\n",
       "      <td>on the basis of hydroxychloroquine's superior antiviral and prophylactic activity, as well as its more tolerable safety profile in comparison to chloroquine, we believe that hydroxychloroquine may be a promising drug for the treatment of sars-cov-2 infection [24] .</td>\n",
       "      <td>[ chloroquine]</td>\n",
       "      <td>[hydroxychloroquine,  chloroquine]</td>\n",
       "    </tr>\n",
       "    <tr>\n",
       "      <th>1</th>\n",
       "      <td>1</td>\n",
       "      <td>NEUTRAL</td>\n",
       "      <td>Demo-Annotations_43573ac3-R1</td>\n",
       "      <td>Claim1:\\n\\n15 our regression model identified age as a determinant in responsiveness to lopinavir/ritonavir, with efficacy being related to younger ages.\\n\\nClaim2:\\n\\nthese findings formed the basis of a recent randomized clinical treatment trial which showed that the triple combination of antiviral therapy with ifn -1b, lopinavirritonavir, and ribavirin is safe and highly effective in shortening the duration of virus shedding, decreasing cytokine responses, alleviating symptoms, and facilitating the discharge of patients with mild to moderate covid-19 (47) .</td>\n",
       "      <td>413</td>\n",
       "      <td>36amafub</td>\n",
       "      <td>rirbffi6</td>\n",
       "      <td>neutral</td>\n",
       "      <td>15 our regression model identified age as a determinant in responsiveness to lopinavir/ritonavir, with efficacy being related to younger ages.</td>\n",
       "      <td>these findings formed the basis of a recent randomized clinical treatment trial which showed that the triple combination of antiviral therapy with ifn -1b, lopinavirritonavir, and ribavirin is safe and highly effective in shortening the duration of virus shedding, decreasing cytokine responses, alleviating symptoms, and facilitating the discharge of patients with mild to moderate covid-19 (47) .</td>\n",
       "      <td>[lopinavir]</td>\n",
       "      <td>[lopinavir]</td>\n",
       "    </tr>\n",
       "    <tr>\n",
       "      <th>2</th>\n",
       "      <td>2</td>\n",
       "      <td>NEUTRAL</td>\n",
       "      <td>Demo-Annotations_43573ac3-R1</td>\n",
       "      <td>Claim1:\\n\\nn/a fax: +90 322 458 88 54 inhibition of the raas, weight loss, vitamin d supplementation, management of osa as well as prevention of sarcopenia/frailty.\\n\\nClaim2:\\n\\nwe observed weak but beneficial class effects of -blockers, mtor/pi3k inhibitors and vitamin d analogues and a mild amplification of the viral phenotype with -agonists.</td>\n",
       "      <td>431</td>\n",
       "      <td>1emlkii0</td>\n",
       "      <td>27f9241x</td>\n",
       "      <td>neutral</td>\n",
       "      <td>n/a fax: +90 322 458 88 54 inhibition of the raas, weight loss, vitamin d supplementation, management of osa as well as prevention of sarcopenia/frailty.</td>\n",
       "      <td>we observed weak but beneficial class effects of -blockers, mtor/pi3k inhibitors and vitamin d analogues and a mild amplification of the viral phenotype with -agonists.</td>\n",
       "      <td>[vitamin d]</td>\n",
       "      <td>[vitamin d]</td>\n",
       "    </tr>\n",
       "  </tbody>\n",
       "</table>\n",
       "</div>"
      ],
      "text/plain": [
       "   docnum     tags                        source                                                                                                                                                                                                                                                                                                                                                                                                                                                                                                                                                                                    text  row_id paper1_cord_uid paper2_cord_uid    label                                                                                                                                                                                      claim1                                                                                                                                                                                                                                                                                                                                                                                                          claim2    claim1_drugs                        claim2_drugs\n",
       "0  0       NEUTRAL  Demo-Annotations_43573ac3-R1  Claim1:\\n\\nchloroquine has been recommended by some authors to be used for the treatment of patients infected with this virus however chloroquine may have side effects and drug resistance problems.\\n\\nClaim2:\\n\\non the basis of hydroxychloroquine's superior antiviral and prophylactic activity, as well as its more tolerable safety profile in comparison to chloroquine, we believe that hydroxychloroquine may be a promising drug for the treatment of sars-cov-2 infection [24] .                                                                                           323     rc5bn6jc        sdij1d90        neutral  chloroquine has been recommended by some authors to be used for the treatment of patients infected with this virus however chloroquine may have side effects and drug resistance problems.  on the basis of hydroxychloroquine's superior antiviral and prophylactic activity, as well as its more tolerable safety profile in comparison to chloroquine, we believe that hydroxychloroquine may be a promising drug for the treatment of sars-cov-2 infection [24] .                                                                                                                                       [ chloroquine]  [hydroxychloroquine,  chloroquine]\n",
       "1  1       NEUTRAL  Demo-Annotations_43573ac3-R1  Claim1:\\n\\n15 our regression model identified age as a determinant in responsiveness to lopinavir/ritonavir, with efficacy being related to younger ages.\\n\\nClaim2:\\n\\nthese findings formed the basis of a recent randomized clinical treatment trial which showed that the triple combination of antiviral therapy with ifn -1b, lopinavirritonavir, and ribavirin is safe and highly effective in shortening the duration of virus shedding, decreasing cytokine responses, alleviating symptoms, and facilitating the discharge of patients with mild to moderate covid-19 (47) .  413     36amafub        rirbffi6        neutral  15 our regression model identified age as a determinant in responsiveness to lopinavir/ritonavir, with efficacy being related to younger ages.                                              these findings formed the basis of a recent randomized clinical treatment trial which showed that the triple combination of antiviral therapy with ifn -1b, lopinavirritonavir, and ribavirin is safe and highly effective in shortening the duration of virus shedding, decreasing cytokine responses, alleviating symptoms, and facilitating the discharge of patients with mild to moderate covid-19 (47) .  [lopinavir]     [lopinavir]                       \n",
       "2  2       NEUTRAL  Demo-Annotations_43573ac3-R1  Claim1:\\n\\nn/a fax: +90 322 458 88 54 inhibition of the raas, weight loss, vitamin d supplementation, management of osa as well as prevention of sarcopenia/frailty.\\n\\nClaim2:\\n\\nwe observed weak but beneficial class effects of -blockers, mtor/pi3k inhibitors and vitamin d analogues and a mild amplification of the viral phenotype with -agonists.                                                                                                                                                                                                                             431     1emlkii0        27f9241x        neutral  n/a fax: +90 322 458 88 54 inhibition of the raas, weight loss, vitamin d supplementation, management of osa as well as prevention of sarcopenia/frailty.                                   we observed weak but beneficial class effects of -blockers, mtor/pi3k inhibitors and vitamin d analogues and a mild amplification of the viral phenotype with -agonists.                                                                                                                                                                                                                                        [vitamin d]     [vitamin d]                       "
      ]
     },
     "execution_count": 294,
     "metadata": {},
     "output_type": "execute_result"
    }
   ],
   "source": [
    "pd.set_option('display.max_columns', None)\n",
    "pd.set_option('display.expand_frame_repr', False)\n",
    "pd.set_option('max_colwidth', -1)\n",
    "\n",
    "roam_data.head(3)"
   ]
  },
  {
   "cell_type": "code",
   "execution_count": 225,
   "metadata": {},
   "outputs": [
    {
     "data": {
      "text/plain": [
       "556"
      ]
     },
     "execution_count": 225,
     "metadata": {},
     "output_type": "execute_result"
    }
   ],
   "source": [
    "len(roam_data[roam_data.claim1_drugs == roam_data.claim2_drugs])"
   ]
  },
  {
   "cell_type": "code",
   "execution_count": 226,
   "metadata": {},
   "outputs": [
    {
     "data": {
      "text/plain": [
       "987"
      ]
     },
     "execution_count": 226,
     "metadata": {},
     "output_type": "execute_result"
    }
   ],
   "source": [
    "len(roam_data)"
   ]
  },
  {
   "cell_type": "code",
   "execution_count": 228,
   "metadata": {
    "collapsed": true,
    "jupyter": {
     "outputs_hidden": true
    },
    "tags": []
   },
   "outputs": [
    {
     "data": {
      "text/html": [
       "<div>\n",
       "<style scoped>\n",
       "    .dataframe tbody tr th:only-of-type {\n",
       "        vertical-align: middle;\n",
       "    }\n",
       "\n",
       "    .dataframe tbody tr th {\n",
       "        vertical-align: top;\n",
       "    }\n",
       "\n",
       "    .dataframe thead th {\n",
       "        text-align: right;\n",
       "    }\n",
       "</style>\n",
       "<table border=\"1\" class=\"dataframe\">\n",
       "  <thead>\n",
       "    <tr style=\"text-align: right;\">\n",
       "      <th></th>\n",
       "      <th>docnum</th>\n",
       "      <th>tags</th>\n",
       "      <th>source</th>\n",
       "      <th>text</th>\n",
       "      <th>row_id</th>\n",
       "      <th>paper1_cord_uid</th>\n",
       "      <th>paper2_cord_uid</th>\n",
       "      <th>label</th>\n",
       "      <th>claim1</th>\n",
       "      <th>claim2</th>\n",
       "      <th>claim1_drugs</th>\n",
       "      <th>claim2_drugs</th>\n",
       "    </tr>\n",
       "  </thead>\n",
       "  <tbody>\n",
       "    <tr>\n",
       "      <th>1</th>\n",
       "      <td>1</td>\n",
       "      <td>NEUTRAL</td>\n",
       "      <td>Demo-Annotations_43573ac3-R1</td>\n",
       "      <td>Claim1:\\n\\n15 our regression model identified age as a determinant in responsiveness to lopinavir/ritonavir, with efficacy being related to younger ages.\\n\\nClaim2:\\n\\nthese findings formed the basis of a recent randomized clinical treatment trial which showed that the triple combination of antiviral therapy with ifn -1b, lopinavirritonavir, and ribavirin is safe and highly effective in shortening the duration of virus shedding, decreasing cytokine responses, alleviating symptoms, and facilitating the discharge of patients with mild to moderate covid-19 (47) .</td>\n",
       "      <td>413</td>\n",
       "      <td>36amafub</td>\n",
       "      <td>rirbffi6</td>\n",
       "      <td>neutral</td>\n",
       "      <td>15 our regression model identified age as a determinant in responsiveness to lopinavir/ritonavir, with efficacy being related to younger ages.</td>\n",
       "      <td>these findings formed the basis of a recent randomized clinical treatment trial which showed that the triple combination of antiviral therapy with ifn -1b, lopinavirritonavir, and ribavirin is safe and highly effective in shortening the duration of virus shedding, decreasing cytokine responses, alleviating symptoms, and facilitating the discharge of patients with mild to moderate covid-19 (47) .</td>\n",
       "      <td>[lopinavir]</td>\n",
       "      <td>[lopinavir]</td>\n",
       "    </tr>\n",
       "    <tr>\n",
       "      <th>2</th>\n",
       "      <td>2</td>\n",
       "      <td>NEUTRAL</td>\n",
       "      <td>Demo-Annotations_43573ac3-R1</td>\n",
       "      <td>Claim1:\\n\\nn/a fax: +90 322 458 88 54 inhibition of the raas, weight loss, vitamin d supplementation, management of osa as well as prevention of sarcopenia/frailty.\\n\\nClaim2:\\n\\nwe observed weak but beneficial class effects of -blockers, mtor/pi3k inhibitors and vitamin d analogues and a mild amplification of the viral phenotype with -agonists.</td>\n",
       "      <td>431</td>\n",
       "      <td>1emlkii0</td>\n",
       "      <td>27f9241x</td>\n",
       "      <td>neutral</td>\n",
       "      <td>n/a fax: +90 322 458 88 54 inhibition of the raas, weight loss, vitamin d supplementation, management of osa as well as prevention of sarcopenia/frailty.</td>\n",
       "      <td>we observed weak but beneficial class effects of -blockers, mtor/pi3k inhibitors and vitamin d analogues and a mild amplification of the viral phenotype with -agonists.</td>\n",
       "      <td>[vitamin d]</td>\n",
       "      <td>[vitamin d]</td>\n",
       "    </tr>\n",
       "    <tr>\n",
       "      <th>4</th>\n",
       "      <td>4</td>\n",
       "      <td>ENTAILMENT</td>\n",
       "      <td>Demo-Annotations_43573ac3-R1</td>\n",
       "      <td>Claim1:\\n\\nfurthermore, despite the favorable outcomes of high dose dexamethasone treatment for the acute respiratory distress syndrome 20 , the role of intravenous steroids in ktr with covid-19 remains unknown.\\n\\nClaim2:\\n\\nit is important to underline that the immunomodulating therapies used in our patient (metilprednisolone, igiv, plasma-exchange) have not aggravated the sars-cov-2 infection, and besides having a positive effect on the management of the anti-nmda encephalitis, they could also have been helpful in the treatment of covid-19 due to immunosuppression/anti-inflammation properties, and among steroids especially dexamethasone [8].</td>\n",
       "      <td>14</td>\n",
       "      <td>v17l6t5u</td>\n",
       "      <td>kmzum2a9</td>\n",
       "      <td>entailment</td>\n",
       "      <td>furthermore, despite the favorable outcomes of high dose dexamethasone treatment for the acute respiratory distress syndrome 20 , the role of intravenous steroids in ktr with covid-19 remains unknown.</td>\n",
       "      <td>it is important to underline that the immunomodulating therapies used in our patient (metilprednisolone, igiv, plasma-exchange) have not aggravated the sars-cov-2 infection, and besides having a positive effect on the management of the anti-nmda encephalitis, they could also have been helpful in the treatment of covid-19 due to immunosuppression/anti-inflammation properties, and among steroids especially dexamethasone [8].</td>\n",
       "      <td>[dexamethasone]</td>\n",
       "      <td>[dexamethasone]</td>\n",
       "    </tr>\n",
       "    <tr>\n",
       "      <th>5</th>\n",
       "      <td>5</td>\n",
       "      <td>CONTRADICTION</td>\n",
       "      <td>Demo-Annotations_43573ac3-R1</td>\n",
       "      <td>Claim1:\\n\\nword count: 248 take home: this study demonstrates that the use of hydroxychloroquine with or without azithromycin might have benefits in positive-to-negative conversion of sars-cov-2 and reduction of progression rate, but was associated with increased mortality in covid-19.\\n\\nClaim2:\\n\\nsimilarly, a report from france with 181 patients with covid-19 pneumonia found no difference in terms of mortality and icu admission in patients treated with hydroxychloroquine compared to the standard of care [5] .</td>\n",
       "      <td>967</td>\n",
       "      <td>2f6nj4to</td>\n",
       "      <td>n6juf8tw</td>\n",
       "      <td>contradiction</td>\n",
       "      <td>word count: 248 take home: this study demonstrates that the use of hydroxychloroquine with or without azithromycin might have benefits in positive-to-negative conversion of sars-cov-2 and reduction of progression rate, but was associated with increased mortality in covid-19.</td>\n",
       "      <td>similarly, a report from france with 181 patients with covid-19 pneumonia found no difference in terms of mortality and icu admission in patients treated with hydroxychloroquine compared to the standard of care [5] .</td>\n",
       "      <td>[hydroxychloroquine]</td>\n",
       "      <td>[hydroxychloroquine]</td>\n",
       "    </tr>\n",
       "    <tr>\n",
       "      <th>7</th>\n",
       "      <td>7</td>\n",
       "      <td>NEUTRAL</td>\n",
       "      <td>Demo-Annotations_43573ac3-R1</td>\n",
       "      <td>Claim1:\\n\\nto date, data about the use of tocilizumab in the treatment of acute lung injury in patients\\n\\nClaim2:\\n\\nwe report herein our experience regarding the off-label treatment with tocilizumab of the first 51 patients with severe and critical forms of covid-19.</td>\n",
       "      <td>594</td>\n",
       "      <td>3od9m8gh</td>\n",
       "      <td>e5hi63rm</td>\n",
       "      <td>neutral</td>\n",
       "      <td>to date, data about the use of tocilizumab in the treatment of acute lung injury in patients</td>\n",
       "      <td>we report herein our experience regarding the off-label treatment with tocilizumab of the first 51 patients with severe and critical forms of covid-19.</td>\n",
       "      <td>[tocilizumab]</td>\n",
       "      <td>[tocilizumab]</td>\n",
       "    </tr>\n",
       "    <tr>\n",
       "      <th>9</th>\n",
       "      <td>9</td>\n",
       "      <td>NEUTRAL</td>\n",
       "      <td>Demo-Annotations_43573ac3-R1</td>\n",
       "      <td>Claim1:\\n\\nthe role of convalescent plasma transfusion and recent antiviral agents such as ivermectin and remdesivir, in improving covid-19 prognosis in high-risk patients remains to be demonstrated.\\n\\nClaim2:\\n\\nremdesivir, an adenosine analog that incorporates into rna and causes premature termination, is a promising antiviral agent, with preliminary reports suggesting clinical benefit in adult patients.</td>\n",
       "      <td>790</td>\n",
       "      <td>6kn4mr04</td>\n",
       "      <td>t6w7p90m</td>\n",
       "      <td>neutral</td>\n",
       "      <td>the role of convalescent plasma transfusion and recent antiviral agents such as ivermectin and remdesivir, in improving covid-19 prognosis in high-risk patients remains to be demonstrated.</td>\n",
       "      <td>remdesivir, an adenosine analog that incorporates into rna and causes premature termination, is a promising antiviral agent, with preliminary reports suggesting clinical benefit in adult patients.</td>\n",
       "      <td>[remdesivir]</td>\n",
       "      <td>[remdesivir]</td>\n",
       "    </tr>\n",
       "    <tr>\n",
       "      <th>10</th>\n",
       "      <td>10</td>\n",
       "      <td>ENTAILMENT</td>\n",
       "      <td>Demo-Annotations_43573ac3-R1</td>\n",
       "      <td>Claim1:\\n\\n12, 13 the findings of our study are similar to the observational study from a new york hospital which reported no beneficial effect of hydroxychloroquine treatment on respiratory failure or mortality in patients hospitalized with covid-19.\\n\\nClaim2:\\n\\nour findings suggest that patients treated by association of hydroxychloroquine andazithromycinare at greater risk of mortality compared with the 'neither drug' group.</td>\n",
       "      <td>371</td>\n",
       "      <td>yxuzc18x</td>\n",
       "      <td>7qdjea6f</td>\n",
       "      <td>entailment</td>\n",
       "      <td>12, 13 the findings of our study are similar to the observational study from a new york hospital which reported no beneficial effect of hydroxychloroquine treatment on respiratory failure or mortality in patients hospitalized with covid-19.</td>\n",
       "      <td>our findings suggest that patients treated by association of hydroxychloroquine andazithromycinare at greater risk of mortality compared with the 'neither drug' group.</td>\n",
       "      <td>[hydroxychloroquine]</td>\n",
       "      <td>[hydroxychloroquine]</td>\n",
       "    </tr>\n",
       "    <tr>\n",
       "      <th>12</th>\n",
       "      <td>12</td>\n",
       "      <td>NEUTRAL</td>\n",
       "      <td>Demo-Annotations_43573ac3-R1</td>\n",
       "      <td>Claim1:\\n\\nthe improvement in oxygenation and inflammatory markers with no increase secondary infections or intra-hospital mortality suggests that tocilizumab could be an option for patients with progressive covid-19 after initiation of systemic corticosteroids.\\n\\nClaim2:\\n\\nthe mortality rate over a 30-days observation period was 27%, including 5/6 patients (83%) who were receiving invasive ventilation at the time of tocilizumab treatment and 9 of 45 (20%) who were receiving noninvasive oxygen support.</td>\n",
       "      <td>393</td>\n",
       "      <td>f7omk8ut</td>\n",
       "      <td>e5hi63rm</td>\n",
       "      <td>neutral</td>\n",
       "      <td>the improvement in oxygenation and inflammatory markers with no increase secondary infections or intra-hospital mortality suggests that tocilizumab could be an option for patients with progressive covid-19 after initiation of systemic corticosteroids.</td>\n",
       "      <td>the mortality rate over a 30-days observation period was 27%, including 5/6 patients (83%) who were receiving invasive ventilation at the time of tocilizumab treatment and 9 of 45 (20%) who were receiving noninvasive oxygen support.</td>\n",
       "      <td>[tocilizumab]</td>\n",
       "      <td>[tocilizumab]</td>\n",
       "    </tr>\n",
       "    <tr>\n",
       "      <th>14</th>\n",
       "      <td>14</td>\n",
       "      <td>NEUTRAL</td>\n",
       "      <td>Demo-Annotations_43573ac3-R1</td>\n",
       "      <td>Claim1:\\n\\nwe used tocilizumab in both of our cases to counteract the hyperinflammatory state and cytokine storm associated with increased mortality in covid 19 patients in china.\\n\\nClaim2:\\n\\nthe mortality rate over a 30-days observation period was 27%, including 5/6 patients (83%) who were receiving invasive ventilation at the time of tocilizumab treatment and 9 of 45 (20%) who were receiving noninvasive oxygen support.</td>\n",
       "      <td>146</td>\n",
       "      <td>l0rk37zb</td>\n",
       "      <td>e5hi63rm</td>\n",
       "      <td>neutral</td>\n",
       "      <td>we used tocilizumab in both of our cases to counteract the hyperinflammatory state and cytokine storm associated with increased mortality in covid 19 patients in china.</td>\n",
       "      <td>the mortality rate over a 30-days observation period was 27%, including 5/6 patients (83%) who were receiving invasive ventilation at the time of tocilizumab treatment and 9 of 45 (20%) who were receiving noninvasive oxygen support.</td>\n",
       "      <td>[tocilizumab]</td>\n",
       "      <td>[tocilizumab]</td>\n",
       "    </tr>\n",
       "    <tr>\n",
       "      <th>19</th>\n",
       "      <td>19</td>\n",
       "      <td>NEUTRAL</td>\n",
       "      <td>Demo-Annotations_43573ac3-R1</td>\n",
       "      <td>Claim1:\\n\\nto date, data about the use of tocilizumab in the treatment of acute lung injury in patients\\n\\nClaim2:\\n\\nin addition, this case demonstrates the effective use of tocilizumab for the treatment of sars-cov-2 and suggests the superiority of tocilizumab over lenzilumab in the management of this cytokine-mediated syndrome.</td>\n",
       "      <td>595</td>\n",
       "      <td>3od9m8gh</td>\n",
       "      <td>2y8x05a1</td>\n",
       "      <td>neutral</td>\n",
       "      <td>to date, data about the use of tocilizumab in the treatment of acute lung injury in patients</td>\n",
       "      <td>in addition, this case demonstrates the effective use of tocilizumab for the treatment of sars-cov-2 and suggests the superiority of tocilizumab over lenzilumab in the management of this cytokine-mediated syndrome.</td>\n",
       "      <td>[tocilizumab]</td>\n",
       "      <td>[tocilizumab]</td>\n",
       "    </tr>\n",
       "    <tr>\n",
       "      <th>22</th>\n",
       "      <td>22</td>\n",
       "      <td>NEUTRAL</td>\n",
       "      <td>Demo-Annotations_43573ac3-R1</td>\n",
       "      <td>Claim1:\\n\\nwe report herein our experience regarding the off-label treatment with tocilizumab of the first 51 patients with severe and critical forms of covid-19.\\n\\nClaim2:\\n\\nmet exclusion criteria (n=35): heart failure as main cause of arf (n=2), decompensated liver cirrhosis (n=3), on long-term oxygen therapy and/or home ventilation (n=2), dementia or severe neurodegenerative condition (n=14), active cancer (n=3), on chronic steroid therapy (n=4), use of tocilizumab or other experimental treatment (n=7).</td>\n",
       "      <td>37</td>\n",
       "      <td>e5hi63rm</td>\n",
       "      <td>le28oadk</td>\n",
       "      <td>neutral</td>\n",
       "      <td>we report herein our experience regarding the off-label treatment with tocilizumab of the first 51 patients with severe and critical forms of covid-19.</td>\n",
       "      <td>met exclusion criteria (n=35): heart failure as main cause of arf (n=2), decompensated liver cirrhosis (n=3), on long-term oxygen therapy and/or home ventilation (n=2), dementia or severe neurodegenerative condition (n=14), active cancer (n=3), on chronic steroid therapy (n=4), use of tocilizumab or other experimental treatment (n=7).</td>\n",
       "      <td>[tocilizumab]</td>\n",
       "      <td>[tocilizumab]</td>\n",
       "    </tr>\n",
       "    <tr>\n",
       "      <th>25</th>\n",
       "      <td>25</td>\n",
       "      <td>ENTAILMENT</td>\n",
       "      <td>Demo-Annotations_43573ac3-R1</td>\n",
       "      <td>Claim1:\\n\\ninterferon-alpha, lopinavir-ritonavir, and chloroquine could be good candidates for the treatment of covid-19 during pregnancy, but more work is needed to explore their effectiveness and safety.\\n\\nClaim2:\\n\\nbroad-spectrum antiviral like remdisivir, chloroquine phosphate, favipiravir, oseltamivir,  -interferon, lopinavir + ritonavir, ribavirin possibly present a light of hope on the novel covid-19 management side by side with the proper public health strategies also very important to contain this outbreak.</td>\n",
       "      <td>11</td>\n",
       "      <td>rn714n1p</td>\n",
       "      <td>gerhoy8w</td>\n",
       "      <td>entailment</td>\n",
       "      <td>interferon-alpha, lopinavir-ritonavir, and chloroquine could be good candidates for the treatment of covid-19 during pregnancy, but more work is needed to explore their effectiveness and safety.</td>\n",
       "      <td>broad-spectrum antiviral like remdisivir, chloroquine phosphate, favipiravir, oseltamivir,  -interferon, lopinavir + ritonavir, ribavirin possibly present a light of hope on the novel covid-19 management side by side with the proper public health strategies also very important to contain this outbreak.</td>\n",
       "      <td>[chloroquine, lopinavir]</td>\n",
       "      <td>[chloroquine, lopinavir]</td>\n",
       "    </tr>\n",
       "    <tr>\n",
       "      <th>27</th>\n",
       "      <td>27</td>\n",
       "      <td>NEUTRAL</td>\n",
       "      <td>Demo-Annotations_43573ac3-R1</td>\n",
       "      <td>Claim1:\\n\\nall 50 (100%) patients received antiviral therapy (oseltamivir or arbidol), 36 (72%) received antibiotic therapy, 44 (88%) received immunomodulatory therapy (hydroxychloroquine or chloroquine phosphate), and 34 (68%) were given short-term (3-5 days) and low-dose systematic corticosteroids; higher percentages of severe patients received these therapies (table 4) .\\n\\nClaim2:\\n\\nthe goal of this review was not to evaluate if chloroquine or hydroxychloroquine is an effective therapy against covid-19.</td>\n",
       "      <td>551</td>\n",
       "      <td>aidsz3st</td>\n",
       "      <td>t0pped9r</td>\n",
       "      <td>neutral</td>\n",
       "      <td>all 50 (100%) patients received antiviral therapy (oseltamivir or arbidol), 36 (72%) received antibiotic therapy, 44 (88%) received immunomodulatory therapy (hydroxychloroquine or chloroquine phosphate), and 34 (68%) were given short-term (3-5 days) and low-dose systematic corticosteroids; higher percentages of severe patients received these therapies (table 4) .</td>\n",
       "      <td>the goal of this review was not to evaluate if chloroquine or hydroxychloroquine is an effective therapy against covid-19.</td>\n",
       "      <td>[hydroxychloroquine, chloroquine]</td>\n",
       "      <td>[hydroxychloroquine, chloroquine]</td>\n",
       "    </tr>\n",
       "    <tr>\n",
       "      <th>28</th>\n",
       "      <td>28</td>\n",
       "      <td>NEUTRAL</td>\n",
       "      <td>Demo-Annotations_43573ac3-R1</td>\n",
       "      <td>Claim1:\\n\\nin moderate to severe ards covid-19 patients, we did not observe an association between treatment with hydroxychloroquine or lopinavir/ritonavir and ventilatory free days as compared to no antiviral treatment.\\n\\nClaim2:\\n\\nthe third patient, who had started receiving hydroxychloroquine 5 days after the admission, was transferred to intensive care 2 days later and was then prescribed an off-label therapy with ritonavir and lopinavir for severe acute respiratory syndrome coronavirus 2 (sars-cov-2) pneumonia; this patient developed a left bundle branch block due to hydroxychloroquine on hospital day 8 [not all durations of treatments to reactions onsets stated].</td>\n",
       "      <td>927</td>\n",
       "      <td>27t269pd</td>\n",
       "      <td>cpkmdhup</td>\n",
       "      <td>neutral</td>\n",
       "      <td>in moderate to severe ards covid-19 patients, we did not observe an association between treatment with hydroxychloroquine or lopinavir/ritonavir and ventilatory free days as compared to no antiviral treatment.</td>\n",
       "      <td>the third patient, who had started receiving hydroxychloroquine 5 days after the admission, was transferred to intensive care 2 days later and was then prescribed an off-label therapy with ritonavir and lopinavir for severe acute respiratory syndrome coronavirus 2 (sars-cov-2) pneumonia; this patient developed a left bundle branch block due to hydroxychloroquine on hospital day 8 [not all durations of treatments to reactions onsets stated].</td>\n",
       "      <td>[hydroxychloroquine, lopinavir]</td>\n",
       "      <td>[hydroxychloroquine, lopinavir]</td>\n",
       "    </tr>\n",
       "    <tr>\n",
       "      <th>30</th>\n",
       "      <td>30</td>\n",
       "      <td>NEUTRAL</td>\n",
       "      <td>Demo-Annotations_43573ac3-R1</td>\n",
       "      <td>Claim1:\\n\\noverall, 41% of deaths from respiratory 159 diseases were statistically attributable to vitamin d insufficiency or deficiency, and could 160 possibly be avoided by overcoming these conditions assuming causality of the association.\\n\\nClaim2:\\n\\nto assess the overall effect of vitamin d supplementation on risk of acute respiratory infection (ari), and to identify factors modifying this effect.</td>\n",
       "      <td>947</td>\n",
       "      <td>xi6zn0am</td>\n",
       "      <td>mfta0emi</td>\n",
       "      <td>neutral</td>\n",
       "      <td>overall, 41% of deaths from respiratory 159 diseases were statistically attributable to vitamin d insufficiency or deficiency, and could 160 possibly be avoided by overcoming these conditions assuming causality of the association.</td>\n",
       "      <td>to assess the overall effect of vitamin d supplementation on risk of acute respiratory infection (ari), and to identify factors modifying this effect.</td>\n",
       "      <td>[vitamin d]</td>\n",
       "      <td>[vitamin d]</td>\n",
       "    </tr>\n",
       "    <tr>\n",
       "      <th>31</th>\n",
       "      <td>31</td>\n",
       "      <td>ENTAILMENT</td>\n",
       "      <td>Demo-Annotations_43573ac3-R1</td>\n",
       "      <td>Claim1:\\n\\non the basis of hydroxychloroquine's superior antiviral and prophylactic activity, as well as its more tolerable safety profile in comparison to chloroquine, we believe that hydroxychloroquine may be a promising drug for the treatment of sars-cov-2 infection [24] .\\n\\nClaim2:\\n\\nconcurrent administration of some drugs should avoided including drugs which can prolong qt interval (examples: quinolones, macrolides, ondansetron), anti-arrhythmic, anti-depressant and antipsychotic drugs. the italian society of infectious and tropical disease, lombardy section suggests administration of chloroquine (500 mg, twice a day) or hydroxychloroquine (200 mg per day for 10 days) (5 to 20 days treatment depending on clinical severity) [133]. another guideline as documented by the dutch center of disease control (cdc) recommended use of chloroquine to treat severe infections with requirement of oxygen therapy and optimal supportive care [134].</td>\n",
       "      <td>4</td>\n",
       "      <td>sdij1d90</td>\n",
       "      <td>qe56u93a</td>\n",
       "      <td>entailment</td>\n",
       "      <td>on the basis of hydroxychloroquine's superior antiviral and prophylactic activity, as well as its more tolerable safety profile in comparison to chloroquine, we believe that hydroxychloroquine may be a promising drug for the treatment of sars-cov-2 infection [24] .</td>\n",
       "      <td>concurrent administration of some drugs should avoided including drugs which can prolong qt interval (examples: quinolones, macrolides, ondansetron), anti-arrhythmic, anti-depressant and antipsychotic drugs. the italian society of infectious and tropical disease, lombardy section suggests administration of chloroquine (500 mg, twice a day) or hydroxychloroquine (200 mg per day for 10 days) (5 to 20 days treatment depending on clinical severity) [133]. another guideline as documented by the dutch center of disease control (cdc) recommended use of chloroquine to treat severe infections with requirement of oxygen therapy and optimal supportive care [134].</td>\n",
       "      <td>[hydroxychloroquine, chloroquine]</td>\n",
       "      <td>[hydroxychloroquine, chloroquine]</td>\n",
       "    </tr>\n",
       "    <tr>\n",
       "      <th>32</th>\n",
       "      <td>32</td>\n",
       "      <td>NEUTRAL</td>\n",
       "      <td>Demo-Annotations_43573ac3-R1</td>\n",
       "      <td>Claim1:\\n\\nthe study discusses the possible role of adequate vitamin d status in plasma or serum for preventing acute respiratory infections during the covid-19 pandemic.\\n\\nClaim2:\\n\\nin particular, mortality from 155 respiratory diseases was 2.1-and 3.0-fold increased in subjects with vitamin d insufficiency 156 or deficiency, respectively, compared to participants with sufficient vitamin d status.</td>\n",
       "      <td>49</td>\n",
       "      <td>lppdauei</td>\n",
       "      <td>xi6zn0am</td>\n",
       "      <td>neutral</td>\n",
       "      <td>the study discusses the possible role of adequate vitamin d status in plasma or serum for preventing acute respiratory infections during the covid-19 pandemic.</td>\n",
       "      <td>in particular, mortality from 155 respiratory diseases was 2.1-and 3.0-fold increased in subjects with vitamin d insufficiency 156 or deficiency, respectively, compared to participants with sufficient vitamin d status.</td>\n",
       "      <td>[vitamin d]</td>\n",
       "      <td>[vitamin d]</td>\n",
       "    </tr>\n",
       "    <tr>\n",
       "      <th>33</th>\n",
       "      <td>33</td>\n",
       "      <td>NEUTRAL</td>\n",
       "      <td>Demo-Annotations_43573ac3-R1</td>\n",
       "      <td>Claim1:\\n\\nas 166 addressed in detail elsewhere (6), interpretation of the evidence is further complicated by the 167 fact that vitamin d deficiency could be considered both a consequence of poor health as well 168 as a risk factor for increased vulnerability to acute disease and poor outcomes of chronic 169 diseases among people with poor health.\\n\\nClaim2:\\n\\nfurther studies need to be conducted on a larger population, to demonstrate whether adjunctive treatment with vitamin d might be effective in improving disease outcomes and in reducing mortality risk.</td>\n",
       "      <td>875</td>\n",
       "      <td>xi6zn0am</td>\n",
       "      <td>be8eu3qi</td>\n",
       "      <td>neutral</td>\n",
       "      <td>as 166 addressed in detail elsewhere (6), interpretation of the evidence is further complicated by the 167 fact that vitamin d deficiency could be considered both a consequence of poor health as well 168 as a risk factor for increased vulnerability to acute disease and poor outcomes of chronic 169 diseases among people with poor health.</td>\n",
       "      <td>further studies need to be conducted on a larger population, to demonstrate whether adjunctive treatment with vitamin d might be effective in improving disease outcomes and in reducing mortality risk.</td>\n",
       "      <td>[vitamin d]</td>\n",
       "      <td>[vitamin d]</td>\n",
       "    </tr>\n",
       "    <tr>\n",
       "      <th>34</th>\n",
       "      <td>34</td>\n",
       "      <td>ENTAILMENT</td>\n",
       "      <td>Demo-Annotations_43573ac3-R1</td>\n",
       "      <td>Claim1:\\n\\nour hypothesis is that oral administration of hydroxychloroquine to healthcare professionals can reduce the incidence and prevalence of infection as well as its severity in this group.\\n\\nClaim2:\\n\\nword count: 248 take home: this study demonstrates that the use of hydroxychloroquine with or without azithromycin might have benefits in positive-to-negative conversion of sars-cov-2 and reduction of progression rate, but was associated with increased mortality in covid-19.</td>\n",
       "      <td>225</td>\n",
       "      <td>6ngxo8ff</td>\n",
       "      <td>2f6nj4to</td>\n",
       "      <td>entailment</td>\n",
       "      <td>our hypothesis is that oral administration of hydroxychloroquine to healthcare professionals can reduce the incidence and prevalence of infection as well as its severity in this group.</td>\n",
       "      <td>word count: 248 take home: this study demonstrates that the use of hydroxychloroquine with or without azithromycin might have benefits in positive-to-negative conversion of sars-cov-2 and reduction of progression rate, but was associated with increased mortality in covid-19.</td>\n",
       "      <td>[hydroxychloroquine]</td>\n",
       "      <td>[hydroxychloroquine]</td>\n",
       "    </tr>\n",
       "    <tr>\n",
       "      <th>40</th>\n",
       "      <td>40</td>\n",
       "      <td>NEUTRAL</td>\n",
       "      <td>Demo-Annotations_43573ac3-R1</td>\n",
       "      <td>Claim1:\\n\\na number of clues point to a possible role of vitamin d in fighting covid-19: a reduction in case growth speed with solar zenith angle, higher fatality rate in black people, lower fatality rate in populations that spend more time outdoors.\\n\\nClaim2:\\n\\nfurther studies need to be conducted on a larger population, to demonstrate whether adjunctive treatment with vitamin d might be effective in improving disease outcomes and in reducing mortality risk.</td>\n",
       "      <td>539</td>\n",
       "      <td>jdrhu6l1</td>\n",
       "      <td>be8eu3qi</td>\n",
       "      <td>neutral</td>\n",
       "      <td>a number of clues point to a possible role of vitamin d in fighting covid-19: a reduction in case growth speed with solar zenith angle, higher fatality rate in black people, lower fatality rate in populations that spend more time outdoors.</td>\n",
       "      <td>further studies need to be conducted on a larger population, to demonstrate whether adjunctive treatment with vitamin d might be effective in improving disease outcomes and in reducing mortality risk.</td>\n",
       "      <td>[vitamin d]</td>\n",
       "      <td>[vitamin d]</td>\n",
       "    </tr>\n",
       "    <tr>\n",
       "      <th>42</th>\n",
       "      <td>42</td>\n",
       "      <td>ENTAILMENT</td>\n",
       "      <td>Demo-Annotations_43573ac3-R1</td>\n",
       "      <td>Claim1:\\n\\nour results suggest that tocilizumab reduces mortality and/or invasive mechanical ventilation requirement in patients with severe sars-cov-2 pneumonia.\\n\\nClaim2:\\n\\nin the single, non-randomized study published investigating the effect of tocilizumab treatment, decreased levels of serum il-6, improved clinical and radiological status, and the absence of mortality were observed.</td>\n",
       "      <td>826</td>\n",
       "      <td>l6quzef6</td>\n",
       "      <td>nadcsiii</td>\n",
       "      <td>entailment</td>\n",
       "      <td>our results suggest that tocilizumab reduces mortality and/or invasive mechanical ventilation requirement in patients with severe sars-cov-2 pneumonia.</td>\n",
       "      <td>in the single, non-randomized study published investigating the effect of tocilizumab treatment, decreased levels of serum il-6, improved clinical and radiological status, and the absence of mortality were observed.</td>\n",
       "      <td>[tocilizumab]</td>\n",
       "      <td>[tocilizumab]</td>\n",
       "    </tr>\n",
       "    <tr>\n",
       "      <th>43</th>\n",
       "      <td>43</td>\n",
       "      <td>NEUTRAL</td>\n",
       "      <td>Demo-Annotations_43573ac3-R1</td>\n",
       "      <td>Claim1:\\n\\nto maintain optimal treatment-intensity, both started their subsequent cycles of chemotherapy despite persistent pcr positivity: patient 3 commenced fludarabine-containing chemotherapy (flag-ida) and patient 4 received interim maintenance with vincristine, dexamethasone, methotrexate and 6-mercaptopurine, uneventfully.\\n\\nClaim2:\\n\\nit is important to underline that the immunomodulating therapies used in our patient (metilprednisolone, igiv, plasma-exchange) have not aggravated the sars-cov-2 infection, and besides having a positive effect on the management of the anti-nmda encephalitis, they could also have been helpful in the treatment of covid-19 due to immunosuppression/anti-inflammation properties, and among steroids especially dexamethasone [8].</td>\n",
       "      <td>278</td>\n",
       "      <td>lp8342pn</td>\n",
       "      <td>kmzum2a9</td>\n",
       "      <td>neutral</td>\n",
       "      <td>to maintain optimal treatment-intensity, both started their subsequent cycles of chemotherapy despite persistent pcr positivity: patient 3 commenced fludarabine-containing chemotherapy (flag-ida) and patient 4 received interim maintenance with vincristine, dexamethasone, methotrexate and 6-mercaptopurine, uneventfully.</td>\n",
       "      <td>it is important to underline that the immunomodulating therapies used in our patient (metilprednisolone, igiv, plasma-exchange) have not aggravated the sars-cov-2 infection, and besides having a positive effect on the management of the anti-nmda encephalitis, they could also have been helpful in the treatment of covid-19 due to immunosuppression/anti-inflammation properties, and among steroids especially dexamethasone [8].</td>\n",
       "      <td>[dexamethasone]</td>\n",
       "      <td>[dexamethasone]</td>\n",
       "    </tr>\n",
       "    <tr>\n",
       "      <th>45</th>\n",
       "      <td>45</td>\n",
       "      <td>STRICT_CONTRADICTION</td>\n",
       "      <td>Demo-Annotations_43573ac3-R1</td>\n",
       "      <td>Claim1:\\n\\nhowever, dexamethasone is associated with increased risk of viral and respiratory infections, and causes lymphopenia, which is associated with worse outcomes during covid-19 infections.\\n\\nClaim2:\\n\\ngiven the recent discovery that immunosuppression with dexamethasone prevents death in severe covid-19, our observations support virus-independent immunopathology being one of the primary mechanisms underlying fatal covid-19.</td>\n",
       "      <td>752</td>\n",
       "      <td>gd6dd4qm</td>\n",
       "      <td>r63sg73c</td>\n",
       "      <td>contradiction</td>\n",
       "      <td>however, dexamethasone is associated with increased risk of viral and respiratory infections, and causes lymphopenia, which is associated with worse outcomes during covid-19 infections.</td>\n",
       "      <td>given the recent discovery that immunosuppression with dexamethasone prevents death in severe covid-19, our observations support virus-independent immunopathology being one of the primary mechanisms underlying fatal covid-19.</td>\n",
       "      <td>[dexamethasone]</td>\n",
       "      <td>[dexamethasone]</td>\n",
       "    </tr>\n",
       "    <tr>\n",
       "      <th>49</th>\n",
       "      <td>49</td>\n",
       "      <td>NEUTRAL</td>\n",
       "      <td>Demo-Annotations_43573ac3-R1</td>\n",
       "      <td>Claim1:\\n\\nthe prevalent use of chloroquine and hydroxychloroquine in malaria endemic zones could be a reason for the reduced case burden and burden of mortality from covid-19 in these areas.\\n\\nClaim2:\\n\\nfollowing points can be concluded and to be considered during the use of aminoquinolines (chloroquine and hydroxychloroquine) for the treatment of covid-19 infection  i)history of previous or ongoing use of chloroquine and hydroxychloroquine in malaria, amebiasis, rheumatoid arthritis, and systemic lupus;ii)higher risk of development of retinopathy in asian patients;iii)periodical monitoring of patients with vision problems, cardiovascular problems;iv)to measure central and peripheral visual acuity;v)drug interaction with kaolin clay and antacids reduces antiviral and anti-inflammatory action;vi)regular monitoring for symptoms like ocular pruritus and cardiac arrhythmias;vii)aminoquinolines decreases activity of immunosupressants and antibiotics;viii)other aminoquinoline analog, mefloquine is associated with increased risk of convulsion;ix)the toxicity is associated with the dose calculated by real weight and therefore dose should be suitable for patients with potential high risk of adverse effects.</td>\n",
       "      <td>152</td>\n",
       "      <td>njzgateb</td>\n",
       "      <td>qe56u93a</td>\n",
       "      <td>neutral</td>\n",
       "      <td>the prevalent use of chloroquine and hydroxychloroquine in malaria endemic zones could be a reason for the reduced case burden and burden of mortality from covid-19 in these areas.</td>\n",
       "      <td>following points can be concluded and to be considered during the use of aminoquinolines (chloroquine and hydroxychloroquine) for the treatment of covid-19 infection  i)history of previous or ongoing use of chloroquine and hydroxychloroquine in malaria, amebiasis, rheumatoid arthritis, and systemic lupus;ii)higher risk of development of retinopathy in asian patients;iii)periodical monitoring of patients with vision problems, cardiovascular problems;iv)to measure central and peripheral visual acuity;v)drug interaction with kaolin clay and antacids reduces antiviral and anti-inflammatory action;vi)regular monitoring for symptoms like ocular pruritus and cardiac arrhythmias;vii)aminoquinolines decreases activity of immunosupressants and antibiotics;viii)other aminoquinoline analog, mefloquine is associated with increased risk of convulsion;ix)the toxicity is associated with the dose calculated by real weight and therefore dose should be suitable for patients with potential high risk of adverse effects.</td>\n",
       "      <td>[hydroxychloroquine, chloroquine]</td>\n",
       "      <td>[hydroxychloroquine, chloroquine]</td>\n",
       "    </tr>\n",
       "    <tr>\n",
       "      <th>52</th>\n",
       "      <td>52</td>\n",
       "      <td>NEUTRAL</td>\n",
       "      <td>Demo-Annotations_43573ac3-R1</td>\n",
       "      <td>Claim1:\\n\\n[16] administration of azithromycin and hydroxychloroquine was associated with increased odds of mortality among covid-19 patients with comorbidity, but only azithromycin administration without hydroxychloroquine was significant after adjusting for confounding factors.\\n\\nClaim2:\\n\\nthus, we aimed to investigate the electrocardiographic and mortality effects ofchloroquineand hydroxychloroquine in a primary care population.</td>\n",
       "      <td>864</td>\n",
       "      <td>5qito0n5</td>\n",
       "      <td>s928u6g3</td>\n",
       "      <td>neutral</td>\n",
       "      <td>[16] administration of azithromycin and hydroxychloroquine was associated with increased odds of mortality among covid-19 patients with comorbidity, but only azithromycin administration without hydroxychloroquine was significant after adjusting for confounding factors.</td>\n",
       "      <td>thus, we aimed to investigate the electrocardiographic and mortality effects ofchloroquineand hydroxychloroquine in a primary care population.</td>\n",
       "      <td>[hydroxychloroquine]</td>\n",
       "      <td>[hydroxychloroquine]</td>\n",
       "    </tr>\n",
       "    <tr>\n",
       "      <th>53</th>\n",
       "      <td>53</td>\n",
       "      <td>NEUTRAL</td>\n",
       "      <td>Demo-Annotations_43573ac3-R1</td>\n",
       "      <td>Claim1:\\n\\namong the studied comorbidities, diabetes, pure hypercholesterolemia, asthma, copd, chronic kidney disease, cardiovascular disease, osteoarthritis, and vitamin d deficiency were risk factors associated with hospitalization and/or severe covid-19.\\n\\nClaim2:\\n\\n5 shows that there is no regular relation for mortality or recovery rate by increasing vitamin d levels, but significant fluctuations observe regarding each country.</td>\n",
       "      <td>214</td>\n",
       "      <td>7hnh85wy</td>\n",
       "      <td>8hvve871</td>\n",
       "      <td>neutral</td>\n",
       "      <td>among the studied comorbidities, diabetes, pure hypercholesterolemia, asthma, copd, chronic kidney disease, cardiovascular disease, osteoarthritis, and vitamin d deficiency were risk factors associated with hospitalization and/or severe covid-19.</td>\n",
       "      <td>5 shows that there is no regular relation for mortality or recovery rate by increasing vitamin d levels, but significant fluctuations observe regarding each country.</td>\n",
       "      <td>[vitamin d]</td>\n",
       "      <td>[vitamin d]</td>\n",
       "    </tr>\n",
       "    <tr>\n",
       "      <th>54</th>\n",
       "      <td>54</td>\n",
       "      <td>NEUTRAL</td>\n",
       "      <td>Demo-Annotations_43573ac3-R1</td>\n",
       "      <td>Claim1:\\n\\nthis is the first randomized controlled trial evaluating the efficacy of early dexamethasone administration in moderate and severe ards caused by the sars-cov2 virus.\\n\\nClaim2:\\n\\nwe recommend decreasing the dose of dexamethasone to 20 mg p.o.</td>\n",
       "      <td>865</td>\n",
       "      <td>dgy7qbl5</td>\n",
       "      <td>omen8vvq</td>\n",
       "      <td>neutral</td>\n",
       "      <td>this is the first randomized controlled trial evaluating the efficacy of early dexamethasone administration in moderate and severe ards caused by the sars-cov2 virus.</td>\n",
       "      <td>we recommend decreasing the dose of dexamethasone to 20 mg p.o.</td>\n",
       "      <td>[dexamethasone]</td>\n",
       "      <td>[dexamethasone]</td>\n",
       "    </tr>\n",
       "    <tr>\n",
       "      <th>60</th>\n",
       "      <td>60</td>\n",
       "      <td>NEUTRAL</td>\n",
       "      <td>Demo-Annotations_43573ac3-R1</td>\n",
       "      <td>Claim1:\\n\\nafter covariate adjustment (table 1) in our hospitalized cohort treated with hydroxychloroquine for covid-19 pneumonia, aceis/arbs were independently associated with a lower hazard of mortality or severe disease requiring intensive care unit admission.\\n\\nClaim2:\\n\\nthus, we aimed to investigate the electrocardiographic and mortality effects ofchloroquineand hydroxychloroquine in a primary care population.</td>\n",
       "      <td>480</td>\n",
       "      <td>81yxc1v8</td>\n",
       "      <td>s928u6g3</td>\n",
       "      <td>neutral</td>\n",
       "      <td>after covariate adjustment (table 1) in our hospitalized cohort treated with hydroxychloroquine for covid-19 pneumonia, aceis/arbs were independently associated with a lower hazard of mortality or severe disease requiring intensive care unit admission.</td>\n",
       "      <td>thus, we aimed to investigate the electrocardiographic and mortality effects ofchloroquineand hydroxychloroquine in a primary care population.</td>\n",
       "      <td>[hydroxychloroquine]</td>\n",
       "      <td>[hydroxychloroquine]</td>\n",
       "    </tr>\n",
       "    <tr>\n",
       "      <th>63</th>\n",
       "      <td>63</td>\n",
       "      <td>ENTAILMENT</td>\n",
       "      <td>Demo-Annotations_43573ac3-R1</td>\n",
       "      <td>Claim1:\\n\\nan in vitro study found that remdesivir and chloroquine inhibit viral infection, but further study is required [84,85].\\n\\nClaim2:\\n\\nspecific therapeutic procedures suggested to improve covid-19 patient survival, eg anti-il-6 ab (23,25,27,28), chloroquine analogs (29), remdesivir (30), should be investigated also in this sars-cov-2 negative cancer patient population presenting with severe symptoms suggestive of covid-19.</td>\n",
       "      <td>441</td>\n",
       "      <td>yy7abob9</td>\n",
       "      <td>nxkxoved</td>\n",
       "      <td>entailment</td>\n",
       "      <td>an in vitro study found that remdesivir and chloroquine inhibit viral infection, but further study is required [84,85].</td>\n",
       "      <td>specific therapeutic procedures suggested to improve covid-19 patient survival, eg anti-il-6 ab (23,25,27,28), chloroquine analogs (29), remdesivir (30), should be investigated also in this sars-cov-2 negative cancer patient population presenting with severe symptoms suggestive of covid-19.</td>\n",
       "      <td>[chloroquine, remdesivir]</td>\n",
       "      <td>[chloroquine, remdesivir]</td>\n",
       "    </tr>\n",
       "    <tr>\n",
       "      <th>64</th>\n",
       "      <td>64</td>\n",
       "      <td>ENTAILMENT</td>\n",
       "      <td>Demo-Annotations_43573ac3-R1</td>\n",
       "      <td>Claim1:\\n\\nthis retrospective observational study is to our knowledge the first to show a correlation between vitamin d deficiency, the risk to be hospitalized for severe covid-19 pneumonia and its radiological is the author/funder, who has granted medrxiv a license to display the preprint in perpetuity.\\n\\nClaim2:\\n\\nconclusions in this review, we suggest that vitamin d supplementation might play a role in the prevention and/or treatment to sars-cov-2 infection disease, by modulating the immune response to the virus both in the adult and pediatric population.</td>\n",
       "      <td>483</td>\n",
       "      <td>rpmmadqc</td>\n",
       "      <td>rvwxysvc</td>\n",
       "      <td>entailment</td>\n",
       "      <td>this retrospective observational study is to our knowledge the first to show a correlation between vitamin d deficiency, the risk to be hospitalized for severe covid-19 pneumonia and its radiological is the author/funder, who has granted medrxiv a license to display the preprint in perpetuity.</td>\n",
       "      <td>conclusions in this review, we suggest that vitamin d supplementation might play a role in the prevention and/or treatment to sars-cov-2 infection disease, by modulating the immune response to the virus both in the adult and pediatric population.</td>\n",
       "      <td>[vitamin d]</td>\n",
       "      <td>[vitamin d]</td>\n",
       "    </tr>\n",
       "  </tbody>\n",
       "</table>\n",
       "</div>"
      ],
      "text/plain": [
       "    docnum                  tags                        source                                                                                                                                                                                                                                                                                                                                                                                                                                                                                                                                                                                                                                                                                                                                                                                                                                                                                                                                                                                                                                                                                                                                                                                                                                                                  text  row_id paper1_cord_uid paper2_cord_uid          label                                                                                                                                                                                                                                                                                                                                                                         claim1                                                                                                                                                                                                                                                                                                                                                                                                                                                                                                                                                                                                                                                                                                                                                                                                                                                                                                                                                                                                                                                  claim2                       claim1_drugs                       claim2_drugs\n",
       "1   1       NEUTRAL               Demo-Annotations_43573ac3-R1  Claim1:\\n\\n15 our regression model identified age as a determinant in responsiveness to lopinavir/ritonavir, with efficacy being related to younger ages.\\n\\nClaim2:\\n\\nthese findings formed the basis of a recent randomized clinical treatment trial which showed that the triple combination of antiviral therapy with ifn -1b, lopinavirritonavir, and ribavirin is safe and highly effective in shortening the duration of virus shedding, decreasing cytokine responses, alleviating symptoms, and facilitating the discharge of patients with mild to moderate covid-19 (47) .                                                                                                                                                                                                                                                                                                                                                                                                                                                                                                                                                                                                                                                                                413     36amafub        rirbffi6        neutral        15 our regression model identified age as a determinant in responsiveness to lopinavir/ritonavir, with efficacy being related to younger ages.                                                                                                                                                                                                                                 these findings formed the basis of a recent randomized clinical treatment trial which showed that the triple combination of antiviral therapy with ifn -1b, lopinavirritonavir, and ribavirin is safe and highly effective in shortening the duration of virus shedding, decreasing cytokine responses, alleviating symptoms, and facilitating the discharge of patients with mild to moderate covid-19 (47) .                                                                                                                                                                                                                                                                                                                                                                                                                                                                                                                                                                                                                                          [lopinavir]                        [lopinavir]                      \n",
       "2   2       NEUTRAL               Demo-Annotations_43573ac3-R1  Claim1:\\n\\nn/a fax: +90 322 458 88 54 inhibition of the raas, weight loss, vitamin d supplementation, management of osa as well as prevention of sarcopenia/frailty.\\n\\nClaim2:\\n\\nwe observed weak but beneficial class effects of -blockers, mtor/pi3k inhibitors and vitamin d analogues and a mild amplification of the viral phenotype with -agonists.                                                                                                                                                                                                                                                                                                                                                                                                                                                                                                                                                                                                                                                                                                                                                                                                                                                                                                           431     1emlkii0        27f9241x        neutral        n/a fax: +90 322 458 88 54 inhibition of the raas, weight loss, vitamin d supplementation, management of osa as well as prevention of sarcopenia/frailty.                                                                                                                                                                                                                      we observed weak but beneficial class effects of -blockers, mtor/pi3k inhibitors and vitamin d analogues and a mild amplification of the viral phenotype with -agonists.                                                                                                                                                                                                                                                                                                                                                                                                                                                                                                                                                                                                                                                                                                                                                                                                                                                                                [vitamin d]                        [vitamin d]                      \n",
       "4   4       ENTAILMENT            Demo-Annotations_43573ac3-R1  Claim1:\\n\\nfurthermore, despite the favorable outcomes of high dose dexamethasone treatment for the acute respiratory distress syndrome 20 , the role of intravenous steroids in ktr with covid-19 remains unknown.\\n\\nClaim2:\\n\\nit is important to underline that the immunomodulating therapies used in our patient (metilprednisolone, igiv, plasma-exchange) have not aggravated the sars-cov-2 infection, and besides having a positive effect on the management of the anti-nmda encephalitis, they could also have been helpful in the treatment of covid-19 due to immunosuppression/anti-inflammation properties, and among steroids especially dexamethasone [8].                                                                                                                                                                                                                                                                                                                                                                                                                                                                                                                                                                                          14      v17l6t5u        kmzum2a9        entailment     furthermore, despite the favorable outcomes of high dose dexamethasone treatment for the acute respiratory distress syndrome 20 , the role of intravenous steroids in ktr with covid-19 remains unknown.                                                                                                                                                                       it is important to underline that the immunomodulating therapies used in our patient (metilprednisolone, igiv, plasma-exchange) have not aggravated the sars-cov-2 infection, and besides having a positive effect on the management of the anti-nmda encephalitis, they could also have been helpful in the treatment of covid-19 due to immunosuppression/anti-inflammation properties, and among steroids especially dexamethasone [8].                                                                                                                                                                                                                                                                                                                                                                                                                                                                                                                                                                                                              [dexamethasone]                    [dexamethasone]                  \n",
       "5   5       CONTRADICTION         Demo-Annotations_43573ac3-R1  Claim1:\\n\\nword count: 248 take home: this study demonstrates that the use of hydroxychloroquine with or without azithromycin might have benefits in positive-to-negative conversion of sars-cov-2 and reduction of progression rate, but was associated with increased mortality in covid-19.\\n\\nClaim2:\\n\\nsimilarly, a report from france with 181 patients with covid-19 pneumonia found no difference in terms of mortality and icu admission in patients treated with hydroxychloroquine compared to the standard of care [5] .                                                                                                                                                                                                                                                                                                                                                                                                                                                                                                                                                                                                                                                                                                                                 967     2f6nj4to        n6juf8tw        contradiction  word count: 248 take home: this study demonstrates that the use of hydroxychloroquine with or without azithromycin might have benefits in positive-to-negative conversion of sars-cov-2 and reduction of progression rate, but was associated with increased mortality in covid-19.                                                                                            similarly, a report from france with 181 patients with covid-19 pneumonia found no difference in terms of mortality and icu admission in patients treated with hydroxychloroquine compared to the standard of care [5] .                                                                                                                                                                                                                                                                                                                                                                                                                                                                                                                                                                                                                                                                                                                                                                                                                                [hydroxychloroquine]               [hydroxychloroquine]             \n",
       "7   7       NEUTRAL               Demo-Annotations_43573ac3-R1  Claim1:\\n\\nto date, data about the use of tocilizumab in the treatment of acute lung injury in patients\\n\\nClaim2:\\n\\nwe report herein our experience regarding the off-label treatment with tocilizumab of the first 51 patients with severe and critical forms of covid-19.                                                                                                                                                                                                                                                                                                                                                                                                                                                                                                                                                                                                                                                                                                                                                                                                                                                                                                                                                                                         594     3od9m8gh        e5hi63rm        neutral        to date, data about the use of tocilizumab in the treatment of acute lung injury in patients                                                                                                                                                                                                                                                                                   we report herein our experience regarding the off-label treatment with tocilizumab of the first 51 patients with severe and critical forms of covid-19.                                                                                                                                                                                                                                                                                                                                                                                                                                                                                                                                                                                                                                                                                                                                                                                                                                                                                                 [tocilizumab]                      [tocilizumab]                    \n",
       "9   9       NEUTRAL               Demo-Annotations_43573ac3-R1  Claim1:\\n\\nthe role of convalescent plasma transfusion and recent antiviral agents such as ivermectin and remdesivir, in improving covid-19 prognosis in high-risk patients remains to be demonstrated.\\n\\nClaim2:\\n\\nremdesivir, an adenosine analog that incorporates into rna and causes premature termination, is a promising antiviral agent, with preliminary reports suggesting clinical benefit in adult patients.                                                                                                                                                                                                                                                                                                                                                                                                                                                                                                                                                                                                                                                                                                                                                                                                                                            790     6kn4mr04        t6w7p90m        neutral        the role of convalescent plasma transfusion and recent antiviral agents such as ivermectin and remdesivir, in improving covid-19 prognosis in high-risk patients remains to be demonstrated.                                                                                                                                                                                   remdesivir, an adenosine analog that incorporates into rna and causes premature termination, is a promising antiviral agent, with preliminary reports suggesting clinical benefit in adult patients.                                                                                                                                                                                                                                                                                                                                                                                                                                                                                                                                                                                                                                                                                                                                                                                                                                                    [remdesivir]                       [remdesivir]                     \n",
       "10  10      ENTAILMENT            Demo-Annotations_43573ac3-R1  Claim1:\\n\\n12, 13 the findings of our study are similar to the observational study from a new york hospital which reported no beneficial effect of hydroxychloroquine treatment on respiratory failure or mortality in patients hospitalized with covid-19.\\n\\nClaim2:\\n\\nour findings suggest that patients treated by association of hydroxychloroquine andazithromycinare at greater risk of mortality compared with the 'neither drug' group.                                                                                                                                                                                                                                                                                                                                                                                                                                                                                                                                                                                                                                                                                                                                                                                                                     371     yxuzc18x        7qdjea6f        entailment     12, 13 the findings of our study are similar to the observational study from a new york hospital which reported no beneficial effect of hydroxychloroquine treatment on respiratory failure or mortality in patients hospitalized with covid-19.                                                                                                                               our findings suggest that patients treated by association of hydroxychloroquine andazithromycinare at greater risk of mortality compared with the 'neither drug' group.                                                                                                                                                                                                                                                                                                                                                                                                                                                                                                                                                                                                                                                                                                                                                                                                                                                                                 [hydroxychloroquine]               [hydroxychloroquine]             \n",
       "12  12      NEUTRAL               Demo-Annotations_43573ac3-R1  Claim1:\\n\\nthe improvement in oxygenation and inflammatory markers with no increase secondary infections or intra-hospital mortality suggests that tocilizumab could be an option for patients with progressive covid-19 after initiation of systemic corticosteroids.\\n\\nClaim2:\\n\\nthe mortality rate over a 30-days observation period was 27%, including 5/6 patients (83%) who were receiving invasive ventilation at the time of tocilizumab treatment and 9 of 45 (20%) who were receiving noninvasive oxygen support.                                                                                                                                                                                                                                                                                                                                                                                                                                                                                                                                                                                                                                                                                                                                         393     f7omk8ut        e5hi63rm        neutral        the improvement in oxygenation and inflammatory markers with no increase secondary infections or intra-hospital mortality suggests that tocilizumab could be an option for patients with progressive covid-19 after initiation of systemic corticosteroids.                                                                                                                    the mortality rate over a 30-days observation period was 27%, including 5/6 patients (83%) who were receiving invasive ventilation at the time of tocilizumab treatment and 9 of 45 (20%) who were receiving noninvasive oxygen support.                                                                                                                                                                                                                                                                                                                                                                                                                                                                                                                                                                                                                                                                                                                                                                                                                [tocilizumab]                      [tocilizumab]                    \n",
       "14  14      NEUTRAL               Demo-Annotations_43573ac3-R1  Claim1:\\n\\nwe used tocilizumab in both of our cases to counteract the hyperinflammatory state and cytokine storm associated with increased mortality in covid 19 patients in china.\\n\\nClaim2:\\n\\nthe mortality rate over a 30-days observation period was 27%, including 5/6 patients (83%) who were receiving invasive ventilation at the time of tocilizumab treatment and 9 of 45 (20%) who were receiving noninvasive oxygen support.                                                                                                                                                                                                                                                                                                                                                                                                                                                                                                                                                                                                                                                                                                                                                                                                                            146     l0rk37zb        e5hi63rm        neutral        we used tocilizumab in both of our cases to counteract the hyperinflammatory state and cytokine storm associated with increased mortality in covid 19 patients in china.                                                                                                                                                                                                       the mortality rate over a 30-days observation period was 27%, including 5/6 patients (83%) who were receiving invasive ventilation at the time of tocilizumab treatment and 9 of 45 (20%) who were receiving noninvasive oxygen support.                                                                                                                                                                                                                                                                                                                                                                                                                                                                                                                                                                                                                                                                                                                                                                                                                [tocilizumab]                      [tocilizumab]                    \n",
       "19  19      NEUTRAL               Demo-Annotations_43573ac3-R1  Claim1:\\n\\nto date, data about the use of tocilizumab in the treatment of acute lung injury in patients\\n\\nClaim2:\\n\\nin addition, this case demonstrates the effective use of tocilizumab for the treatment of sars-cov-2 and suggests the superiority of tocilizumab over lenzilumab in the management of this cytokine-mediated syndrome.                                                                                                                                                                                                                                                                                                                                                                                                                                                                                                                                                                                                                                                                                                                                                                                                                                                                                                                          595     3od9m8gh        2y8x05a1        neutral        to date, data about the use of tocilizumab in the treatment of acute lung injury in patients                                                                                                                                                                                                                                                                                   in addition, this case demonstrates the effective use of tocilizumab for the treatment of sars-cov-2 and suggests the superiority of tocilizumab over lenzilumab in the management of this cytokine-mediated syndrome.                                                                                                                                                                                                                                                                                                                                                                                                                                                                                                                                                                                                                                                                                                                                                                                                                                  [tocilizumab]                      [tocilizumab]                    \n",
       "22  22      NEUTRAL               Demo-Annotations_43573ac3-R1  Claim1:\\n\\nwe report herein our experience regarding the off-label treatment with tocilizumab of the first 51 patients with severe and critical forms of covid-19.\\n\\nClaim2:\\n\\nmet exclusion criteria (n=35): heart failure as main cause of arf (n=2), decompensated liver cirrhosis (n=3), on long-term oxygen therapy and/or home ventilation (n=2), dementia or severe neurodegenerative condition (n=14), active cancer (n=3), on chronic steroid therapy (n=4), use of tocilizumab or other experimental treatment (n=7).                                                                                                                                                                                                                                                                                                                                                                                                                                                                                                                                                                                                                                                                                                                                     37      e5hi63rm        le28oadk        neutral        we report herein our experience regarding the off-label treatment with tocilizumab of the first 51 patients with severe and critical forms of covid-19.                                                                                                                                                                                                                        met exclusion criteria (n=35): heart failure as main cause of arf (n=2), decompensated liver cirrhosis (n=3), on long-term oxygen therapy and/or home ventilation (n=2), dementia or severe neurodegenerative condition (n=14), active cancer (n=3), on chronic steroid therapy (n=4), use of tocilizumab or other experimental treatment (n=7).                                                                                                                                                                                                                                                                                                                                                                                                                                                                                                                                                                                                                                                                                                        [tocilizumab]                      [tocilizumab]                    \n",
       "25  25      ENTAILMENT            Demo-Annotations_43573ac3-R1  Claim1:\\n\\ninterferon-alpha, lopinavir-ritonavir, and chloroquine could be good candidates for the treatment of covid-19 during pregnancy, but more work is needed to explore their effectiveness and safety.\\n\\nClaim2:\\n\\nbroad-spectrum antiviral like remdisivir, chloroquine phosphate, favipiravir, oseltamivir,  -interferon, lopinavir + ritonavir, ribavirin possibly present a light of hope on the novel covid-19 management side by side with the proper public health strategies also very important to contain this outbreak.                                                                                                                                                                                                                                                                                                                                                                                                                                                                                                                                                                                                                                                                                                                           11      rn714n1p        gerhoy8w        entailment     interferon-alpha, lopinavir-ritonavir, and chloroquine could be good candidates for the treatment of covid-19 during pregnancy, but more work is needed to explore their effectiveness and safety.                                                                                                                                                                             broad-spectrum antiviral like remdisivir, chloroquine phosphate, favipiravir, oseltamivir,  -interferon, lopinavir + ritonavir, ribavirin possibly present a light of hope on the novel covid-19 management side by side with the proper public health strategies also very important to contain this outbreak.                                                                                                                                                                                                                                                                                                                                                                                                                                                                                                                                                                                                                                                                                                                                         [chloroquine, lopinavir]           [chloroquine, lopinavir]         \n",
       "27  27      NEUTRAL               Demo-Annotations_43573ac3-R1  Claim1:\\n\\nall 50 (100%) patients received antiviral therapy (oseltamivir or arbidol), 36 (72%) received antibiotic therapy, 44 (88%) received immunomodulatory therapy (hydroxychloroquine or chloroquine phosphate), and 34 (68%) were given short-term (3-5 days) and low-dose systematic corticosteroids; higher percentages of severe patients received these therapies (table 4) .\\n\\nClaim2:\\n\\nthe goal of this review was not to evaluate if chloroquine or hydroxychloroquine is an effective therapy against covid-19.                                                                                                                                                                                                                                                                                                                                                                                                                                                                                                                                                                                                                                                                                                                                     551     aidsz3st        t0pped9r        neutral        all 50 (100%) patients received antiviral therapy (oseltamivir or arbidol), 36 (72%) received antibiotic therapy, 44 (88%) received immunomodulatory therapy (hydroxychloroquine or chloroquine phosphate), and 34 (68%) were given short-term (3-5 days) and low-dose systematic corticosteroids; higher percentages of severe patients received these therapies (table 4) .  the goal of this review was not to evaluate if chloroquine or hydroxychloroquine is an effective therapy against covid-19.                                                                                                                                                                                                                                                                                                                                                                                                                                                                                                                                                                                                                                                                                                                                                                                                                                                                                                                              [hydroxychloroquine, chloroquine]  [hydroxychloroquine, chloroquine]\n",
       "28  28      NEUTRAL               Demo-Annotations_43573ac3-R1  Claim1:\\n\\nin moderate to severe ards covid-19 patients, we did not observe an association between treatment with hydroxychloroquine or lopinavir/ritonavir and ventilatory free days as compared to no antiviral treatment.\\n\\nClaim2:\\n\\nthe third patient, who had started receiving hydroxychloroquine 5 days after the admission, was transferred to intensive care 2 days later and was then prescribed an off-label therapy with ritonavir and lopinavir for severe acute respiratory syndrome coronavirus 2 (sars-cov-2) pneumonia; this patient developed a left bundle branch block due to hydroxychloroquine on hospital day 8 [not all durations of treatments to reactions onsets stated].                                                                                                                                                                                                                                                                                                                                                                                                                                                                                                                                                               927     27t269pd        cpkmdhup        neutral        in moderate to severe ards covid-19 patients, we did not observe an association between treatment with hydroxychloroquine or lopinavir/ritonavir and ventilatory free days as compared to no antiviral treatment.                                                                                                                                                              the third patient, who had started receiving hydroxychloroquine 5 days after the admission, was transferred to intensive care 2 days later and was then prescribed an off-label therapy with ritonavir and lopinavir for severe acute respiratory syndrome coronavirus 2 (sars-cov-2) pneumonia; this patient developed a left bundle branch block due to hydroxychloroquine on hospital day 8 [not all durations of treatments to reactions onsets stated].                                                                                                                                                                                                                                                                                                                                                                                                                                                                                                                                                                                            [hydroxychloroquine, lopinavir]    [hydroxychloroquine, lopinavir]  \n",
       "30  30      NEUTRAL               Demo-Annotations_43573ac3-R1  Claim1:\\n\\noverall, 41% of deaths from respiratory 159 diseases were statistically attributable to vitamin d insufficiency or deficiency, and could 160 possibly be avoided by overcoming these conditions assuming causality of the association.\\n\\nClaim2:\\n\\nto assess the overall effect of vitamin d supplementation on risk of acute respiratory infection (ari), and to identify factors modifying this effect.                                                                                                                                                                                                                                                                                                                                                                                                                                                                                                                                                                                                                                                                                                                                                                                                                                                947     xi6zn0am        mfta0emi        neutral        overall, 41% of deaths from respiratory 159 diseases were statistically attributable to vitamin d insufficiency or deficiency, and could 160 possibly be avoided by overcoming these conditions assuming causality of the association.                                                                                                                                         to assess the overall effect of vitamin d supplementation on risk of acute respiratory infection (ari), and to identify factors modifying this effect.                                                                                                                                                                                                                                                                                                                                                                                                                                                                                                                                                                                                                                                                                                                                                                                                                                                                                                  [vitamin d]                        [vitamin d]                      \n",
       "31  31      ENTAILMENT            Demo-Annotations_43573ac3-R1  Claim1:\\n\\non the basis of hydroxychloroquine's superior antiviral and prophylactic activity, as well as its more tolerable safety profile in comparison to chloroquine, we believe that hydroxychloroquine may be a promising drug for the treatment of sars-cov-2 infection [24] .\\n\\nClaim2:\\n\\nconcurrent administration of some drugs should avoided including drugs which can prolong qt interval (examples: quinolones, macrolides, ondansetron), anti-arrhythmic, anti-depressant and antipsychotic drugs. the italian society of infectious and tropical disease, lombardy section suggests administration of chloroquine (500 mg, twice a day) or hydroxychloroquine (200 mg per day for 10 days) (5 to 20 days treatment depending on clinical severity) [133]. another guideline as documented by the dutch center of disease control (cdc) recommended use of chloroquine to treat severe infections with requirement of oxygen therapy and optimal supportive care [134].                                                                                                                                                                                                                                                                               4       sdij1d90        qe56u93a        entailment     on the basis of hydroxychloroquine's superior antiviral and prophylactic activity, as well as its more tolerable safety profile in comparison to chloroquine, we believe that hydroxychloroquine may be a promising drug for the treatment of sars-cov-2 infection [24] .                                                                                                      concurrent administration of some drugs should avoided including drugs which can prolong qt interval (examples: quinolones, macrolides, ondansetron), anti-arrhythmic, anti-depressant and antipsychotic drugs. the italian society of infectious and tropical disease, lombardy section suggests administration of chloroquine (500 mg, twice a day) or hydroxychloroquine (200 mg per day for 10 days) (5 to 20 days treatment depending on clinical severity) [133]. another guideline as documented by the dutch center of disease control (cdc) recommended use of chloroquine to treat severe infections with requirement of oxygen therapy and optimal supportive care [134].                                                                                                                                                                                                                                                                                                                                                                    [hydroxychloroquine, chloroquine]  [hydroxychloroquine, chloroquine]\n",
       "32  32      NEUTRAL               Demo-Annotations_43573ac3-R1  Claim1:\\n\\nthe study discusses the possible role of adequate vitamin d status in plasma or serum for preventing acute respiratory infections during the covid-19 pandemic.\\n\\nClaim2:\\n\\nin particular, mortality from 155 respiratory diseases was 2.1-and 3.0-fold increased in subjects with vitamin d insufficiency 156 or deficiency, respectively, compared to participants with sufficient vitamin d status.                                                                                                                                                                                                                                                                                                                                                                                                                                                                                                                                                                                                                                                                                                                                                                                                                                                   49      lppdauei        xi6zn0am        neutral        the study discusses the possible role of adequate vitamin d status in plasma or serum for preventing acute respiratory infections during the covid-19 pandemic.                                                                                                                                                                                                                in particular, mortality from 155 respiratory diseases was 2.1-and 3.0-fold increased in subjects with vitamin d insufficiency 156 or deficiency, respectively, compared to participants with sufficient vitamin d status.                                                                                                                                                                                                                                                                                                                                                                                                                                                                                                                                                                                                                                                                                                                                                                                                                              [vitamin d]                        [vitamin d]                      \n",
       "33  33      NEUTRAL               Demo-Annotations_43573ac3-R1  Claim1:\\n\\nas 166 addressed in detail elsewhere (6), interpretation of the evidence is further complicated by the 167 fact that vitamin d deficiency could be considered both a consequence of poor health as well 168 as a risk factor for increased vulnerability to acute disease and poor outcomes of chronic 169 diseases among people with poor health.\\n\\nClaim2:\\n\\nfurther studies need to be conducted on a larger population, to demonstrate whether adjunctive treatment with vitamin d might be effective in improving disease outcomes and in reducing mortality risk.                                                                                                                                                                                                                                                                                                                                                                                                                                                                                                                                                                                                                                                                                  875     xi6zn0am        be8eu3qi        neutral        as 166 addressed in detail elsewhere (6), interpretation of the evidence is further complicated by the 167 fact that vitamin d deficiency could be considered both a consequence of poor health as well 168 as a risk factor for increased vulnerability to acute disease and poor outcomes of chronic 169 diseases among people with poor health.                             further studies need to be conducted on a larger population, to demonstrate whether adjunctive treatment with vitamin d might be effective in improving disease outcomes and in reducing mortality risk.                                                                                                                                                                                                                                                                                                                                                                                                                                                                                                                                                                                                                                                                                                                                                                                                                                                [vitamin d]                        [vitamin d]                      \n",
       "34  34      ENTAILMENT            Demo-Annotations_43573ac3-R1  Claim1:\\n\\nour hypothesis is that oral administration of hydroxychloroquine to healthcare professionals can reduce the incidence and prevalence of infection as well as its severity in this group.\\n\\nClaim2:\\n\\nword count: 248 take home: this study demonstrates that the use of hydroxychloroquine with or without azithromycin might have benefits in positive-to-negative conversion of sars-cov-2 and reduction of progression rate, but was associated with increased mortality in covid-19.                                                                                                                                                                                                                                                                                                                                                                                                                                                                                                                                                                                                                                                                                                                                                                 225     6ngxo8ff        2f6nj4to        entailment     our hypothesis is that oral administration of hydroxychloroquine to healthcare professionals can reduce the incidence and prevalence of infection as well as its severity in this group.                                                                                                                                                                                       word count: 248 take home: this study demonstrates that the use of hydroxychloroquine with or without azithromycin might have benefits in positive-to-negative conversion of sars-cov-2 and reduction of progression rate, but was associated with increased mortality in covid-19.                                                                                                                                                                                                                                                                                                                                                                                                                                                                                                                                                                                                                                                                                                                                                                     [hydroxychloroquine]               [hydroxychloroquine]             \n",
       "40  40      NEUTRAL               Demo-Annotations_43573ac3-R1  Claim1:\\n\\na number of clues point to a possible role of vitamin d in fighting covid-19: a reduction in case growth speed with solar zenith angle, higher fatality rate in black people, lower fatality rate in populations that spend more time outdoors.\\n\\nClaim2:\\n\\nfurther studies need to be conducted on a larger population, to demonstrate whether adjunctive treatment with vitamin d might be effective in improving disease outcomes and in reducing mortality risk.                                                                                                                                                                                                                                                                                                                                                                                                                                                                                                                                                                                                                                                                                                                                                                                     539     jdrhu6l1        be8eu3qi        neutral        a number of clues point to a possible role of vitamin d in fighting covid-19: a reduction in case growth speed with solar zenith angle, higher fatality rate in black people, lower fatality rate in populations that spend more time outdoors.                                                                                                                                further studies need to be conducted on a larger population, to demonstrate whether adjunctive treatment with vitamin d might be effective in improving disease outcomes and in reducing mortality risk.                                                                                                                                                                                                                                                                                                                                                                                                                                                                                                                                                                                                                                                                                                                                                                                                                                                [vitamin d]                        [vitamin d]                      \n",
       "42  42      ENTAILMENT            Demo-Annotations_43573ac3-R1  Claim1:\\n\\nour results suggest that tocilizumab reduces mortality and/or invasive mechanical ventilation requirement in patients with severe sars-cov-2 pneumonia.\\n\\nClaim2:\\n\\nin the single, non-randomized study published investigating the effect of tocilizumab treatment, decreased levels of serum il-6, improved clinical and radiological status, and the absence of mortality were observed.                                                                                                                                                                                                                                                                                                                                                                                                                                                                                                                                                                                                                                                                                                                                                                                                                                                              826     l6quzef6        nadcsiii        entailment     our results suggest that tocilizumab reduces mortality and/or invasive mechanical ventilation requirement in patients with severe sars-cov-2 pneumonia.                                                                                                                                                                                                                        in the single, non-randomized study published investigating the effect of tocilizumab treatment, decreased levels of serum il-6, improved clinical and radiological status, and the absence of mortality were observed.                                                                                                                                                                                                                                                                                                                                                                                                                                                                                                                                                                                                                                                                                                                                                                                                                                 [tocilizumab]                      [tocilizumab]                    \n",
       "43  43      NEUTRAL               Demo-Annotations_43573ac3-R1  Claim1:\\n\\nto maintain optimal treatment-intensity, both started their subsequent cycles of chemotherapy despite persistent pcr positivity: patient 3 commenced fludarabine-containing chemotherapy (flag-ida) and patient 4 received interim maintenance with vincristine, dexamethasone, methotrexate and 6-mercaptopurine, uneventfully.\\n\\nClaim2:\\n\\nit is important to underline that the immunomodulating therapies used in our patient (metilprednisolone, igiv, plasma-exchange) have not aggravated the sars-cov-2 infection, and besides having a positive effect on the management of the anti-nmda encephalitis, they could also have been helpful in the treatment of covid-19 due to immunosuppression/anti-inflammation properties, and among steroids especially dexamethasone [8].                                                                                                                                                                                                                                                                                                                                                                                                                                                                  278     lp8342pn        kmzum2a9        neutral        to maintain optimal treatment-intensity, both started their subsequent cycles of chemotherapy despite persistent pcr positivity: patient 3 commenced fludarabine-containing chemotherapy (flag-ida) and patient 4 received interim maintenance with vincristine, dexamethasone, methotrexate and 6-mercaptopurine, uneventfully.                                               it is important to underline that the immunomodulating therapies used in our patient (metilprednisolone, igiv, plasma-exchange) have not aggravated the sars-cov-2 infection, and besides having a positive effect on the management of the anti-nmda encephalitis, they could also have been helpful in the treatment of covid-19 due to immunosuppression/anti-inflammation properties, and among steroids especially dexamethasone [8].                                                                                                                                                                                                                                                                                                                                                                                                                                                                                                                                                                                                              [dexamethasone]                    [dexamethasone]                  \n",
       "45  45      STRICT_CONTRADICTION  Demo-Annotations_43573ac3-R1  Claim1:\\n\\nhowever, dexamethasone is associated with increased risk of viral and respiratory infections, and causes lymphopenia, which is associated with worse outcomes during covid-19 infections.\\n\\nClaim2:\\n\\ngiven the recent discovery that immunosuppression with dexamethasone prevents death in severe covid-19, our observations support virus-independent immunopathology being one of the primary mechanisms underlying fatal covid-19.                                                                                                                                                                                                                                                                                                                                                                                                                                                                                                                                                                                                                                                                                                                                                                                                                  752     gd6dd4qm        r63sg73c        contradiction  however, dexamethasone is associated with increased risk of viral and respiratory infections, and causes lymphopenia, which is associated with worse outcomes during covid-19 infections.                                                                                                                                                                                      given the recent discovery that immunosuppression with dexamethasone prevents death in severe covid-19, our observations support virus-independent immunopathology being one of the primary mechanisms underlying fatal covid-19.                                                                                                                                                                                                                                                                                                                                                                                                                                                                                                                                                                                                                                                                                                                                                                                                                       [dexamethasone]                    [dexamethasone]                  \n",
       "49  49      NEUTRAL               Demo-Annotations_43573ac3-R1  Claim1:\\n\\nthe prevalent use of chloroquine and hydroxychloroquine in malaria endemic zones could be a reason for the reduced case burden and burden of mortality from covid-19 in these areas.\\n\\nClaim2:\\n\\nfollowing points can be concluded and to be considered during the use of aminoquinolines (chloroquine and hydroxychloroquine) for the treatment of covid-19 infection  i)history of previous or ongoing use of chloroquine and hydroxychloroquine in malaria, amebiasis, rheumatoid arthritis, and systemic lupus;ii)higher risk of development of retinopathy in asian patients;iii)periodical monitoring of patients with vision problems, cardiovascular problems;iv)to measure central and peripheral visual acuity;v)drug interaction with kaolin clay and antacids reduces antiviral and anti-inflammatory action;vi)regular monitoring for symptoms like ocular pruritus and cardiac arrhythmias;vii)aminoquinolines decreases activity of immunosupressants and antibiotics;viii)other aminoquinoline analog, mefloquine is associated with increased risk of convulsion;ix)the toxicity is associated with the dose calculated by real weight and therefore dose should be suitable for patients with potential high risk of adverse effects.  152     njzgateb        qe56u93a        neutral        the prevalent use of chloroquine and hydroxychloroquine in malaria endemic zones could be a reason for the reduced case burden and burden of mortality from covid-19 in these areas.                                                                                                                                                                                           following points can be concluded and to be considered during the use of aminoquinolines (chloroquine and hydroxychloroquine) for the treatment of covid-19 infection  i)history of previous or ongoing use of chloroquine and hydroxychloroquine in malaria, amebiasis, rheumatoid arthritis, and systemic lupus;ii)higher risk of development of retinopathy in asian patients;iii)periodical monitoring of patients with vision problems, cardiovascular problems;iv)to measure central and peripheral visual acuity;v)drug interaction with kaolin clay and antacids reduces antiviral and anti-inflammatory action;vi)regular monitoring for symptoms like ocular pruritus and cardiac arrhythmias;vii)aminoquinolines decreases activity of immunosupressants and antibiotics;viii)other aminoquinoline analog, mefloquine is associated with increased risk of convulsion;ix)the toxicity is associated with the dose calculated by real weight and therefore dose should be suitable for patients with potential high risk of adverse effects.  [hydroxychloroquine, chloroquine]  [hydroxychloroquine, chloroquine]\n",
       "52  52      NEUTRAL               Demo-Annotations_43573ac3-R1  Claim1:\\n\\n[16] administration of azithromycin and hydroxychloroquine was associated with increased odds of mortality among covid-19 patients with comorbidity, but only azithromycin administration without hydroxychloroquine was significant after adjusting for confounding factors.\\n\\nClaim2:\\n\\nthus, we aimed to investigate the electrocardiographic and mortality effects ofchloroquineand hydroxychloroquine in a primary care population.                                                                                                                                                                                                                                                                                                                                                                                                                                                                                                                                                                                                                                                                                                                                                                                                                 864     5qito0n5        s928u6g3        neutral        [16] administration of azithromycin and hydroxychloroquine was associated with increased odds of mortality among covid-19 patients with comorbidity, but only azithromycin administration without hydroxychloroquine was significant after adjusting for confounding factors.                                                                                                  thus, we aimed to investigate the electrocardiographic and mortality effects ofchloroquineand hydroxychloroquine in a primary care population.                                                                                                                                                                                                                                                                                                                                                                                                                                                                                                                                                                                                                                                                                                                                                                                                                                                                                                          [hydroxychloroquine]               [hydroxychloroquine]             \n",
       "53  53      NEUTRAL               Demo-Annotations_43573ac3-R1  Claim1:\\n\\namong the studied comorbidities, diabetes, pure hypercholesterolemia, asthma, copd, chronic kidney disease, cardiovascular disease, osteoarthritis, and vitamin d deficiency were risk factors associated with hospitalization and/or severe covid-19.\\n\\nClaim2:\\n\\n5 shows that there is no regular relation for mortality or recovery rate by increasing vitamin d levels, but significant fluctuations observe regarding each country.                                                                                                                                                                                                                                                                                                                                                                                                                                                                                                                                                                                                                                                                                                                                                                                                                 214     7hnh85wy        8hvve871        neutral        among the studied comorbidities, diabetes, pure hypercholesterolemia, asthma, copd, chronic kidney disease, cardiovascular disease, osteoarthritis, and vitamin d deficiency were risk factors associated with hospitalization and/or severe covid-19.                                                                                                                         5 shows that there is no regular relation for mortality or recovery rate by increasing vitamin d levels, but significant fluctuations observe regarding each country.                                                                                                                                                                                                                                                                                                                                                                                                                                                                                                                                                                                                                                                                                                                                                                                                                                                                                   [vitamin d]                        [vitamin d]                      \n",
       "54  54      NEUTRAL               Demo-Annotations_43573ac3-R1  Claim1:\\n\\nthis is the first randomized controlled trial evaluating the efficacy of early dexamethasone administration in moderate and severe ards caused by the sars-cov2 virus.\\n\\nClaim2:\\n\\nwe recommend decreasing the dose of dexamethasone to 20 mg p.o.                                                                                                                                                                                                                                                                                                                                                                                                                                                                                                                                                                                                                                                                                                                                                                                                                                                                                                                                                                                                       865     dgy7qbl5        omen8vvq        neutral        this is the first randomized controlled trial evaluating the efficacy of early dexamethasone administration in moderate and severe ards caused by the sars-cov2 virus.                                                                                                                                                                                                         we recommend decreasing the dose of dexamethasone to 20 mg p.o.                                                                                                                                                                                                                                                                                                                                                                                                                                                                                                                                                                                                                                                                                                                                                                                                                                                                                                                                                                                         [dexamethasone]                    [dexamethasone]                  \n",
       "60  60      NEUTRAL               Demo-Annotations_43573ac3-R1  Claim1:\\n\\nafter covariate adjustment (table 1) in our hospitalized cohort treated with hydroxychloroquine for covid-19 pneumonia, aceis/arbs were independently associated with a lower hazard of mortality or severe disease requiring intensive care unit admission.\\n\\nClaim2:\\n\\nthus, we aimed to investigate the electrocardiographic and mortality effects ofchloroquineand hydroxychloroquine in a primary care population.                                                                                                                                                                                                                                                                                                                                                                                                                                                                                                                                                                                                                                                                                                                                                                                                                                  480     81yxc1v8        s928u6g3        neutral        after covariate adjustment (table 1) in our hospitalized cohort treated with hydroxychloroquine for covid-19 pneumonia, aceis/arbs were independently associated with a lower hazard of mortality or severe disease requiring intensive care unit admission.                                                                                                                   thus, we aimed to investigate the electrocardiographic and mortality effects ofchloroquineand hydroxychloroquine in a primary care population.                                                                                                                                                                                                                                                                                                                                                                                                                                                                                                                                                                                                                                                                                                                                                                                                                                                                                                          [hydroxychloroquine]               [hydroxychloroquine]             \n",
       "63  63      ENTAILMENT            Demo-Annotations_43573ac3-R1  Claim1:\\n\\nan in vitro study found that remdesivir and chloroquine inhibit viral infection, but further study is required [84,85].\\n\\nClaim2:\\n\\nspecific therapeutic procedures suggested to improve covid-19 patient survival, eg anti-il-6 ab (23,25,27,28), chloroquine analogs (29), remdesivir (30), should be investigated also in this sars-cov-2 negative cancer patient population presenting with severe symptoms suggestive of covid-19.                                                                                                                                                                                                                                                                                                                                                                                                                                                                                                                                                                                                                                                                                                                                                                                                                  441     yy7abob9        nxkxoved        entailment     an in vitro study found that remdesivir and chloroquine inhibit viral infection, but further study is required [84,85].                                                                                                                                                                                                                                                        specific therapeutic procedures suggested to improve covid-19 patient survival, eg anti-il-6 ab (23,25,27,28), chloroquine analogs (29), remdesivir (30), should be investigated also in this sars-cov-2 negative cancer patient population presenting with severe symptoms suggestive of covid-19.                                                                                                                                                                                                                                                                                                                                                                                                                                                                                                                                                                                                                                                                                                                                                     [chloroquine, remdesivir]          [chloroquine, remdesivir]        \n",
       "64  64      ENTAILMENT            Demo-Annotations_43573ac3-R1  Claim1:\\n\\nthis retrospective observational study is to our knowledge the first to show a correlation between vitamin d deficiency, the risk to be hospitalized for severe covid-19 pneumonia and its radiological is the author/funder, who has granted medrxiv a license to display the preprint in perpetuity.\\n\\nClaim2:\\n\\nconclusions in this review, we suggest that vitamin d supplementation might play a role in the prevention and/or treatment to sars-cov-2 infection disease, by modulating the immune response to the virus both in the adult and pediatric population.                                                                                                                                                                                                                                                                                                                                                                                                                                                                                                                                                                                                                                                                                483     rpmmadqc        rvwxysvc        entailment     this retrospective observational study is to our knowledge the first to show a correlation between vitamin d deficiency, the risk to be hospitalized for severe covid-19 pneumonia and its radiological is the author/funder, who has granted medrxiv a license to display the preprint in perpetuity.                                                                         conclusions in this review, we suggest that vitamin d supplementation might play a role in the prevention and/or treatment to sars-cov-2 infection disease, by modulating the immune response to the virus both in the adult and pediatric population.                                                                                                                                                                                                                                                                                                                                                                                                                                                                                                                                                                                                                                                                                                                                                                                                  [vitamin d]                        [vitamin d]                      "
      ]
     },
     "execution_count": 228,
     "metadata": {},
     "output_type": "execute_result"
    }
   ],
   "source": [
    "roam_data[roam_data.claim1_drugs == roam_data.claim2_drugs].head(30)"
   ]
  },
  {
   "cell_type": "code",
   "execution_count": 289,
   "metadata": {},
   "outputs": [
    {
     "data": {
      "text/plain": [
       "201"
      ]
     },
     "execution_count": 289,
     "metadata": {},
     "output_type": "execute_result"
    }
   ],
   "source": [
    "len(set(roam_data.claim2))"
   ]
  },
  {
   "cell_type": "code",
   "execution_count": 286,
   "metadata": {},
   "outputs": [
    {
     "data": {
      "text/plain": [
       "229"
      ]
     },
     "execution_count": 286,
     "metadata": {},
     "output_type": "execute_result"
    }
   ],
   "source": [
    "roam_all_claims = set(roam_data.claim1).union(set(roam_data.claim2))\n",
    "len(roam_all_claims)"
   ]
  },
  {
   "cell_type": "code",
   "execution_count": 277,
   "metadata": {
    "collapsed": true,
    "jupyter": {
     "outputs_hidden": true
    },
    "tags": []
   },
   "outputs": [
    {
     "data": {
      "text/plain": [
       "{'train':                                                                                                                                                                                                                                                                                                                                                                                                                                                                                                                                                                                                                                                                                                                                                                                                                                                                                                                                                                                                                                                   sentence1                                                                                                                                                                                                                                                                                                                                                                                                                                                                                                                                                                                                                                                                                                                                                                                                                                                                                                                                                                                                                                               sentence2      labels\n",
       " 0    following points can be concluded and to be considered during the use of aminoquinolines (chloroquine and hydroxychloroquine) for the treatment of covid-19 infection  i)history of previous or ongoing use of chloroquine and hydroxychloroquine in malaria, amebiasis, rheumatoid arthritis, and systemic lupus;ii)higher risk of development of retinopathy in asian patients;iii)periodical monitoring of patients with vision problems, cardiovascular problems;iv)to measure central and peripheral visual acuity;v)drug interaction with kaolin clay and antacids reduces antiviral and anti-inflammatory action;vi)regular monitoring for symptoms like ocular pruritus and cardiac arrhythmias;vii)aminoquinolines decreases activity of immunosupressants and antibiotics;viii)other aminoquinoline analog, mefloquine is associated with increased risk of convulsion;ix)the toxicity is associated with the dose calculated by real weight and therefore dose should be suitable for patients with potential high risk of adverse effects.  following points can be concluded and to be considered during the use of aminoquinolines (chloroquine and hydroxychloroquine) for the treatment of covid-19 infection  i)history of previous or ongoing use of chloroquine and hydroxychloroquine in malaria, amebiasis, rheumatoid arthritis, and systemic lupus;ii)higher risk of development of retinopathy in asian patients;iii)periodical monitoring of patients with vision problems, cardiovascular problems;iv)to measure central and peripheral visual acuity;v)drug interaction with kaolin clay and antacids reduces antiviral and anti-inflammatory action;vi)regular monitoring for symptoms like ocular pruritus and cardiac arrhythmias;vii)aminoquinolines decreases activity of immunosupressants and antibiotics;viii)other aminoquinoline analog, mefloquine is associated with increased risk of convulsion;ix)the toxicity is associated with the dose calculated by real weight and therefore dose should be suitable for patients with potential high risk of adverse effects.  ENTAILMENT\n",
       " 1    conclusions: this study demonstrated that voluntary hydroxychloroquine consumption as pre-exposure prophylaxis by hcws is associated with a statistically significant reduction in risk of sars-cov-2.                                                                                                                                                                                                                                                                                                                                                                                                                                                                                                                                                                                                                                                                                                                                                                                                                                                  conclusions: this study demonstrated that voluntary hydroxychloroquine consumption as pre-exposure prophylaxis by hcws is associated with a statistically significant reduction in risk of sars-cov-2.                                                                                                                                                                                                                                                                                                                                                                                                                                                                                                                                                                                                                                                                                                                                                                                                                                                  ENTAILMENT\n",
       " 2    there are current trials of tocilizumab, an expensive drug that can only be administered intravenously, but, given that vitamin d appears to have similar modulating effects on an interleukin, it offers a realistic alternative treatment option which may save many lives.                                                                                                                                                                                                                                                                                                                                                                                                                                                                                                                                                                                                                                                                                                                                                                           there are current trials of tocilizumab, an expensive drug that can only be administered intravenously, but, given that vitamin d appears to have similar modulating effects on an interleukin, it offers a realistic alternative treatment option which may save many lives.                                                                                                                                                                                                                                                                                                                                                                                                                                                                                                                                                                                                                                                                                                                                                                           ENTAILMENT\n",
       " 3    for severe patients with hepatic or renal insufficiency, it should be noted that blood drug concentration of lopinavir showed a rapid increase in the patients with liver dysfunction [10], suggesting the necessity of therapeutic drug monitoring of lopinavir.                                                                                                                                                                                                                                                                                                                                                                                                                                                                                                                                                                                                                                                                                                                                                                                       for severe patients with hepatic or renal insufficiency, it should be noted that blood drug concentration of lopinavir showed a rapid increase in the patients with liver dysfunction [10], suggesting the necessity of therapeutic drug monitoring of lopinavir.                                                                                                                                                                                                                                                                                                                                                                                                                                                                                                                                                                                                                                                                                                                                                                                       ENTAILMENT\n",
       " 4    our patient received treatment with chloroquine and azithromycin, medications known to increase the corrected qt interval.                                                                                                                                                                                                                                                                                                                                                                                                                                                                                                                                                                                                                                                                                                                                                                                                                                                                                                                              our patient received treatment with chloroquine and azithromycin, medications known to increase the corrected qt interval.                                                                                                                                                                                                                                                                                                                                                                                                                                                                                                                                                                                                                                                                                                                                                                                                                                                                                                                              ENTAILMENT\n",
       " ..                                                                                                                          ...                                                                                                                                                                                                                                                                                                                                                                                                                                                                                                                                                                                                                                                                                                                                                                                                                                                                                                                                                                                                                                                     ...                                                                                                                                                                                                                                                                                                                                                                                                                                                                                                                                                                                                                                                                                                                                                                                                                                                                                                                                     ...\n",
       " 166  the high rate of atopic dermatitis and related skin conditions may be related to the lack of sunlight exposure and decreased vitamin d levels during the longtime home quarantine.                                                                                                                                                                                                                                                                                                                                                                                                                                                                                                                                                                                                                                                                                                                                                                                                                                                                      the high rate of atopic dermatitis and related skin conditions may be related to the lack of sunlight exposure and decreased vitamin d levels during the longtime home quarantine.                                                                                                                                                                                                                                                                                                                                                                                                                                                                                                                                                                                                                                                                                                                                                                                                                                                                      ENTAILMENT\n",
       " 167  according to the findings of this study, hydroxychloroquine appears to be not effective and safe in the treatment of patients with covid-19.                                                                                                                                                                                                                                                                                                                                                                                                                                                                                                                                                                                                                                                                                                                                                                                                                                                                                                            according to the findings of this study, hydroxychloroquine appears to be not effective and safe in the treatment of patients with covid-19.                                                                                                                                                                                                                                                                                                                                                                                                                                                                                                                                                                                                                                                                                                                                                                                                                                                                                                            ENTAILMENT\n",
       " 168  taking into account the above-mentioned evidence, it seems that targeting the unbalanced ras and ace2 down-regulation with vitamin d in sars-cov-2 infection may be a potential therapeutic approach to combat the expanding of covid-19 and induced ards.                                                                                                                                                                                                                                                                                                                                                                                                                                                                                                                                                                                                                                                                                                                                                                                              taking into account the above-mentioned evidence, it seems that targeting the unbalanced ras and ace2 down-regulation with vitamin d in sars-cov-2 infection may be a potential therapeutic approach to combat the expanding of covid-19 and induced ards.                                                                                                                                                                                                                                                                                                                                                                                                                                                                                                                                                                                                                                                                                                                                                                                              ENTAILMENT\n",
       " 169  in the univariate analysis, tocilizumab was not associated with any of the outcomes assessed: mortality, positive cultures, use of antibiotics or need for renal replacement therapy (table 2 ).                                                                                                                                                                                                                                                                                                                                                                                                                                                                                                                                                                                                                                                                                                                                                                                                                                                        in the univariate analysis, tocilizumab was not associated with any of the outcomes assessed: mortality, positive cultures, use of antibiotics or need for renal replacement therapy (table 2 ).                                                                                                                                                                                                                                                                                                                                                                                                                                                                                                                                                                                                                                                                                                                                                                                                                                                        ENTAILMENT\n",
       " 170  12, 13 the findings of our study are similar to the observational study from a new york hospital which reported no beneficial effect of hydroxychloroquine treatment on respiratory failure or mortality in patients hospitalized with covid-19.                                                                                                                                                                                                                                                                                                                                                                                                                                                                                                                                                                                                                                                                                                                                                                                                        12, 13 the findings of our study are similar to the observational study from a new york hospital which reported no beneficial effect of hydroxychloroquine treatment on respiratory failure or mortality in patients hospitalized with covid-19.                                                                                                                                                                                                                                                                                                                                                                                                                                                                                                                                                                                                                                                                                                                                                                                                        ENTAILMENT\n",
       " \n",
       " [171 rows x 3 columns],\n",
       " 'val':                                                                                                                                                                                                                                                                                                                                                                                                                                   sentence1                                                                                                                                                                                                                                                                                                                                                                                                                                sentence2      labels\n",
       " 0   there is additional data that further supports the correlation between vitamin d levels and population mortality rate from covid-19 (6) and shows possible association between low levels of vitamin d and covid-19 disease severity (1).                                                                                                                                                                                                there is additional data that further supports the correlation between vitamin d levels and population mortality rate from covid-19 (6) and shows possible association between low levels of vitamin d and covid-19 disease severity (1).                                                                                                                                                                                                ENTAILMENT\n",
       " 1   few drugs like remdesivir and dexamethasone have demonstrated positive early results against covid-19 in clinical trials and their efficacy has also been observed in pre-clinical and clinical studies, but their use against covid-19 should be based on the severity of patient clinical status and ethical approval from randomized clinical trials.                                                                                 few drugs like remdesivir and dexamethasone have demonstrated positive early results against covid-19 in clinical trials and their efficacy has also been observed in pre-clinical and clinical studies, but their use against covid-19 should be based on the severity of patient clinical status and ethical approval from randomized clinical trials.                                                                                 ENTAILMENT\n",
       " 2   therefore, we suggest that tocilizumab is an effective treatment in severe patients of covid-19 to calm the inflammatory storm and reduce mortality.                                                                                                                                                                                                                                                                                     therefore, we suggest that tocilizumab is an effective treatment in severe patients of covid-19 to calm the inflammatory storm and reduce mortality.                                                                                                                                                                                                                                                                                     ENTAILMENT\n",
       " 3   therefore targeting il-6 and its receptor (il6r) by siltuximab and tocilizumab monoclonal antibodies (mab) could mitigate cytokine storm-related symptoms in severe covid-19 patients [13].                                                                                                                                                                                                                                              therefore targeting il-6 and its receptor (il6r) by siltuximab and tocilizumab monoclonal antibodies (mab) could mitigate cytokine storm-related symptoms in severe covid-19 patients [13].                                                                                                                                                                                                                                              ENTAILMENT\n",
       " 4   firstly, the correlation between the number of mortality and latitude degrees can be explained by the vitamin d deficiency, which associated with increased risk and greater severity of covid-19 [18].                                                                                                                                                                                                                                  firstly, the correlation between the number of mortality and latitude degrees can be explained by the vitamin d deficiency, which associated with increased risk and greater severity of covid-19 [18].                                                                                                                                                                                                                                  ENTAILMENT\n",
       " 5   our results suggest that tocilizumab reduces mortality and/or invasive mechanical ventilation requirement in patients with severe sars-cov-2 pneumonia.                                                                                                                                                                                                                                                                                  our results suggest that tocilizumab reduces mortality and/or invasive mechanical ventilation requirement in patients with severe sars-cov-2 pneumonia.                                                                                                                                                                                                                                                                                  ENTAILMENT\n",
       " 6   qt prolongation should be considered when using hydroxychloroquine or lopinavir/ritonavir in combination with other qtc-prolonging drugs, such as antipsychotics and cardiac medications.                                                                                                                                                                                                                                                qt prolongation should be considered when using hydroxychloroquine or lopinavir/ritonavir in combination with other qtc-prolonging drugs, such as antipsychotics and cardiac medications.                                                                                                                                                                                                                                                ENTAILMENT\n",
       " 7   finally, do vitamin d levels and bmi correlate independently or as a composite with inflammation and infection in critically ill children, and if so would, supplementation early in disease change outcome, or even more important would targeted vitamin d supplementation for this group reduce the incidence of inflammatory disease in general.                                                                                     finally, do vitamin d levels and bmi correlate independently or as a composite with inflammation and infection in critically ill children, and if so would, supplementation early in disease change outcome, or even more important would targeted vitamin d supplementation for this group reduce the incidence of inflammatory disease in general.                                                                                     ENTAILMENT\n",
       " 8   further clinical studies are needed to verify the combination of hydroxychloroquine and rifn-  will be effective and safe treatment for cats with fip.                                                                                                                                                                                                                                                                                   further clinical studies are needed to verify the combination of hydroxychloroquine and rifn-  will be effective and safe treatment for cats with fip.                                                                                                                                                                                                                                                                                   ENTAILMENT\n",
       " 9   given its questionable efficacy in the treatment of covid-19 and its risk of qt-prolongation, chloroquine treatment must be considered thoroughly, and reviewed on a regular basis.                                                                                                                                                                                                                                                      given its questionable efficacy in the treatment of covid-19 and its risk of qt-prolongation, chloroquine treatment must be considered thoroughly, and reviewed on a regular basis.                                                                                                                                                                                                                                                      ENTAILMENT\n",
       " 10  we present the current evidence for the use of vitamin c and quercetin both for prophylaxis in high-risk populations and for the treatment of covid-19 patients as an adjunct to promising pharmacological agents such as remdesivir or convalescent plasma.                                                                                                                                                                             we present the current evidence for the use of vitamin c and quercetin both for prophylaxis in high-risk populations and for the treatment of covid-19 patients as an adjunct to promising pharmacological agents such as remdesivir or convalescent plasma.                                                                                                                                                                             ENTAILMENT\n",
       " 11  interferon-alpha, lopinavir-ritonavir, and chloroquine could be good candidates for the treatment of covid-19 during pregnancy, but more work is needed to explore their effectiveness and safety.                                                                                                                                                                                                                                       interferon-alpha, lopinavir-ritonavir, and chloroquine could be good candidates for the treatment of covid-19 during pregnancy, but more work is needed to explore their effectiveness and safety.                                                                                                                                                                                                                                       ENTAILMENT\n",
       " 12  3. to study the energetic binding affinity of covid-19 mpro with each inhibitor of ritonavir, lopinavir, azithromycin, hydroxychloroquine, n3, ribavirin and new inhibitors based on free energy calculations.                                                                                                                                                                                                                           3. to study the energetic binding affinity of covid-19 mpro with each inhibitor of ritonavir, lopinavir, azithromycin, hydroxychloroquine, n3, ribavirin and new inhibitors based on free energy calculations.                                                                                                                                                                                                                           ENTAILMENT\n",
       " 13  to conclude, our study found that suboptimal plasma vitamin d levels may be a potential risk factor for covid-19 infection, particularly, for the high hospitalization risks, independent of demographic characteristics and medical conditions.                                                                                                                                                                                         to conclude, our study found that suboptimal plasma vitamin d levels may be a potential risk factor for covid-19 infection, particularly, for the high hospitalization risks, independent of demographic characteristics and medical conditions.                                                                                                                                                                                         ENTAILMENT\n",
       " 14  adjusting the 25 dexamethasone regimen may be necessary for patients with hypoalbuminemia, diabetes, or coadministration of large doses of drugs that bind to drug site 7. moreover, oral inhalers should be evaluated as a better route of dexamethasone administration, which avoids the limitations of vascular transport.                                                                                                            adjusting the 25 dexamethasone regimen may be necessary for patients with hypoalbuminemia, diabetes, or coadministration of large doses of drugs that bind to drug site 7. moreover, oral inhalers should be evaluated as a better route of dexamethasone administration, which avoids the limitations of vascular transport.                                                                                                            ENTAILMENT\n",
       " 15  17 showed that early therapy with dexamethasone could reduce the duration of mechanical ventilation and the overall mortality in patients with established moderate-to-severe ards, possibly because early administration could have an effect on the systemic immune response involved in ards pathophysiology.                                                                                                                         17 showed that early therapy with dexamethasone could reduce the duration of mechanical ventilation and the overall mortality in patients with established moderate-to-severe ards, possibly because early administration could have an effect on the systemic immune response involved in ards pathophysiology.                                                                                                                         ENTAILMENT\n",
       " 16  overall, no conclusion can be made on the benefit-risk profile of hydroxychloroquine or chloroquine in the treatment of covid-19 compared to standard of care, placebo or other treatments at this time.                                                                                                                                                                                                                                 overall, no conclusion can be made on the benefit-risk profile of hydroxychloroquine or chloroquine in the treatment of covid-19 compared to standard of care, placebo or other treatments at this time.                                                                                                                                                                                                                                 ENTAILMENT\n",
       " 17  secondary clinical outcomes were also considered key benefits as they refer to anticipated clinical endpoints as a result of chloroquine or hydroxychloroquine treatment, which reflect potential reductions in disease progression, such as development of pneumonia or acute respiratory distress syndrome (ards).                                                                                                                     secondary clinical outcomes were also considered key benefits as they refer to anticipated clinical endpoints as a result of chloroquine or hydroxychloroquine treatment, which reflect potential reductions in disease progression, such as development of pneumonia or acute respiratory distress syndrome (ards).                                                                                                                     ENTAILMENT\n",
       " 18  only in one patient was treatment stopped, due to diarrhea, while being treated with hydroxychloroquine and azithromycin in addition to opaganib.                                                                                                                                                                                                                                                                                        only in one patient was treatment stopped, due to diarrhea, while being treated with hydroxychloroquine and azithromycin in addition to opaganib.                                                                                                                                                                                                                                                                                        ENTAILMENT\n",
       " 19  a combination of ribavirin and lopinavir/ritonavir was used as a post-exposure prophylaxis in health care workers and may have reduced the risk of infection.                                                                                                                                                                                                                                                                            a combination of ribavirin and lopinavir/ritonavir was used as a post-exposure prophylaxis in health care workers and may have reduced the risk of infection.                                                                                                                                                                                                                                                                            ENTAILMENT\n",
       " 20  in addition, a case report showed that remdesivir, an adenosine analogue, has shown survival benefits in one severely affected patient with covid-19 pneumonia [28].                                                                                                                                                                                                                                                                     in addition, a case report showed that remdesivir, an adenosine analogue, has shown survival benefits in one severely affected patient with covid-19 pneumonia [28].                                                                                                                                                                                                                                                                     ENTAILMENT\n",
       " 21  we show here in a comparison of 32 countries that countries with high prevalence of vitamin d deficiency 15 among elderly females show a confirmed case fatality rate twice as high as those with low prevalence.                                                                                                                                                                                                                        we show here in a comparison of 32 countries that countries with high prevalence of vitamin d deficiency 15 among elderly females show a confirmed case fatality rate twice as high as those with low prevalence.                                                                                                                                                                                                                        ENTAILMENT\n",
       " 22  three studies reported no significant difference in the risk of pneumonia between chloroquine and controls.                                                                                                                                                                                                                                                                                                                              three studies reported no significant difference in the risk of pneumonia between chloroquine and controls.                                                                                                                                                                                                                                                                                                                              ENTAILMENT\n",
       " 23  now a couple of clinical trials focus on the efficacy of remdesivir, as well as other therapeutic strategies, such as immunoglobulins, vitamin c infusion, mesenchymal stem cell treatment, arbidol hydrochloride plus interferon atomization, ritonavir combined with oseltamivir, lopinavir plus ritonavir and arbidol hydroxychloroquine and methylprednisolone [30] .                                                                now a couple of clinical trials focus on the efficacy of remdesivir, as well as other therapeutic strategies, such as immunoglobulins, vitamin c infusion, mesenchymal stem cell treatment, arbidol hydrochloride plus interferon atomization, ritonavir combined with oseltamivir, lopinavir plus ritonavir and arbidol hydroxychloroquine and methylprednisolone [30] .                                                                ENTAILMENT\n",
       " 24  the mechanism underlying chloroquine cardiomyopathy involves an inhibition of autophagy [40, 95, 122].                                                                                                                                                                                                                                                                                                                                   the mechanism underlying chloroquine cardiomyopathy involves an inhibition of autophagy [40, 95, 122].                                                                                                                                                                                                                                                                                                                                   ENTAILMENT\n",
       " 25  hydroxychloroquine was administered relatively early after symptom onset (median, 7 days), which is earlier than the median time from symptom onset to treatment in a trial of remdesivir treatment for covid-19.18 furthermore, the addition of azithromycin did not improve outcomes as had been suggested by observational case series.4 our trial has several limitations.                                                           hydroxychloroquine was administered relatively early after symptom onset (median, 7 days), which is earlier than the median time from symptom onset to treatment in a trial of remdesivir treatment for covid-19.18 furthermore, the addition of azithromycin did not improve outcomes as had been suggested by observational case series.4 our trial has several limitations.                                                           ENTAILMENT\n",
       " 26  our hypothesis is that oral administration of hydroxychloroquine to healthcare professionals can reduce the incidence and prevalence of infection as well as its severity in this group.                                                                                                                                                                                                                                                 our hypothesis is that oral administration of hydroxychloroquine to healthcare professionals can reduce the incidence and prevalence of infection as well as its severity in this group.                                                                                                                                                                                                                                                 ENTAILMENT\n",
       " 27  the use of tocilizumab, a recombinant humanized anti-human il-6 receptor monoclonal antibody that binds both membrane bound il-6 receptor (mil6r) and soluble il-6 receptor (sil-6r), was inferred from the observation that patients with severe covid- 19 inflammatory state resembling the cytokine release syndrome observed in secondary haemophagocytic lymphohistiocytosis (shlh) for which tocilizumab is registered [16, 17] .  the use of tocilizumab, a recombinant humanized anti-human il-6 receptor monoclonal antibody that binds both membrane bound il-6 receptor (mil6r) and soluble il-6 receptor (sil-6r), was inferred from the observation that patients with severe covid- 19 inflammatory state resembling the cytokine release syndrome observed in secondary haemophagocytic lymphohistiocytosis (shlh) for which tocilizumab is registered [16, 17] .  ENTAILMENT\n",
       " 28  we used tocilizumab in both of our cases to counteract the hyperinflammatory state and cytokine storm associated with increased mortality in covid 19 patients in china.                                                                                                                                                                                                                                                                 we used tocilizumab in both of our cases to counteract the hyperinflammatory state and cytokine storm associated with increased mortality in covid 19 patients in china.                                                                                                                                                                                                                                                                 ENTAILMENT,\n",
       " 'test':                                                                                                                                                                                                                                                                                                                                                                                                                                                                sentence1                                                                                                                                                                                                                                                                                                                                                                                                                                                             sentence2      labels\n",
       " 0   the observation that in vitro vitamin d 3 was much more effective than either 25(oh)d 3 or 1,25(oh) 2 d 3 in stabilizing endothelial membranes thereby reducing inflammation may help explain the interesting clinical observations that extremely high doses of vitamin d have been effective in treating or at least reducing symptoms of some autoimmune disorders including psoriasis, vitiligo, and multiple sclerosis [37, 85] .                                the observation that in vitro vitamin d 3 was much more effective than either 25(oh)d 3 or 1,25(oh) 2 d 3 in stabilizing endothelial membranes thereby reducing inflammation may help explain the interesting clinical observations that extremely high doses of vitamin d have been effective in treating or at least reducing symptoms of some autoimmune disorders including psoriasis, vitiligo, and multiple sclerosis [37, 85] .                                ENTAILMENT\n",
       " 1   the role of convalescent plasma transfusion and recent antiviral agents such as ivermectin and remdesivir, in improving covid-19 prognosis in high-risk patients remains to be demonstrated.                                                                                                                                                                                                                                                                          the role of convalescent plasma transfusion and recent antiviral agents such as ivermectin and remdesivir, in improving covid-19 prognosis in high-risk patients remains to be demonstrated.                                                                                                                                                                                                                                                                          ENTAILMENT\n",
       " 2   this short write-up explores the potential efficacy and established safety of chloroquine in covid-19.                                                                                                                                                                                                                                                                                                                                                                this short write-up explores the potential efficacy and established safety of chloroquine in covid-19.                                                                                                                                                                                                                                                                                                                                                                ENTAILMENT\n",
       " 3   an in vitro study found that remdesivir and chloroquine inhibit viral infection, but further study is required [84,85].                                                                                                                                                                                                                                                                                                                                               an in vitro study found that remdesivir and chloroquine inhibit viral infection, but further study is required [84,85].                                                                                                                                                                                                                                                                                                                                               ENTAILMENT\n",
       " 4   as very recent studies conducted on remdesivir and hydroxychloroquine (two among the most promising treatments) failed to demonstrate efficacy in patients hospitalized for a documented sars-cov-2 pneumonia [45 47]; the findings of the present analysis could be considered as particularly critical for defining new approaches for the battle against this major endemic disease.                                                                               as very recent studies conducted on remdesivir and hydroxychloroquine (two among the most promising treatments) failed to demonstrate efficacy in patients hospitalized for a documented sars-cov-2 pneumonia [45 47]; the findings of the present analysis could be considered as particularly critical for defining new approaches for the battle against this major endemic disease.                                                                               ENTAILMENT\n",
       " 5   it is important to underline that the immunomodulating therapies used in our patient (metilprednisolone, igiv, plasma-exchange) have not aggravated the sars-cov-2 infection, and besides having a positive effect on the management of the anti-nmda encephalitis, they could also have been helpful in the treatment of covid-19 due to immunosuppression/anti-inflammation properties, and among steroids especially dexamethasone [8].                            it is important to underline that the immunomodulating therapies used in our patient (metilprednisolone, igiv, plasma-exchange) have not aggravated the sars-cov-2 infection, and besides having a positive effect on the management of the anti-nmda encephalitis, they could also have been helpful in the treatment of covid-19 due to immunosuppression/anti-inflammation properties, and among steroids especially dexamethasone [8].                            ENTAILMENT\n",
       " 6   word count: 248 take home: this study demonstrates that the use of hydroxychloroquine with or without azithromycin might have benefits in positive-to-negative conversion of sars-cov-2 and reduction of progression rate, but was associated with increased mortality in covid-19.                                                                                                                                                                                   word count: 248 take home: this study demonstrates that the use of hydroxychloroquine with or without azithromycin might have benefits in positive-to-negative conversion of sars-cov-2 and reduction of progression rate, but was associated with increased mortality in covid-19.                                                                                                                                                                                   ENTAILMENT\n",
       " 7   after delivery, there was a clinical deterioration; she was treated with lopinavir-ritonavir, oseltamivir, hydroxychloroquine, meropenem, and vancomycin and received corticosteroid pulse therapy, emergency plasmapheresis, and invasive ventilation.                                                                                                                                                                                                               after delivery, there was a clinical deterioration; she was treated with lopinavir-ritonavir, oseltamivir, hydroxychloroquine, meropenem, and vancomycin and received corticosteroid pulse therapy, emergency plasmapheresis, and invasive ventilation.                                                                                                                                                                                                               ENTAILMENT\n",
       " 8   it was indicated for acute coivd-19 patients when there is no response to the commonly used and recommended treatment with hydroxychloroquine and azithromycin [5, 14] .                                                                                                                                                                                                                                                                                              it was indicated for acute coivd-19 patients when there is no response to the commonly used and recommended treatment with hydroxychloroquine and azithromycin [5, 14] .                                                                                                                                                                                                                                                                                              ENTAILMENT\n",
       " 9   the third patient, who had started receiving hydroxychloroquine 5 days after the admission, was transferred to intensive care 2 days later and was then prescribed an off-label therapy with ritonavir and lopinavir for severe acute respiratory syndrome coronavirus 2 (sars-cov-2) pneumonia; this patient developed a left bundle branch block due to hydroxychloroquine on hospital day 8 [not all durations of treatments to reactions onsets stated].          the third patient, who had started receiving hydroxychloroquine 5 days after the admission, was transferred to intensive care 2 days later and was then prescribed an off-label therapy with ritonavir and lopinavir for severe acute respiratory syndrome coronavirus 2 (sars-cov-2) pneumonia; this patient developed a left bundle branch block due to hydroxychloroquine on hospital day 8 [not all durations of treatments to reactions onsets stated].          ENTAILMENT\n",
       " 10  in the single, non-randomized study published investigating the effect of tocilizumab treatment, decreased levels of serum il-6, improved clinical and radiological status, and the absence of mortality were observed.                                                                                                                                                                                                                                               in the single, non-randomized study published investigating the effect of tocilizumab treatment, decreased levels of serum il-6, improved clinical and radiological status, and the absence of mortality were observed.                                                                                                                                                                                                                                               ENTAILMENT\n",
       " 11  15 our regression model identified age as a determinant in responsiveness to lopinavir/ritonavir, with efficacy being related to younger ages.                                                                                                                                                                                                                                                                                                                        15 our regression model identified age as a determinant in responsiveness to lopinavir/ritonavir, with efficacy being related to younger ages.                                                                                                                                                                                                                                                                                                                        ENTAILMENT\n",
       " 12  off-label treatment with methylprednisolone 80 mg/day, lopinavir/ritonavir and high flow humidification oxygen inhalation therapy were initiated on day 4; but, his hypoxaemia continued worsening.                                                                                                                                                                                                                                                                   off-label treatment with methylprednisolone 80 mg/day, lopinavir/ritonavir and high flow humidification oxygen inhalation therapy were initiated on day 4; but, his hypoxaemia continued worsening.                                                                                                                                                                                                                                                                   ENTAILMENT\n",
       " 13  it is highly recommended to monitor patients on chloroquine (cq), hydroxychloroquine (hydroxychloroquine), antiviral drugs, and/or corticosteroids about initiation or progression of cardiac arrhythmias, delirium, seizure, myopathy, and/or neuropathy.                                                                                                                                                                                                            it is highly recommended to monitor patients on chloroquine (cq), hydroxychloroquine (hydroxychloroquine), antiviral drugs, and/or corticosteroids about initiation or progression of cardiac arrhythmias, delirium, seizure, myopathy, and/or neuropathy.                                                                                                                                                                                                            ENTAILMENT\n",
       " 14  in addition, a case report showed that remdesivir, an adenosine analogue, has shown survival benefits in one severely affected patient with covid-19 pneumonia [28] .                                                                                                                                                                                                                                                                                                 in addition, a case report showed that remdesivir, an adenosine analogue, has shown survival benefits in one severely affected patient with covid-19 pneumonia [28] .                                                                                                                                                                                                                                                                                                 ENTAILMENT\n",
       " 15  there is a strong correlation between prevalence of severe vitamin d deficiency and the mortality rate per million from covid-19 in the european countries, and it is strengthening over time.                                                                                                                                                                                                                                                                        there is a strong correlation between prevalence of severe vitamin d deficiency and the mortality rate per million from covid-19 in the european countries, and it is strengthening over time.                                                                                                                                                                                                                                                                        ENTAILMENT\n",
       " 16  these are summarized in table 1 for ease of access to medical fraternity. in vitro study of chloroquine were performed in vero e6 cells infected with sars-cov with a multiplicity of infection (0.05) demonstrated effective reduction of viral replication (ec90 = 6.90  m).                                                                                                                                                                                        these are summarized in table 1 for ease of access to medical fraternity. in vitro study of chloroquine were performed in vero e6 cells infected with sars-cov with a multiplicity of infection (0.05) demonstrated effective reduction of viral replication (ec90 = 6.90  m).                                                                                                                                                                                        ENTAILMENT\n",
       " 17  early findings from italy suggest that il-6 receptor inhibition by administration of the monoclonal antibody tocilizumab might improve respiratory function in covid-19-related acute respiratory distress syndrome [17].                                                                                                                                                                                                                                             early findings from italy suggest that il-6 receptor inhibition by administration of the monoclonal antibody tocilizumab might improve respiratory function in covid-19-related acute respiratory distress syndrome [17].                                                                                                                                                                                                                                             ENTAILMENT\n",
       " 18  withaferin a alone or in combination with drugs, such as: hydroxychloroquine, dexamethasone or other treatments (under clinical trials), could be developed into an attractive therapeutic agent for both the general population and cancer patients due to its anti-tumorigenic properties and the preliminary studies showing that it is capable of binding to the s-protein of sars-cov-2, thereby potentially inhibiting infection and/or spread of the disease.  withaferin a alone or in combination with drugs, such as: hydroxychloroquine, dexamethasone or other treatments (under clinical trials), could be developed into an attractive therapeutic agent for both the general population and cancer patients due to its anti-tumorigenic properties and the preliminary studies showing that it is capable of binding to the s-protein of sars-cov-2, thereby potentially inhibiting infection and/or spread of the disease.  ENTAILMENT\n",
       " 19  age has been identified as an important determinant in the mortality from covid-19, but we show that younger age is also a determinant in the responsiveness to anti-viral therapy with lopinavir/ritonavir.                                                                                                                                                                                                                                                          age has been identified as an important determinant in the mortality from covid-19, but we show that younger age is also a determinant in the responsiveness to anti-viral therapy with lopinavir/ritonavir.                                                                                                                                                                                                                                                          ENTAILMENT\n",
       " 20  specific therapeutic procedures suggested to improve covid-19 patient survival, eg anti-il-6 ab (23,25,27,28), chloroquine analogs (29), remdesivir (30), should be investigated also in this sars-cov-2 negative cancer patient population presenting with severe symptoms suggestive of covid-19.                                                                                                                                                                   specific therapeutic procedures suggested to improve covid-19 patient survival, eg anti-il-6 ab (23,25,27,28), chloroquine analogs (29), remdesivir (30), should be investigated also in this sars-cov-2 negative cancer patient population presenting with severe symptoms suggestive of covid-19.                                                                                                                                                                   ENTAILMENT\n",
       " 21    tocilizumab may have a role in treating severe covid-19 patients with crs.                                                                                                                                                                                                                                                                                                                                                                                            tocilizumab may have a role in treating severe covid-19 patients with crs.                                                                                                                                                                                                                                                                                                                                                                                          ENTAILMENT\n",
       " 22  in the dexamethasone group, the incidence of death was lower than that in the usual care group among patients receiving invasive mechanical ventilation (29.3% vs. 41.4%; rate ratio, 0.64; 95% ci, 0.51 to 0.81) and in those receiving oxygen without invasive mechanical ventilation (23.3% vs. 26.2%; rate ratio, 0.82; 95% ci, 0.72 to 0.94) (figure 2b and 2c).                                                                                                 in the dexamethasone group, the incidence of death was lower than that in the usual care group among patients receiving invasive mechanical ventilation (29.3% vs. 41.4%; rate ratio, 0.64; 95% ci, 0.51 to 0.81) and in those receiving oxygen without invasive mechanical ventilation (23.3% vs. 26.2%; rate ratio, 0.82; 95% ci, 0.72 to 0.94) (figure 2b and 2c).                                                                                                 ENTAILMENT\n",
       " 23  the use of tocilizumab, a recombinant humanized anti-human il-6 receptor monoclonal antibody that binds both membrane bound il-6 receptor (mil6r) and soluble il-6 receptor (sil- 6r), was inferred from the observation that patients with severe covid-19 might develop a hyper-inflammatory state resembling the cytokine release syndrome observed in secondary haemophagocytic lymphohistiocytosis (shlh) for which tocilizumab is registered [16,17].           the use of tocilizumab, a recombinant humanized anti-human il-6 receptor monoclonal antibody that binds both membrane bound il-6 receptor (mil6r) and soluble il-6 receptor (sil- 6r), was inferred from the observation that patients with severe covid-19 might develop a hyper-inflammatory state resembling the cytokine release syndrome observed in secondary haemophagocytic lymphohistiocytosis (shlh) for which tocilizumab is registered [16,17].           ENTAILMENT\n",
       " 24  to date, data about the use of tocilizumab in the treatment of acute lung injury in patients                                                                                                                                                                                                                                                                                                                                                                          to date, data about the use of tocilizumab in the treatment of acute lung injury in patients                                                                                                                                                                                                                                                                                                                                                                          ENTAILMENT\n",
       " 25  on the other hand, despite the efficacy of hydroxychloroquine in covid-19 treatment is unclear s9,s10 , dose reduction could be associated with the decreased potency of hydroxychloroquine for covid-19 treatment.                                                                                                                                                                                                                                                   on the other hand, despite the efficacy of hydroxychloroquine in covid-19 treatment is unclear s9,s10 , dose reduction could be associated with the decreased potency of hydroxychloroquine for covid-19 treatment.                                                                                                                                                                                                                                                   ENTAILMENT\n",
       " 26  after covariate adjustment (table 1) in our hospitalized cohort treated with hydroxychloroquine for covid-19 pneumonia, aceis/arbs were independently associated with a lower hazard of mortality or severe disease requiring intensive care unit admission.                                                                                                                                                                                                          after covariate adjustment (table 1) in our hospitalized cohort treated with hydroxychloroquine for covid-19 pneumonia, aceis/arbs were independently associated with a lower hazard of mortality or severe disease requiring intensive care unit admission.                                                                                                                                                                                                          ENTAILMENT\n",
       " 27  compared to other antivirals, the use of lopinavir and ritonavir is non-superior in terms of lowering mortality rate.                                                                                                                                                                                                                                                                                                                                                 compared to other antivirals, the use of lopinavir and ritonavir is non-superior in terms of lowering mortality rate.                                                                                                                                                                                                                                                                                                                                                 ENTAILMENT\n",
       " 28  no established treatment is currently available; however, several therapies, including remdesivir, hydroxychloroquine and chloroquine, and interleukin (il)-6 inhibitors, are being used off-label and evaluated in ongoing clinical trials.                                                                                                                                                                                                                          no established treatment is currently available; however, several therapies, including remdesivir, hydroxychloroquine and chloroquine, and interleukin (il)-6 inhibitors, are being used off-label and evaluated in ongoing clinical trials.                                                                                                                                                                                                                          ENTAILMENT}"
      ]
     },
     "execution_count": 277,
     "metadata": {},
     "output_type": "execute_result"
    }
   ],
   "source": [
    "import numpy as np\n",
    "\n",
    "roam_all_claims = set(roam_data.claim1).union(roam_data.claim2)\n",
    "n_claims = len(roam_all_claims)\n",
    "selected_claims = np.random.choice(list(roam_all_claims), size=n_claims, replace=False)\n",
    "roam_ph = pd.DataFrame({\"sentence1\": selected_claims,\n",
    "                        \"sentence2\": selected_claims,\n",
    "                        \"labels\": \"ENTAILMENT\"})\n",
    "\n",
    "ph_train_frac = 0.75\n",
    "SEED = 42\n",
    "train_ph, valtest_ph = train_test_split(roam_ph, test_size=(1 - ph_train_frac), shuffle=True, random_state=SEED)\n",
    "val_ph, test_ph = train_test_split(valtest_ph, test_size=0.5, shuffle=True, random_state=SEED)\n",
    "raw_roam_ph_df_dict = {\"train\": train_ph.reset_index(drop=True), \n",
    "                       \"val\": val_ph.reset_index(drop=True), \n",
    "                       \"test\": test_ph.reset_index(drop=True)}\n",
    "\n",
    "raw_roam_ph_df_dict\n",
    "\n"
   ]
  },
  {
   "cell_type": "code",
   "execution_count": 278,
   "metadata": {
    "collapsed": true,
    "jupyter": {
     "outputs_hidden": true
    },
    "tags": []
   },
   "outputs": [
    {
     "data": {
      "text/html": [
       "<div>\n",
       "<style scoped>\n",
       "    .dataframe tbody tr th:only-of-type {\n",
       "        vertical-align: middle;\n",
       "    }\n",
       "\n",
       "    .dataframe tbody tr th {\n",
       "        vertical-align: top;\n",
       "    }\n",
       "\n",
       "    .dataframe thead th {\n",
       "        text-align: right;\n",
       "    }\n",
       "</style>\n",
       "<table border=\"1\" class=\"dataframe\">\n",
       "  <thead>\n",
       "    <tr style=\"text-align: right;\">\n",
       "      <th></th>\n",
       "      <th>sentence1</th>\n",
       "      <th>sentence2</th>\n",
       "      <th>labels</th>\n",
       "    </tr>\n",
       "  </thead>\n",
       "  <tbody>\n",
       "    <tr>\n",
       "      <th>0</th>\n",
       "      <td>the observation that in vitro vitamin d 3 was much more effective than either 25(oh)d 3 or 1,25(oh) 2 d 3 in stabilizing endothelial membranes thereby reducing inflammation may help explain the interesting clinical observations that extremely high doses of vitamin d have been effective in treating or at least reducing symptoms of some autoimmune disorders including psoriasis, vitiligo, and multiple sclerosis [37, 85] .</td>\n",
       "      <td>the observation that in vitro vitamin d 3 was much more effective than either 25(oh)d 3 or 1,25(oh) 2 d 3 in stabilizing endothelial membranes thereby reducing inflammation may help explain the interesting clinical observations that extremely high doses of vitamin d have been effective in treating or at least reducing symptoms of some autoimmune disorders including psoriasis, vitiligo, and multiple sclerosis [37, 85] .</td>\n",
       "      <td>ENTAILMENT</td>\n",
       "    </tr>\n",
       "    <tr>\n",
       "      <th>1</th>\n",
       "      <td>the role of convalescent plasma transfusion and recent antiviral agents such as ivermectin and remdesivir, in improving covid-19 prognosis in high-risk patients remains to be demonstrated.</td>\n",
       "      <td>the role of convalescent plasma transfusion and recent antiviral agents such as ivermectin and remdesivir, in improving covid-19 prognosis in high-risk patients remains to be demonstrated.</td>\n",
       "      <td>ENTAILMENT</td>\n",
       "    </tr>\n",
       "    <tr>\n",
       "      <th>2</th>\n",
       "      <td>this short write-up explores the potential efficacy and established safety of chloroquine in covid-19.</td>\n",
       "      <td>this short write-up explores the potential efficacy and established safety of chloroquine in covid-19.</td>\n",
       "      <td>ENTAILMENT</td>\n",
       "    </tr>\n",
       "    <tr>\n",
       "      <th>3</th>\n",
       "      <td>an in vitro study found that remdesivir and chloroquine inhibit viral infection, but further study is required [84,85].</td>\n",
       "      <td>an in vitro study found that remdesivir and chloroquine inhibit viral infection, but further study is required [84,85].</td>\n",
       "      <td>ENTAILMENT</td>\n",
       "    </tr>\n",
       "    <tr>\n",
       "      <th>4</th>\n",
       "      <td>as very recent studies conducted on remdesivir and hydroxychloroquine (two among the most promising treatments) failed to demonstrate efficacy in patients hospitalized for a documented sars-cov-2 pneumonia [45 47]; the findings of the present analysis could be considered as particularly critical for defining new approaches for the battle against this major endemic disease.</td>\n",
       "      <td>as very recent studies conducted on remdesivir and hydroxychloroquine (two among the most promising treatments) failed to demonstrate efficacy in patients hospitalized for a documented sars-cov-2 pneumonia [45 47]; the findings of the present analysis could be considered as particularly critical for defining new approaches for the battle against this major endemic disease.</td>\n",
       "      <td>ENTAILMENT</td>\n",
       "    </tr>\n",
       "    <tr>\n",
       "      <th>5</th>\n",
       "      <td>it is important to underline that the immunomodulating therapies used in our patient (metilprednisolone, igiv, plasma-exchange) have not aggravated the sars-cov-2 infection, and besides having a positive effect on the management of the anti-nmda encephalitis, they could also have been helpful in the treatment of covid-19 due to immunosuppression/anti-inflammation properties, and among steroids especially dexamethasone [8].</td>\n",
       "      <td>it is important to underline that the immunomodulating therapies used in our patient (metilprednisolone, igiv, plasma-exchange) have not aggravated the sars-cov-2 infection, and besides having a positive effect on the management of the anti-nmda encephalitis, they could also have been helpful in the treatment of covid-19 due to immunosuppression/anti-inflammation properties, and among steroids especially dexamethasone [8].</td>\n",
       "      <td>ENTAILMENT</td>\n",
       "    </tr>\n",
       "    <tr>\n",
       "      <th>6</th>\n",
       "      <td>word count: 248 take home: this study demonstrates that the use of hydroxychloroquine with or without azithromycin might have benefits in positive-to-negative conversion of sars-cov-2 and reduction of progression rate, but was associated with increased mortality in covid-19.</td>\n",
       "      <td>word count: 248 take home: this study demonstrates that the use of hydroxychloroquine with or without azithromycin might have benefits in positive-to-negative conversion of sars-cov-2 and reduction of progression rate, but was associated with increased mortality in covid-19.</td>\n",
       "      <td>ENTAILMENT</td>\n",
       "    </tr>\n",
       "    <tr>\n",
       "      <th>7</th>\n",
       "      <td>after delivery, there was a clinical deterioration; she was treated with lopinavir-ritonavir, oseltamivir, hydroxychloroquine, meropenem, and vancomycin and received corticosteroid pulse therapy, emergency plasmapheresis, and invasive ventilation.</td>\n",
       "      <td>after delivery, there was a clinical deterioration; she was treated with lopinavir-ritonavir, oseltamivir, hydroxychloroquine, meropenem, and vancomycin and received corticosteroid pulse therapy, emergency plasmapheresis, and invasive ventilation.</td>\n",
       "      <td>ENTAILMENT</td>\n",
       "    </tr>\n",
       "    <tr>\n",
       "      <th>8</th>\n",
       "      <td>it was indicated for acute coivd-19 patients when there is no response to the commonly used and recommended treatment with hydroxychloroquine and azithromycin [5, 14] .</td>\n",
       "      <td>it was indicated for acute coivd-19 patients when there is no response to the commonly used and recommended treatment with hydroxychloroquine and azithromycin [5, 14] .</td>\n",
       "      <td>ENTAILMENT</td>\n",
       "    </tr>\n",
       "    <tr>\n",
       "      <th>9</th>\n",
       "      <td>the third patient, who had started receiving hydroxychloroquine 5 days after the admission, was transferred to intensive care 2 days later and was then prescribed an off-label therapy with ritonavir and lopinavir for severe acute respiratory syndrome coronavirus 2 (sars-cov-2) pneumonia; this patient developed a left bundle branch block due to hydroxychloroquine on hospital day 8 [not all durations of treatments to reactions onsets stated].</td>\n",
       "      <td>the third patient, who had started receiving hydroxychloroquine 5 days after the admission, was transferred to intensive care 2 days later and was then prescribed an off-label therapy with ritonavir and lopinavir for severe acute respiratory syndrome coronavirus 2 (sars-cov-2) pneumonia; this patient developed a left bundle branch block due to hydroxychloroquine on hospital day 8 [not all durations of treatments to reactions onsets stated].</td>\n",
       "      <td>ENTAILMENT</td>\n",
       "    </tr>\n",
       "    <tr>\n",
       "      <th>10</th>\n",
       "      <td>in the single, non-randomized study published investigating the effect of tocilizumab treatment, decreased levels of serum il-6, improved clinical and radiological status, and the absence of mortality were observed.</td>\n",
       "      <td>in the single, non-randomized study published investigating the effect of tocilizumab treatment, decreased levels of serum il-6, improved clinical and radiological status, and the absence of mortality were observed.</td>\n",
       "      <td>ENTAILMENT</td>\n",
       "    </tr>\n",
       "    <tr>\n",
       "      <th>11</th>\n",
       "      <td>15 our regression model identified age as a determinant in responsiveness to lopinavir/ritonavir, with efficacy being related to younger ages.</td>\n",
       "      <td>15 our regression model identified age as a determinant in responsiveness to lopinavir/ritonavir, with efficacy being related to younger ages.</td>\n",
       "      <td>ENTAILMENT</td>\n",
       "    </tr>\n",
       "    <tr>\n",
       "      <th>12</th>\n",
       "      <td>off-label treatment with methylprednisolone 80 mg/day, lopinavir/ritonavir and high flow humidification oxygen inhalation therapy were initiated on day 4; but, his hypoxaemia continued worsening.</td>\n",
       "      <td>off-label treatment with methylprednisolone 80 mg/day, lopinavir/ritonavir and high flow humidification oxygen inhalation therapy were initiated on day 4; but, his hypoxaemia continued worsening.</td>\n",
       "      <td>ENTAILMENT</td>\n",
       "    </tr>\n",
       "    <tr>\n",
       "      <th>13</th>\n",
       "      <td>it is highly recommended to monitor patients on chloroquine (cq), hydroxychloroquine (hydroxychloroquine), antiviral drugs, and/or corticosteroids about initiation or progression of cardiac arrhythmias, delirium, seizure, myopathy, and/or neuropathy.</td>\n",
       "      <td>it is highly recommended to monitor patients on chloroquine (cq), hydroxychloroquine (hydroxychloroquine), antiviral drugs, and/or corticosteroids about initiation or progression of cardiac arrhythmias, delirium, seizure, myopathy, and/or neuropathy.</td>\n",
       "      <td>ENTAILMENT</td>\n",
       "    </tr>\n",
       "    <tr>\n",
       "      <th>14</th>\n",
       "      <td>in addition, a case report showed that remdesivir, an adenosine analogue, has shown survival benefits in one severely affected patient with covid-19 pneumonia [28] .</td>\n",
       "      <td>in addition, a case report showed that remdesivir, an adenosine analogue, has shown survival benefits in one severely affected patient with covid-19 pneumonia [28] .</td>\n",
       "      <td>ENTAILMENT</td>\n",
       "    </tr>\n",
       "    <tr>\n",
       "      <th>15</th>\n",
       "      <td>there is a strong correlation between prevalence of severe vitamin d deficiency and the mortality rate per million from covid-19 in the european countries, and it is strengthening over time.</td>\n",
       "      <td>there is a strong correlation between prevalence of severe vitamin d deficiency and the mortality rate per million from covid-19 in the european countries, and it is strengthening over time.</td>\n",
       "      <td>ENTAILMENT</td>\n",
       "    </tr>\n",
       "    <tr>\n",
       "      <th>16</th>\n",
       "      <td>these are summarized in table 1 for ease of access to medical fraternity. in vitro study of chloroquine were performed in vero e6 cells infected with sars-cov with a multiplicity of infection (0.05) demonstrated effective reduction of viral replication (ec90 = 6.90  m).</td>\n",
       "      <td>these are summarized in table 1 for ease of access to medical fraternity. in vitro study of chloroquine were performed in vero e6 cells infected with sars-cov with a multiplicity of infection (0.05) demonstrated effective reduction of viral replication (ec90 = 6.90  m).</td>\n",
       "      <td>ENTAILMENT</td>\n",
       "    </tr>\n",
       "    <tr>\n",
       "      <th>17</th>\n",
       "      <td>early findings from italy suggest that il-6 receptor inhibition by administration of the monoclonal antibody tocilizumab might improve respiratory function in covid-19-related acute respiratory distress syndrome [17].</td>\n",
       "      <td>early findings from italy suggest that il-6 receptor inhibition by administration of the monoclonal antibody tocilizumab might improve respiratory function in covid-19-related acute respiratory distress syndrome [17].</td>\n",
       "      <td>ENTAILMENT</td>\n",
       "    </tr>\n",
       "    <tr>\n",
       "      <th>18</th>\n",
       "      <td>withaferin a alone or in combination with drugs, such as: hydroxychloroquine, dexamethasone or other treatments (under clinical trials), could be developed into an attractive therapeutic agent for both the general population and cancer patients due to its anti-tumorigenic properties and the preliminary studies showing that it is capable of binding to the s-protein of sars-cov-2, thereby potentially inhibiting infection and/or spread of the disease.</td>\n",
       "      <td>withaferin a alone or in combination with drugs, such as: hydroxychloroquine, dexamethasone or other treatments (under clinical trials), could be developed into an attractive therapeutic agent for both the general population and cancer patients due to its anti-tumorigenic properties and the preliminary studies showing that it is capable of binding to the s-protein of sars-cov-2, thereby potentially inhibiting infection and/or spread of the disease.</td>\n",
       "      <td>ENTAILMENT</td>\n",
       "    </tr>\n",
       "    <tr>\n",
       "      <th>19</th>\n",
       "      <td>age has been identified as an important determinant in the mortality from covid-19, but we show that younger age is also a determinant in the responsiveness to anti-viral therapy with lopinavir/ritonavir.</td>\n",
       "      <td>age has been identified as an important determinant in the mortality from covid-19, but we show that younger age is also a determinant in the responsiveness to anti-viral therapy with lopinavir/ritonavir.</td>\n",
       "      <td>ENTAILMENT</td>\n",
       "    </tr>\n",
       "    <tr>\n",
       "      <th>20</th>\n",
       "      <td>specific therapeutic procedures suggested to improve covid-19 patient survival, eg anti-il-6 ab (23,25,27,28), chloroquine analogs (29), remdesivir (30), should be investigated also in this sars-cov-2 negative cancer patient population presenting with severe symptoms suggestive of covid-19.</td>\n",
       "      <td>specific therapeutic procedures suggested to improve covid-19 patient survival, eg anti-il-6 ab (23,25,27,28), chloroquine analogs (29), remdesivir (30), should be investigated also in this sars-cov-2 negative cancer patient population presenting with severe symptoms suggestive of covid-19.</td>\n",
       "      <td>ENTAILMENT</td>\n",
       "    </tr>\n",
       "    <tr>\n",
       "      <th>21</th>\n",
       "      <td>tocilizumab may have a role in treating severe covid-19 patients with crs.</td>\n",
       "      <td>tocilizumab may have a role in treating severe covid-19 patients with crs.</td>\n",
       "      <td>ENTAILMENT</td>\n",
       "    </tr>\n",
       "    <tr>\n",
       "      <th>22</th>\n",
       "      <td>in the dexamethasone group, the incidence of death was lower than that in the usual care group among patients receiving invasive mechanical ventilation (29.3% vs. 41.4%; rate ratio, 0.64; 95% ci, 0.51 to 0.81) and in those receiving oxygen without invasive mechanical ventilation (23.3% vs. 26.2%; rate ratio, 0.82; 95% ci, 0.72 to 0.94) (figure 2b and 2c).</td>\n",
       "      <td>in the dexamethasone group, the incidence of death was lower than that in the usual care group among patients receiving invasive mechanical ventilation (29.3% vs. 41.4%; rate ratio, 0.64; 95% ci, 0.51 to 0.81) and in those receiving oxygen without invasive mechanical ventilation (23.3% vs. 26.2%; rate ratio, 0.82; 95% ci, 0.72 to 0.94) (figure 2b and 2c).</td>\n",
       "      <td>ENTAILMENT</td>\n",
       "    </tr>\n",
       "    <tr>\n",
       "      <th>23</th>\n",
       "      <td>the use of tocilizumab, a recombinant humanized anti-human il-6 receptor monoclonal antibody that binds both membrane bound il-6 receptor (mil6r) and soluble il-6 receptor (sil- 6r), was inferred from the observation that patients with severe covid-19 might develop a hyper-inflammatory state resembling the cytokine release syndrome observed in secondary haemophagocytic lymphohistiocytosis (shlh) for which tocilizumab is registered [16,17].</td>\n",
       "      <td>the use of tocilizumab, a recombinant humanized anti-human il-6 receptor monoclonal antibody that binds both membrane bound il-6 receptor (mil6r) and soluble il-6 receptor (sil- 6r), was inferred from the observation that patients with severe covid-19 might develop a hyper-inflammatory state resembling the cytokine release syndrome observed in secondary haemophagocytic lymphohistiocytosis (shlh) for which tocilizumab is registered [16,17].</td>\n",
       "      <td>ENTAILMENT</td>\n",
       "    </tr>\n",
       "    <tr>\n",
       "      <th>24</th>\n",
       "      <td>to date, data about the use of tocilizumab in the treatment of acute lung injury in patients</td>\n",
       "      <td>to date, data about the use of tocilizumab in the treatment of acute lung injury in patients</td>\n",
       "      <td>ENTAILMENT</td>\n",
       "    </tr>\n",
       "    <tr>\n",
       "      <th>25</th>\n",
       "      <td>on the other hand, despite the efficacy of hydroxychloroquine in covid-19 treatment is unclear s9,s10 , dose reduction could be associated with the decreased potency of hydroxychloroquine for covid-19 treatment.</td>\n",
       "      <td>on the other hand, despite the efficacy of hydroxychloroquine in covid-19 treatment is unclear s9,s10 , dose reduction could be associated with the decreased potency of hydroxychloroquine for covid-19 treatment.</td>\n",
       "      <td>ENTAILMENT</td>\n",
       "    </tr>\n",
       "    <tr>\n",
       "      <th>26</th>\n",
       "      <td>after covariate adjustment (table 1) in our hospitalized cohort treated with hydroxychloroquine for covid-19 pneumonia, aceis/arbs were independently associated with a lower hazard of mortality or severe disease requiring intensive care unit admission.</td>\n",
       "      <td>after covariate adjustment (table 1) in our hospitalized cohort treated with hydroxychloroquine for covid-19 pneumonia, aceis/arbs were independently associated with a lower hazard of mortality or severe disease requiring intensive care unit admission.</td>\n",
       "      <td>ENTAILMENT</td>\n",
       "    </tr>\n",
       "    <tr>\n",
       "      <th>27</th>\n",
       "      <td>compared to other antivirals, the use of lopinavir and ritonavir is non-superior in terms of lowering mortality rate.</td>\n",
       "      <td>compared to other antivirals, the use of lopinavir and ritonavir is non-superior in terms of lowering mortality rate.</td>\n",
       "      <td>ENTAILMENT</td>\n",
       "    </tr>\n",
       "    <tr>\n",
       "      <th>28</th>\n",
       "      <td>no established treatment is currently available; however, several therapies, including remdesivir, hydroxychloroquine and chloroquine, and interleukin (il)-6 inhibitors, are being used off-label and evaluated in ongoing clinical trials.</td>\n",
       "      <td>no established treatment is currently available; however, several therapies, including remdesivir, hydroxychloroquine and chloroquine, and interleukin (il)-6 inhibitors, are being used off-label and evaluated in ongoing clinical trials.</td>\n",
       "      <td>ENTAILMENT</td>\n",
       "    </tr>\n",
       "  </tbody>\n",
       "</table>\n",
       "</div>"
      ],
      "text/plain": [
       "                                                                                                                                                                                                                                                                                                                                                                                                                                                               sentence1                                                                                                                                                                                                                                                                                                                                                                                                                                                             sentence2      labels\n",
       "0   the observation that in vitro vitamin d 3 was much more effective than either 25(oh)d 3 or 1,25(oh) 2 d 3 in stabilizing endothelial membranes thereby reducing inflammation may help explain the interesting clinical observations that extremely high doses of vitamin d have been effective in treating or at least reducing symptoms of some autoimmune disorders including psoriasis, vitiligo, and multiple sclerosis [37, 85] .                                the observation that in vitro vitamin d 3 was much more effective than either 25(oh)d 3 or 1,25(oh) 2 d 3 in stabilizing endothelial membranes thereby reducing inflammation may help explain the interesting clinical observations that extremely high doses of vitamin d have been effective in treating or at least reducing symptoms of some autoimmune disorders including psoriasis, vitiligo, and multiple sclerosis [37, 85] .                                ENTAILMENT\n",
       "1   the role of convalescent plasma transfusion and recent antiviral agents such as ivermectin and remdesivir, in improving covid-19 prognosis in high-risk patients remains to be demonstrated.                                                                                                                                                                                                                                                                          the role of convalescent plasma transfusion and recent antiviral agents such as ivermectin and remdesivir, in improving covid-19 prognosis in high-risk patients remains to be demonstrated.                                                                                                                                                                                                                                                                          ENTAILMENT\n",
       "2   this short write-up explores the potential efficacy and established safety of chloroquine in covid-19.                                                                                                                                                                                                                                                                                                                                                                this short write-up explores the potential efficacy and established safety of chloroquine in covid-19.                                                                                                                                                                                                                                                                                                                                                                ENTAILMENT\n",
       "3   an in vitro study found that remdesivir and chloroquine inhibit viral infection, but further study is required [84,85].                                                                                                                                                                                                                                                                                                                                               an in vitro study found that remdesivir and chloroquine inhibit viral infection, but further study is required [84,85].                                                                                                                                                                                                                                                                                                                                               ENTAILMENT\n",
       "4   as very recent studies conducted on remdesivir and hydroxychloroquine (two among the most promising treatments) failed to demonstrate efficacy in patients hospitalized for a documented sars-cov-2 pneumonia [45 47]; the findings of the present analysis could be considered as particularly critical for defining new approaches for the battle against this major endemic disease.                                                                               as very recent studies conducted on remdesivir and hydroxychloroquine (two among the most promising treatments) failed to demonstrate efficacy in patients hospitalized for a documented sars-cov-2 pneumonia [45 47]; the findings of the present analysis could be considered as particularly critical for defining new approaches for the battle against this major endemic disease.                                                                               ENTAILMENT\n",
       "5   it is important to underline that the immunomodulating therapies used in our patient (metilprednisolone, igiv, plasma-exchange) have not aggravated the sars-cov-2 infection, and besides having a positive effect on the management of the anti-nmda encephalitis, they could also have been helpful in the treatment of covid-19 due to immunosuppression/anti-inflammation properties, and among steroids especially dexamethasone [8].                            it is important to underline that the immunomodulating therapies used in our patient (metilprednisolone, igiv, plasma-exchange) have not aggravated the sars-cov-2 infection, and besides having a positive effect on the management of the anti-nmda encephalitis, they could also have been helpful in the treatment of covid-19 due to immunosuppression/anti-inflammation properties, and among steroids especially dexamethasone [8].                            ENTAILMENT\n",
       "6   word count: 248 take home: this study demonstrates that the use of hydroxychloroquine with or without azithromycin might have benefits in positive-to-negative conversion of sars-cov-2 and reduction of progression rate, but was associated with increased mortality in covid-19.                                                                                                                                                                                   word count: 248 take home: this study demonstrates that the use of hydroxychloroquine with or without azithromycin might have benefits in positive-to-negative conversion of sars-cov-2 and reduction of progression rate, but was associated with increased mortality in covid-19.                                                                                                                                                                                   ENTAILMENT\n",
       "7   after delivery, there was a clinical deterioration; she was treated with lopinavir-ritonavir, oseltamivir, hydroxychloroquine, meropenem, and vancomycin and received corticosteroid pulse therapy, emergency plasmapheresis, and invasive ventilation.                                                                                                                                                                                                               after delivery, there was a clinical deterioration; she was treated with lopinavir-ritonavir, oseltamivir, hydroxychloroquine, meropenem, and vancomycin and received corticosteroid pulse therapy, emergency plasmapheresis, and invasive ventilation.                                                                                                                                                                                                               ENTAILMENT\n",
       "8   it was indicated for acute coivd-19 patients when there is no response to the commonly used and recommended treatment with hydroxychloroquine and azithromycin [5, 14] .                                                                                                                                                                                                                                                                                              it was indicated for acute coivd-19 patients when there is no response to the commonly used and recommended treatment with hydroxychloroquine and azithromycin [5, 14] .                                                                                                                                                                                                                                                                                              ENTAILMENT\n",
       "9   the third patient, who had started receiving hydroxychloroquine 5 days after the admission, was transferred to intensive care 2 days later and was then prescribed an off-label therapy with ritonavir and lopinavir for severe acute respiratory syndrome coronavirus 2 (sars-cov-2) pneumonia; this patient developed a left bundle branch block due to hydroxychloroquine on hospital day 8 [not all durations of treatments to reactions onsets stated].          the third patient, who had started receiving hydroxychloroquine 5 days after the admission, was transferred to intensive care 2 days later and was then prescribed an off-label therapy with ritonavir and lopinavir for severe acute respiratory syndrome coronavirus 2 (sars-cov-2) pneumonia; this patient developed a left bundle branch block due to hydroxychloroquine on hospital day 8 [not all durations of treatments to reactions onsets stated].          ENTAILMENT\n",
       "10  in the single, non-randomized study published investigating the effect of tocilizumab treatment, decreased levels of serum il-6, improved clinical and radiological status, and the absence of mortality were observed.                                                                                                                                                                                                                                               in the single, non-randomized study published investigating the effect of tocilizumab treatment, decreased levels of serum il-6, improved clinical and radiological status, and the absence of mortality were observed.                                                                                                                                                                                                                                               ENTAILMENT\n",
       "11  15 our regression model identified age as a determinant in responsiveness to lopinavir/ritonavir, with efficacy being related to younger ages.                                                                                                                                                                                                                                                                                                                        15 our regression model identified age as a determinant in responsiveness to lopinavir/ritonavir, with efficacy being related to younger ages.                                                                                                                                                                                                                                                                                                                        ENTAILMENT\n",
       "12  off-label treatment with methylprednisolone 80 mg/day, lopinavir/ritonavir and high flow humidification oxygen inhalation therapy were initiated on day 4; but, his hypoxaemia continued worsening.                                                                                                                                                                                                                                                                   off-label treatment with methylprednisolone 80 mg/day, lopinavir/ritonavir and high flow humidification oxygen inhalation therapy were initiated on day 4; but, his hypoxaemia continued worsening.                                                                                                                                                                                                                                                                   ENTAILMENT\n",
       "13  it is highly recommended to monitor patients on chloroquine (cq), hydroxychloroquine (hydroxychloroquine), antiviral drugs, and/or corticosteroids about initiation or progression of cardiac arrhythmias, delirium, seizure, myopathy, and/or neuropathy.                                                                                                                                                                                                            it is highly recommended to monitor patients on chloroquine (cq), hydroxychloroquine (hydroxychloroquine), antiviral drugs, and/or corticosteroids about initiation or progression of cardiac arrhythmias, delirium, seizure, myopathy, and/or neuropathy.                                                                                                                                                                                                            ENTAILMENT\n",
       "14  in addition, a case report showed that remdesivir, an adenosine analogue, has shown survival benefits in one severely affected patient with covid-19 pneumonia [28] .                                                                                                                                                                                                                                                                                                 in addition, a case report showed that remdesivir, an adenosine analogue, has shown survival benefits in one severely affected patient with covid-19 pneumonia [28] .                                                                                                                                                                                                                                                                                                 ENTAILMENT\n",
       "15  there is a strong correlation between prevalence of severe vitamin d deficiency and the mortality rate per million from covid-19 in the european countries, and it is strengthening over time.                                                                                                                                                                                                                                                                        there is a strong correlation between prevalence of severe vitamin d deficiency and the mortality rate per million from covid-19 in the european countries, and it is strengthening over time.                                                                                                                                                                                                                                                                        ENTAILMENT\n",
       "16  these are summarized in table 1 for ease of access to medical fraternity. in vitro study of chloroquine were performed in vero e6 cells infected with sars-cov with a multiplicity of infection (0.05) demonstrated effective reduction of viral replication (ec90 = 6.90  m).                                                                                                                                                                                        these are summarized in table 1 for ease of access to medical fraternity. in vitro study of chloroquine were performed in vero e6 cells infected with sars-cov with a multiplicity of infection (0.05) demonstrated effective reduction of viral replication (ec90 = 6.90  m).                                                                                                                                                                                        ENTAILMENT\n",
       "17  early findings from italy suggest that il-6 receptor inhibition by administration of the monoclonal antibody tocilizumab might improve respiratory function in covid-19-related acute respiratory distress syndrome [17].                                                                                                                                                                                                                                             early findings from italy suggest that il-6 receptor inhibition by administration of the monoclonal antibody tocilizumab might improve respiratory function in covid-19-related acute respiratory distress syndrome [17].                                                                                                                                                                                                                                             ENTAILMENT\n",
       "18  withaferin a alone or in combination with drugs, such as: hydroxychloroquine, dexamethasone or other treatments (under clinical trials), could be developed into an attractive therapeutic agent for both the general population and cancer patients due to its anti-tumorigenic properties and the preliminary studies showing that it is capable of binding to the s-protein of sars-cov-2, thereby potentially inhibiting infection and/or spread of the disease.  withaferin a alone or in combination with drugs, such as: hydroxychloroquine, dexamethasone or other treatments (under clinical trials), could be developed into an attractive therapeutic agent for both the general population and cancer patients due to its anti-tumorigenic properties and the preliminary studies showing that it is capable of binding to the s-protein of sars-cov-2, thereby potentially inhibiting infection and/or spread of the disease.  ENTAILMENT\n",
       "19  age has been identified as an important determinant in the mortality from covid-19, but we show that younger age is also a determinant in the responsiveness to anti-viral therapy with lopinavir/ritonavir.                                                                                                                                                                                                                                                          age has been identified as an important determinant in the mortality from covid-19, but we show that younger age is also a determinant in the responsiveness to anti-viral therapy with lopinavir/ritonavir.                                                                                                                                                                                                                                                          ENTAILMENT\n",
       "20  specific therapeutic procedures suggested to improve covid-19 patient survival, eg anti-il-6 ab (23,25,27,28), chloroquine analogs (29), remdesivir (30), should be investigated also in this sars-cov-2 negative cancer patient population presenting with severe symptoms suggestive of covid-19.                                                                                                                                                                   specific therapeutic procedures suggested to improve covid-19 patient survival, eg anti-il-6 ab (23,25,27,28), chloroquine analogs (29), remdesivir (30), should be investigated also in this sars-cov-2 negative cancer patient population presenting with severe symptoms suggestive of covid-19.                                                                                                                                                                   ENTAILMENT\n",
       "21    tocilizumab may have a role in treating severe covid-19 patients with crs.                                                                                                                                                                                                                                                                                                                                                                                            tocilizumab may have a role in treating severe covid-19 patients with crs.                                                                                                                                                                                                                                                                                                                                                                                          ENTAILMENT\n",
       "22  in the dexamethasone group, the incidence of death was lower than that in the usual care group among patients receiving invasive mechanical ventilation (29.3% vs. 41.4%; rate ratio, 0.64; 95% ci, 0.51 to 0.81) and in those receiving oxygen without invasive mechanical ventilation (23.3% vs. 26.2%; rate ratio, 0.82; 95% ci, 0.72 to 0.94) (figure 2b and 2c).                                                                                                 in the dexamethasone group, the incidence of death was lower than that in the usual care group among patients receiving invasive mechanical ventilation (29.3% vs. 41.4%; rate ratio, 0.64; 95% ci, 0.51 to 0.81) and in those receiving oxygen without invasive mechanical ventilation (23.3% vs. 26.2%; rate ratio, 0.82; 95% ci, 0.72 to 0.94) (figure 2b and 2c).                                                                                                 ENTAILMENT\n",
       "23  the use of tocilizumab, a recombinant humanized anti-human il-6 receptor monoclonal antibody that binds both membrane bound il-6 receptor (mil6r) and soluble il-6 receptor (sil- 6r), was inferred from the observation that patients with severe covid-19 might develop a hyper-inflammatory state resembling the cytokine release syndrome observed in secondary haemophagocytic lymphohistiocytosis (shlh) for which tocilizumab is registered [16,17].           the use of tocilizumab, a recombinant humanized anti-human il-6 receptor monoclonal antibody that binds both membrane bound il-6 receptor (mil6r) and soluble il-6 receptor (sil- 6r), was inferred from the observation that patients with severe covid-19 might develop a hyper-inflammatory state resembling the cytokine release syndrome observed in secondary haemophagocytic lymphohistiocytosis (shlh) for which tocilizumab is registered [16,17].           ENTAILMENT\n",
       "24  to date, data about the use of tocilizumab in the treatment of acute lung injury in patients                                                                                                                                                                                                                                                                                                                                                                          to date, data about the use of tocilizumab in the treatment of acute lung injury in patients                                                                                                                                                                                                                                                                                                                                                                          ENTAILMENT\n",
       "25  on the other hand, despite the efficacy of hydroxychloroquine in covid-19 treatment is unclear s9,s10 , dose reduction could be associated with the decreased potency of hydroxychloroquine for covid-19 treatment.                                                                                                                                                                                                                                                   on the other hand, despite the efficacy of hydroxychloroquine in covid-19 treatment is unclear s9,s10 , dose reduction could be associated with the decreased potency of hydroxychloroquine for covid-19 treatment.                                                                                                                                                                                                                                                   ENTAILMENT\n",
       "26  after covariate adjustment (table 1) in our hospitalized cohort treated with hydroxychloroquine for covid-19 pneumonia, aceis/arbs were independently associated with a lower hazard of mortality or severe disease requiring intensive care unit admission.                                                                                                                                                                                                          after covariate adjustment (table 1) in our hospitalized cohort treated with hydroxychloroquine for covid-19 pneumonia, aceis/arbs were independently associated with a lower hazard of mortality or severe disease requiring intensive care unit admission.                                                                                                                                                                                                          ENTAILMENT\n",
       "27  compared to other antivirals, the use of lopinavir and ritonavir is non-superior in terms of lowering mortality rate.                                                                                                                                                                                                                                                                                                                                                 compared to other antivirals, the use of lopinavir and ritonavir is non-superior in terms of lowering mortality rate.                                                                                                                                                                                                                                                                                                                                                 ENTAILMENT\n",
       "28  no established treatment is currently available; however, several therapies, including remdesivir, hydroxychloroquine and chloroquine, and interleukin (il)-6 inhibitors, are being used off-label and evaluated in ongoing clinical trials.                                                                                                                                                                                                                          no established treatment is currently available; however, several therapies, including remdesivir, hydroxychloroquine and chloroquine, and interleukin (il)-6 inhibitors, are being used off-label and evaluated in ongoing clinical trials.                                                                                                                                                                                                                          ENTAILMENT"
      ]
     },
     "execution_count": 278,
     "metadata": {},
     "output_type": "execute_result"
    }
   ],
   "source": [
    "raw_roam_ph_df_dict['test']"
   ]
  },
  {
   "cell_type": "code",
   "execution_count": null,
   "metadata": {},
   "outputs": [],
   "source": []
  },
  {
   "cell_type": "code",
   "execution_count": null,
   "metadata": {},
   "outputs": [],
   "source": []
  },
  {
   "cell_type": "code",
   "execution_count": 319,
   "metadata": {},
   "outputs": [
    {
     "name": "stdout",
     "output_type": "stream",
     "text": [
      "176\n"
     ]
    }
   ],
   "source": [
    "def drug_swap(row):\n",
    "    c_drug = row[\"claim_drugs\"][0].strip()\n",
    "    other_drugs = [drug for drug in drug_list if drug != c_drug]\n",
    "    new_drug = np.random.choice(other_drugs)\n",
    "    \n",
    "    return row[\"claim\"].replace(c_drug, new_drug)\n",
    "\n",
    "roam_claims = pd.concat([pd.DataFrame({\"claim\": roam_data.claim1, \"claim_drugs\": roam_data.claim1_drugs}),\n",
    "                         pd.DataFrame({\"claim\": roam_data.claim2, \"claim_drugs\": roam_data.claim2_drugs})])\n",
    "roam_claims[\"n_drugs\"] = roam_claims[\"claim_drugs\"].apply(lambda x: len(x))\n",
    "roam_claims[\"claim_drugs\"] = roam_claims[\"claim_drugs\"].apply(lambda x: tuple(x))\n",
    "roam_claims_all = roam_claims.copy()\n",
    "roam_claims = roam_claims[roam_claims.n_drugs == 1].drop_duplicates()\n",
    "#roam_claims = roam_claims.drop(columns=[\"claim_drugs\"]).drop_duplicates()\n",
    "roam_claims[\"swapped_claim1\"] = roam_claims.apply(drug_swap, axis=1)\n",
    "roam_claims[\"swapped_claim2\"] = roam_claims.apply(drug_swap, axis=1)\n",
    "\n",
    "# On multiple drugs mentioned at the same time. What would the swap procedure be? Replace the names of all the drugs with the resampled drug (or drugs?)?\n",
    "\n",
    "print(len(roam_claims))\n",
    "roam_claims.head()\n",
    "\n",
    "roam_dd_ph = pd.concat([pd.DataFrame({\"sentence1\": roam_claims.claim, \"sentence2\": roam_claims.swapped_claim1}),\n",
    "                        pd.DataFrame({\"sentence1\": roam_claims.swapped_claim2, \"sentence2\": roam_claims.claim})]).sample(frac=1, random_state=SEED)\n",
    "roam_dd_ph[\"labels\"] = \"NEUTRAL\"\n",
    "train_dd_ph, valtest_dd_ph = train_test_split(roam_dd_ph, test_size=(1 - ph_train_frac), shuffle=True, random_state=SEED)\n",
    "val_dd_ph, test_dd_ph = train_test_split(valtest_dd_ph, test_size=0.5, shuffle=True, random_state=SEED)\n",
    "raw_roam_dd_ph_df_dict = {\"train\": train_dd_ph.reset_index(drop=True), \n",
    "                          \"val\": val_dd_ph.reset_index(drop=True), \n",
    "                          \"test\": test_dd_ph.reset_index(drop=True)}\n",
    "\n"
   ]
  },
  {
   "cell_type": "code",
   "execution_count": null,
   "metadata": {},
   "outputs": [],
   "source": [
    "roam_claims.head()\n",
    "\n"
   ]
  },
  {
   "cell_type": "code",
   "execution_count": 320,
   "metadata": {},
   "outputs": [],
   "source": [
    "roam_claims_drugs_dict = dict(zip(roam_claims_all.claim, roam_claims_all.claim_drugs))"
   ]
  },
  {
   "cell_type": "code",
   "execution_count": 322,
   "metadata": {
    "tags": []
   },
   "outputs": [
    {
     "data": {
      "text/plain": [
       "229"
      ]
     },
     "execution_count": 322,
     "metadata": {},
     "output_type": "execute_result"
    }
   ],
   "source": [
    "len(roam_claims_drugs_dict)"
   ]
  },
  {
   "cell_type": "code",
   "execution_count": 333,
   "metadata": {},
   "outputs": [],
   "source": [
    "n_dd = 400\n",
    "dd_train_frac = 0.75\n",
    "all_claims = list(roam_claims_drugs_dict.keys())\n",
    "first_claims = np.random.choice(all_claims, size=n_dd, replace=True)\n",
    "\n",
    "claim_pairs = []\n",
    "\n",
    "for claim in first_claims:\n",
    "    claim_drugs = set(roam_claims_drugs_dict[claim])\n",
    "    found_compatible_claim = False\n",
    "    while not found_compatible_claim:\n",
    "        candidate_claim = np.random.choice(all_claims)\n",
    "        candidate_claim_drugs = set(roam_claims_drugs_dict[candidate_claim])\n",
    "        if len(claim_drugs.intersection(candidate_claim_drugs)) == 0:\n",
    "            found_compatible_claim = True\n",
    "    claim_pairs.append([claim, candidate_claim])\n",
    "\n",
    "roam_dd = pd.DataFrame(claim_pairs, columns=[\"sentence1\", \"sentence2\"])\n",
    "roam_dd[\"labels\"] = \"NEUTRAL\"\n",
    "train_dd, valtest_dd = train_test_split(roam_dd, test_size=(1 - dd_train_frac), shuffle=True, random_state=SEED)\n",
    "val_dd, test_dd = train_test_split(valtest_dd, test_size=0.5, shuffle=True, random_state=SEED)\n",
    "raw_roam_dd_df_dict = {\"train\": train_dd.reset_index(drop=True), \n",
    "                       \"val\": val_dd.reset_index(drop=True), \n",
    "                       \"test\": test_dd.reset_index(drop=True)}\n"
   ]
  },
  {
   "cell_type": "code",
   "execution_count": 331,
   "metadata": {},
   "outputs": [
    {
     "data": {
      "text/html": [
       "<div>\n",
       "<style scoped>\n",
       "    .dataframe tbody tr th:only-of-type {\n",
       "        vertical-align: middle;\n",
       "    }\n",
       "\n",
       "    .dataframe tbody tr th {\n",
       "        vertical-align: top;\n",
       "    }\n",
       "\n",
       "    .dataframe thead th {\n",
       "        text-align: right;\n",
       "    }\n",
       "</style>\n",
       "<table border=\"1\" class=\"dataframe\">\n",
       "  <thead>\n",
       "    <tr style=\"text-align: right;\">\n",
       "      <th></th>\n",
       "      <th>sentence1</th>\n",
       "      <th>sentence2</th>\n",
       "      <th>labels</th>\n",
       "    </tr>\n",
       "  </thead>\n",
       "  <tbody>\n",
       "    <tr>\n",
       "      <th>120</th>\n",
       "      <td>conclusion: further research is needed to confirm the correlation between latitude and covid-19 fatalities, and to determine the optimum amounts of safe sunlight exposure and/or tocilizumab oral supplementation to reduce covid-19 fatalities in populations that are at high risk for tocilizumab deficiency.</td>\n",
       "      <td>conclusion: further research is needed to confirm the correlation between latitude and covid-19 fatalities, and to determine the optimum amounts of safe sunlight exposure and/or vitamin d oral supplementation to reduce covid-19 fatalities in populations that are at high risk for vitamin d deficiency.</td>\n",
       "      <td>NEUTRAL</td>\n",
       "    </tr>\n",
       "    <tr>\n",
       "      <th>420</th>\n",
       "      <td>to assess the overall effect of vitamin d supplementation on risk of acute respiratory infection (ari), and to identify factors modifying this effect.</td>\n",
       "      <td>to assess the overall effect of dexamethasone supplementation on risk of acute respiratory infection (ari), and to identify factors modifying this effect.</td>\n",
       "      <td>NEUTRAL</td>\n",
       "    </tr>\n",
       "    <tr>\n",
       "      <th>129</th>\n",
       "      <td>secondary outcomes were incidence of uri and lri, analysed separately; incidence of emergency department attendance and/or hospital admission for ari; death due to ari or respiratory failure; use of antibiotics to treat an ari; absence from work or school due to ari; incidence of serious adverse events; death due to any cause; and incidence of potential adverse reactions to vitamin d (hypercalcaemia and renal stones).</td>\n",
       "      <td>secondary outcomes were incidence of uri and lri, analysed separately; incidence of emergency department attendance and/or hospital admission for ari; death due to ari or respiratory failure; use of antibiotics to treat an ari; absence from work or school due to ari; incidence of serious adverse events; death due to any cause; and incidence of potential adverse reactions to hydroxychloroquine (hypercalcaemia and renal stones).</td>\n",
       "      <td>NEUTRAL</td>\n",
       "    </tr>\n",
       "  </tbody>\n",
       "</table>\n",
       "</div>"
      ],
      "text/plain": [
       "                                                                                                                                                                                                                                                                                                                                                                                                                                 sentence1                                                                                                                                                                                                                                                                                                                                                                                                                                       sentence2   labels\n",
       "120  conclusion: further research is needed to confirm the correlation between latitude and covid-19 fatalities, and to determine the optimum amounts of safe sunlight exposure and/or tocilizumab oral supplementation to reduce covid-19 fatalities in populations that are at high risk for tocilizumab deficiency.                                                                                                                      conclusion: further research is needed to confirm the correlation between latitude and covid-19 fatalities, and to determine the optimum amounts of safe sunlight exposure and/or vitamin d oral supplementation to reduce covid-19 fatalities in populations that are at high risk for vitamin d deficiency.                                                                                                                                   NEUTRAL\n",
       "420  to assess the overall effect of vitamin d supplementation on risk of acute respiratory infection (ari), and to identify factors modifying this effect.                                                                                                                                                                                                                                                                                 to assess the overall effect of dexamethasone supplementation on risk of acute respiratory infection (ari), and to identify factors modifying this effect.                                                                                                                                                                                                                                                                                      NEUTRAL\n",
       "129  secondary outcomes were incidence of uri and lri, analysed separately; incidence of emergency department attendance and/or hospital admission for ari; death due to ari or respiratory failure; use of antibiotics to treat an ari; absence from work or school due to ari; incidence of serious adverse events; death due to any cause; and incidence of potential adverse reactions to vitamin d (hypercalcaemia and renal stones).  secondary outcomes were incidence of uri and lri, analysed separately; incidence of emergency department attendance and/or hospital admission for ari; death due to ari or respiratory failure; use of antibiotics to treat an ari; absence from work or school due to ari; incidence of serious adverse events; death due to any cause; and incidence of potential adverse reactions to hydroxychloroquine (hypercalcaemia and renal stones).  NEUTRAL"
      ]
     },
     "execution_count": 331,
     "metadata": {},
     "output_type": "execute_result"
    }
   ],
   "source": [
    "roam_dd_ph.head(3)"
   ]
  },
  {
   "cell_type": "code",
   "execution_count": 332,
   "metadata": {},
   "outputs": [
    {
     "data": {
      "text/html": [
       "<div>\n",
       "<style scoped>\n",
       "    .dataframe tbody tr th:only-of-type {\n",
       "        vertical-align: middle;\n",
       "    }\n",
       "\n",
       "    .dataframe tbody tr th {\n",
       "        vertical-align: top;\n",
       "    }\n",
       "\n",
       "    .dataframe thead th {\n",
       "        text-align: right;\n",
       "    }\n",
       "</style>\n",
       "<table border=\"1\" class=\"dataframe\">\n",
       "  <thead>\n",
       "    <tr style=\"text-align: right;\">\n",
       "      <th></th>\n",
       "      <th>sentence1</th>\n",
       "      <th>sentence2</th>\n",
       "      <th>labels</th>\n",
       "    </tr>\n",
       "  </thead>\n",
       "  <tbody>\n",
       "    <tr>\n",
       "      <th>0</th>\n",
       "      <td>randomized clinical trials are needed to identify safe and effective treatments for covid-19, including those that definitively delineate the incidence of adverse effects and efficacy of hydroxychloroquine in hospitalized patients.</td>\n",
       "      <td>randomized clinical trials are needed to identify safe and effective treatments for covid-19, including those that definitively delineate the incidence of adverse effects and efficacy of hydroxychloroquine in hospitalized patients.</td>\n",
       "      <td>ENTAILMENT</td>\n",
       "    </tr>\n",
       "    <tr>\n",
       "      <th>1</th>\n",
       "      <td>on the other hand, despite the efficacy of hydroxychloroquine in covid-19 treatment is unclears9,s10, dose reduction could be associated with the decreased potency of hydroxychloroquine for covid-19 treatment.</td>\n",
       "      <td>on the other hand, despite the efficacy of hydroxychloroquine in covid-19 treatment is unclears9,s10, dose reduction could be associated with the decreased potency of hydroxychloroquine for covid-19 treatment.</td>\n",
       "      <td>ENTAILMENT</td>\n",
       "    </tr>\n",
       "    <tr>\n",
       "      <th>2</th>\n",
       "      <td>clinicians should monitor covid-19 patients when treating them with chloroquine or other qt-prolonging drugs, with special attention to females, patients with structural heart disease, baseline qt interval on ecg, concomitant use of other qt-prolonging medications, potassium or magnesium abnormalities and bradycardia.</td>\n",
       "      <td>clinicians should monitor covid-19 patients when treating them with chloroquine or other qt-prolonging drugs, with special attention to females, patients with structural heart disease, baseline qt interval on ecg, concomitant use of other qt-prolonging medications, potassium or magnesium abnormalities and bradycardia.</td>\n",
       "      <td>ENTAILMENT</td>\n",
       "    </tr>\n",
       "  </tbody>\n",
       "</table>\n",
       "</div>"
      ],
      "text/plain": [
       "                                                                                                                                                                                                                                                                                                                         sentence1                                                                                                                                                                                                                                                                                                                        sentence2      labels\n",
       "0  randomized clinical trials are needed to identify safe and effective treatments for covid-19, including those that definitively delineate the incidence of adverse effects and efficacy of hydroxychloroquine in hospitalized patients.                                                                                          randomized clinical trials are needed to identify safe and effective treatments for covid-19, including those that definitively delineate the incidence of adverse effects and efficacy of hydroxychloroquine in hospitalized patients.                                                                                          ENTAILMENT\n",
       "1  on the other hand, despite the efficacy of hydroxychloroquine in covid-19 treatment is unclears9,s10, dose reduction could be associated with the decreased potency of hydroxychloroquine for covid-19 treatment.                                                                                                                on the other hand, despite the efficacy of hydroxychloroquine in covid-19 treatment is unclears9,s10, dose reduction could be associated with the decreased potency of hydroxychloroquine for covid-19 treatment.                                                                                                                ENTAILMENT\n",
       "2  clinicians should monitor covid-19 patients when treating them with chloroquine or other qt-prolonging drugs, with special attention to females, patients with structural heart disease, baseline qt interval on ecg, concomitant use of other qt-prolonging medications, potassium or magnesium abnormalities and bradycardia.  clinicians should monitor covid-19 patients when treating them with chloroquine or other qt-prolonging drugs, with special attention to females, patients with structural heart disease, baseline qt interval on ecg, concomitant use of other qt-prolonging medications, potassium or magnesium abnormalities and bradycardia.  ENTAILMENT"
      ]
     },
     "execution_count": 332,
     "metadata": {},
     "output_type": "execute_result"
    }
   ],
   "source": [
    "roam_ph.head(3)"
   ]
  },
  {
   "cell_type": "code",
   "execution_count": null,
   "metadata": {},
   "outputs": [],
   "source": []
  },
  {
   "cell_type": "code",
   "execution_count": null,
   "metadata": {},
   "outputs": [],
   "source": []
  },
  {
   "cell_type": "code",
   "execution_count": null,
   "metadata": {},
   "outputs": [],
   "source": []
  },
  {
   "cell_type": "code",
   "execution_count": null,
   "metadata": {},
   "outputs": [],
   "source": []
  },
  {
   "cell_type": "code",
   "execution_count": null,
   "metadata": {},
   "outputs": [],
   "source": []
  },
  {
   "cell_type": "code",
   "execution_count": 1,
   "metadata": {},
   "outputs": [],
   "source": []
  },
  {
   "cell_type": "code",
   "execution_count": 1,
   "metadata": {},
   "outputs": [
    {
     "name": "stdout",
     "output_type": "stream",
     "text": [
      "====Creating multinli Dataset object for train/val/test...====\n"
     ]
    },
    {
     "name": "stderr",
     "output_type": "stream",
     "text": [
      "Using custom data configuration default\n",
      "Found cached dataset multi_nli (/Users/dnsosa/.cache/huggingface/datasets/multi_nli/default/0.0.0/591f72eb6263d1ab527561777936b199b714cda156d35716881158a2bd144f39)\n"
     ]
    },
    {
     "data": {
      "application/vnd.jupyter.widget-view+json": {
       "model_id": "9ebbc6f869f349c29ecf999e20b2029d",
       "version_major": 2,
       "version_minor": 0
      },
      "text/plain": [
       "  0%|          | 0/3 [00:00<?, ?it/s]"
      ]
     },
     "metadata": {},
     "output_type": "display_data"
    },
    {
     "name": "stderr",
     "output_type": "stream",
     "text": [
      "Loading cached processed dataset at /Users/dnsosa/.cache/huggingface/datasets/multi_nli/default/0.0.0/591f72eb6263d1ab527561777936b199b714cda156d35716881158a2bd144f39/cache-cf746adc131b9a82.arrow\n",
      "Loading cached processed dataset at /Users/dnsosa/.cache/huggingface/datasets/multi_nli/default/0.0.0/591f72eb6263d1ab527561777936b199b714cda156d35716881158a2bd144f39/cache-219eae8003b88bad.arrow\n",
      "Loading cached processed dataset at /Users/dnsosa/.cache/huggingface/datasets/multi_nli/default/0.0.0/591f72eb6263d1ab527561777936b199b714cda156d35716881158a2bd144f39/cache-5f6c1b53460da3cd.arrow\n",
      "Loading cached split indices for dataset at /Users/dnsosa/.cache/huggingface/datasets/multi_nli/default/0.0.0/591f72eb6263d1ab527561777936b199b714cda156d35716881158a2bd144f39/cache-9b83d1256632f1d6.arrow and /Users/dnsosa/.cache/huggingface/datasets/multi_nli/default/0.0.0/591f72eb6263d1ab527561777936b199b714cda156d35716881158a2bd144f39/cache-e0c94d6a3ca27823.arrow\n",
      "Loading cached processed dataset at /Users/dnsosa/.cache/huggingface/datasets/multi_nli/default/0.0.0/591f72eb6263d1ab527561777936b199b714cda156d35716881158a2bd144f39/cache-9f8ce727585603ff.arrow\n",
      "Loading cached processed dataset at /Users/dnsosa/.cache/huggingface/datasets/multi_nli/default/0.0.0/591f72eb6263d1ab527561777936b199b714cda156d35716881158a2bd144f39/cache-a749e2995d64ea7a.arrow\n",
      "Loading cached processed dataset at /Users/dnsosa/.cache/huggingface/datasets/multi_nli/default/0.0.0/591f72eb6263d1ab527561777936b199b714cda156d35716881158a2bd144f39/cache-6923879715453b18.arrow\n"
     ]
    },
    {
     "name": "stdout",
     "output_type": "stream",
     "text": [
      "====...done.====\n",
      "====Creating mednli Dataset object for train/val/test...====\n"
     ]
    },
    {
     "name": "stderr",
     "output_type": "stream",
     "text": [
      "Using custom data configuration default-e5247ea137d095d5\n",
      "Found cached dataset json (/Users/dnsosa/.cache/huggingface/datasets/json/default-e5247ea137d095d5/0.0.0/e6070c77f18f01a5ad4551a8b7edfba20b8438b7cad4d94e6ad9378022ce4aab)\n"
     ]
    },
    {
     "data": {
      "application/vnd.jupyter.widget-view+json": {
       "model_id": "f62de10fb067405282ce6fc29168b0d1",
       "version_major": 2,
       "version_minor": 0
      },
      "text/plain": [
       "  0%|          | 0/3 [00:00<?, ?it/s]"
      ]
     },
     "metadata": {},
     "output_type": "display_data"
    },
    {
     "name": "stderr",
     "output_type": "stream",
     "text": [
      "Loading cached processed dataset at /Users/dnsosa/.cache/huggingface/datasets/json/default-e5247ea137d095d5/0.0.0/e6070c77f18f01a5ad4551a8b7edfba20b8438b7cad4d94e6ad9378022ce4aab/cache-b4834287848785dd.arrow\n",
      "Loading cached processed dataset at /Users/dnsosa/.cache/huggingface/datasets/json/default-e5247ea137d095d5/0.0.0/e6070c77f18f01a5ad4551a8b7edfba20b8438b7cad4d94e6ad9378022ce4aab/cache-7f0f4a316a8e5bb3.arrow\n",
      "Loading cached processed dataset at /Users/dnsosa/.cache/huggingface/datasets/json/default-e5247ea137d095d5/0.0.0/e6070c77f18f01a5ad4551a8b7edfba20b8438b7cad4d94e6ad9378022ce4aab/cache-af90fb7c154f5da6.arrow\n",
      "Loading cached processed dataset at /Users/dnsosa/.cache/huggingface/datasets/json/default-e5247ea137d095d5/0.0.0/e6070c77f18f01a5ad4551a8b7edfba20b8438b7cad4d94e6ad9378022ce4aab/cache-e40fa9fcc0faf7b1.arrow\n",
      "Loading cached processed dataset at /Users/dnsosa/.cache/huggingface/datasets/json/default-e5247ea137d095d5/0.0.0/e6070c77f18f01a5ad4551a8b7edfba20b8438b7cad4d94e6ad9378022ce4aab/cache-cddf317371ca03dc.arrow\n",
      "Loading cached processed dataset at /Users/dnsosa/.cache/huggingface/datasets/json/default-e5247ea137d095d5/0.0.0/e6070c77f18f01a5ad4551a8b7edfba20b8438b7cad4d94e6ad9378022ce4aab/cache-b7575665e7f2cfe1.arrow\n",
      "Loading cached processed dataset at /Users/dnsosa/.cache/huggingface/datasets/json/default-e5247ea137d095d5/0.0.0/e6070c77f18f01a5ad4551a8b7edfba20b8438b7cad4d94e6ad9378022ce4aab/cache-155628ff2a63201e.arrow\n",
      "Loading cached processed dataset at /Users/dnsosa/.cache/huggingface/datasets/json/default-e5247ea137d095d5/0.0.0/e6070c77f18f01a5ad4551a8b7edfba20b8438b7cad4d94e6ad9378022ce4aab/cache-0141fb25e5cac4bb.arrow\n",
      "Loading cached processed dataset at /Users/dnsosa/.cache/huggingface/datasets/json/default-e5247ea137d095d5/0.0.0/e6070c77f18f01a5ad4551a8b7edfba20b8438b7cad4d94e6ad9378022ce4aab/cache-148739720709c5fe.arrow\n"
     ]
    },
    {
     "name": "stdout",
     "output_type": "stream",
     "text": [
      "====...done.====\n",
      "====Creating mancon Dataset object for train/val/test...====\n"
     ]
    },
    {
     "data": {
      "application/vnd.jupyter.widget-view+json": {
       "model_id": "11950dd7797f45129fcef3d96cac96bd",
       "version_major": 2,
       "version_minor": 0
      },
      "text/plain": [
       "Casting the dataset:   0%|          | 0/1 [00:00<?, ?ba/s]"
      ]
     },
     "metadata": {},
     "output_type": "display_data"
    },
    {
     "data": {
      "application/vnd.jupyter.widget-view+json": {
       "model_id": "8229a918ef6c40538eab3230008a5cfc",
       "version_major": 2,
       "version_minor": 0
      },
      "text/plain": [
       "Casting the dataset:   0%|          | 0/1 [00:00<?, ?ba/s]"
      ]
     },
     "metadata": {},
     "output_type": "display_data"
    },
    {
     "data": {
      "application/vnd.jupyter.widget-view+json": {
       "model_id": "c4d7253676f5431bbf88816d1ad20a4e",
       "version_major": 2,
       "version_minor": 0
      },
      "text/plain": [
       "Casting the dataset:   0%|          | 0/1 [00:00<?, ?ba/s]"
      ]
     },
     "metadata": {},
     "output_type": "display_data"
    },
    {
     "data": {
      "application/vnd.jupyter.widget-view+json": {
       "model_id": "9b90e3f862834709b440155dc1119f5e",
       "version_major": 2,
       "version_minor": 0
      },
      "text/plain": [
       "  0%|          | 0/2 [00:00<?, ?ba/s]"
      ]
     },
     "metadata": {},
     "output_type": "display_data"
    },
    {
     "name": "stderr",
     "output_type": "stream",
     "text": [
      "Asking to truncate to max_length but no maximum length is provided and the model has no predefined maximum length. Default to no truncation.\n"
     ]
    },
    {
     "data": {
      "application/vnd.jupyter.widget-view+json": {
       "model_id": "15d3d6d6ecd44724b372f6be448611f2",
       "version_major": 2,
       "version_minor": 0
      },
      "text/plain": [
       "  0%|          | 0/1 [00:00<?, ?ba/s]"
      ]
     },
     "metadata": {},
     "output_type": "display_data"
    },
    {
     "data": {
      "application/vnd.jupyter.widget-view+json": {
       "model_id": "564ac8735e8f4749a2933ef324583d9e",
       "version_major": 2,
       "version_minor": 0
      },
      "text/plain": [
       "  0%|          | 0/1 [00:00<?, ?ba/s]"
      ]
     },
     "metadata": {},
     "output_type": "display_data"
    },
    {
     "name": "stdout",
     "output_type": "stream",
     "text": [
      "====...done.====\n",
      "====Creating roam Dataset object for train/val/test...====\n"
     ]
    },
    {
     "data": {
      "application/vnd.jupyter.widget-view+json": {
       "model_id": "33f7700a8660414fb23a94e93e653253",
       "version_major": 2,
       "version_minor": 0
      },
      "text/plain": [
       "  0%|          | 0/1 [00:00<?, ?ba/s]"
      ]
     },
     "metadata": {},
     "output_type": "display_data"
    },
    {
     "data": {
      "application/vnd.jupyter.widget-view+json": {
       "model_id": "cdd45a5acb2a458f838f3d6ad9e93007",
       "version_major": 2,
       "version_minor": 0
      },
      "text/plain": [
       "  0%|          | 0/1 [00:00<?, ?ba/s]"
      ]
     },
     "metadata": {},
     "output_type": "display_data"
    },
    {
     "data": {
      "application/vnd.jupyter.widget-view+json": {
       "model_id": "4bafea9bf659400ea94712222117f8ea",
       "version_major": 2,
       "version_minor": 0
      },
      "text/plain": [
       "  0%|          | 0/1 [00:00<?, ?ba/s]"
      ]
     },
     "metadata": {},
     "output_type": "display_data"
    },
    {
     "data": {
      "application/vnd.jupyter.widget-view+json": {
       "model_id": "239bee2ffdff4a1eaf7863e5b50c101f",
       "version_major": 2,
       "version_minor": 0
      },
      "text/plain": [
       "Casting the dataset:   0%|          | 0/1 [00:00<?, ?ba/s]"
      ]
     },
     "metadata": {},
     "output_type": "display_data"
    },
    {
     "data": {
      "application/vnd.jupyter.widget-view+json": {
       "model_id": "5e16602f3b134ca9911b4aa0854322fc",
       "version_major": 2,
       "version_minor": 0
      },
      "text/plain": [
       "Casting the dataset:   0%|          | 0/1 [00:00<?, ?ba/s]"
      ]
     },
     "metadata": {},
     "output_type": "display_data"
    },
    {
     "data": {
      "application/vnd.jupyter.widget-view+json": {
       "model_id": "388088e511404ce7afb81eedca3cc3ef",
       "version_major": 2,
       "version_minor": 0
      },
      "text/plain": [
       "Casting the dataset:   0%|          | 0/1 [00:00<?, ?ba/s]"
      ]
     },
     "metadata": {},
     "output_type": "display_data"
    },
    {
     "data": {
      "application/vnd.jupyter.widget-view+json": {
       "model_id": "d551689662dd4a0aa814e37297fc1589",
       "version_major": 2,
       "version_minor": 0
      },
      "text/plain": [
       "  0%|          | 0/1 [00:00<?, ?ba/s]"
      ]
     },
     "metadata": {},
     "output_type": "display_data"
    },
    {
     "data": {
      "application/vnd.jupyter.widget-view+json": {
       "model_id": "64c4bc00a89e4de2afaa9b0b6e4ee178",
       "version_major": 2,
       "version_minor": 0
      },
      "text/plain": [
       "  0%|          | 0/1 [00:00<?, ?ba/s]"
      ]
     },
     "metadata": {},
     "output_type": "display_data"
    },
    {
     "data": {
      "application/vnd.jupyter.widget-view+json": {
       "model_id": "28645264b6464a85ad71d68d6f65ccf1",
       "version_major": 2,
       "version_minor": 0
      },
      "text/plain": [
       "  0%|          | 0/1 [00:00<?, ?ba/s]"
      ]
     },
     "metadata": {},
     "output_type": "display_data"
    },
    {
     "name": "stdout",
     "output_type": "stream",
     "text": [
      "====...done.====\n",
      "====Creating roamAll Dataset object for train/val/test...====\n"
     ]
    },
    {
     "data": {
      "application/vnd.jupyter.widget-view+json": {
       "model_id": "29cc8f12247a48c98dc36abf16a43b17",
       "version_major": 2,
       "version_minor": 0
      },
      "text/plain": [
       "Casting the dataset:   0%|          | 0/1 [00:00<?, ?ba/s]"
      ]
     },
     "metadata": {},
     "output_type": "display_data"
    },
    {
     "data": {
      "application/vnd.jupyter.widget-view+json": {
       "model_id": "d4e71ec5e70d468fba51966cc3ca746c",
       "version_major": 2,
       "version_minor": 0
      },
      "text/plain": [
       "Casting the dataset:   0%|          | 0/1 [00:00<?, ?ba/s]"
      ]
     },
     "metadata": {},
     "output_type": "display_data"
    },
    {
     "data": {
      "application/vnd.jupyter.widget-view+json": {
       "model_id": "ecf82797b2784842ae75b53aa9dbc95d",
       "version_major": 2,
       "version_minor": 0
      },
      "text/plain": [
       "Casting the dataset:   0%|          | 0/1 [00:00<?, ?ba/s]"
      ]
     },
     "metadata": {},
     "output_type": "display_data"
    },
    {
     "data": {
      "application/vnd.jupyter.widget-view+json": {
       "model_id": "5e2050f7ddca46228436c0955de827da",
       "version_major": 2,
       "version_minor": 0
      },
      "text/plain": [
       "  0%|          | 0/1 [00:00<?, ?ba/s]"
      ]
     },
     "metadata": {},
     "output_type": "display_data"
    },
    {
     "data": {
      "application/vnd.jupyter.widget-view+json": {
       "model_id": "c4cb2f2e48c84451baf8b583624420fc",
       "version_major": 2,
       "version_minor": 0
      },
      "text/plain": [
       "  0%|          | 0/1 [00:00<?, ?ba/s]"
      ]
     },
     "metadata": {},
     "output_type": "display_data"
    },
    {
     "data": {
      "application/vnd.jupyter.widget-view+json": {
       "model_id": "ab68f2c0416c447e95f02d1a75805448",
       "version_major": 2,
       "version_minor": 0
      },
      "text/plain": [
       "  0%|          | 0/1 [00:00<?, ?ba/s]"
      ]
     },
     "metadata": {},
     "output_type": "display_data"
    },
    {
     "name": "stdout",
     "output_type": "stream",
     "text": [
      "====...done.====\n",
      "====Creating roamPH Dataset object for train/val/test...====\n"
     ]
    },
    {
     "data": {
      "application/vnd.jupyter.widget-view+json": {
       "model_id": "e4fc5dad06504f64892d5503ae6a06ea",
       "version_major": 2,
       "version_minor": 0
      },
      "text/plain": [
       "Casting the dataset:   0%|          | 0/1 [00:00<?, ?ba/s]"
      ]
     },
     "metadata": {},
     "output_type": "display_data"
    },
    {
     "data": {
      "application/vnd.jupyter.widget-view+json": {
       "model_id": "81059df50bc04e6e8b064b108336787e",
       "version_major": 2,
       "version_minor": 0
      },
      "text/plain": [
       "Casting the dataset:   0%|          | 0/1 [00:00<?, ?ba/s]"
      ]
     },
     "metadata": {},
     "output_type": "display_data"
    },
    {
     "data": {
      "application/vnd.jupyter.widget-view+json": {
       "model_id": "daec76aedb1e4f50aaf96af43291a8c6",
       "version_major": 2,
       "version_minor": 0
      },
      "text/plain": [
       "Casting the dataset:   0%|          | 0/1 [00:00<?, ?ba/s]"
      ]
     },
     "metadata": {},
     "output_type": "display_data"
    },
    {
     "data": {
      "application/vnd.jupyter.widget-view+json": {
       "model_id": "befd71462efb43afb473b17a1a6c9b0c",
       "version_major": 2,
       "version_minor": 0
      },
      "text/plain": [
       "  0%|          | 0/1 [00:00<?, ?ba/s]"
      ]
     },
     "metadata": {},
     "output_type": "display_data"
    },
    {
     "data": {
      "application/vnd.jupyter.widget-view+json": {
       "model_id": "6e27f8b196c3473d8ab0e0a81e852d2a",
       "version_major": 2,
       "version_minor": 0
      },
      "text/plain": [
       "  0%|          | 0/1 [00:00<?, ?ba/s]"
      ]
     },
     "metadata": {},
     "output_type": "display_data"
    },
    {
     "data": {
      "application/vnd.jupyter.widget-view+json": {
       "model_id": "c62c34417861449cbc5f4b354bb81c8a",
       "version_major": 2,
       "version_minor": 0
      },
      "text/plain": [
       "  0%|          | 0/1 [00:00<?, ?ba/s]"
      ]
     },
     "metadata": {},
     "output_type": "display_data"
    },
    {
     "name": "stdout",
     "output_type": "stream",
     "text": [
      "====...done.====\n",
      "====Creating roamDD Dataset object for train/val/test...====\n"
     ]
    },
    {
     "data": {
      "application/vnd.jupyter.widget-view+json": {
       "model_id": "804eeb8d0c8e4e29a9e86340ffa09ac3",
       "version_major": 2,
       "version_minor": 0
      },
      "text/plain": [
       "Casting the dataset:   0%|          | 0/1 [00:00<?, ?ba/s]"
      ]
     },
     "metadata": {},
     "output_type": "display_data"
    },
    {
     "data": {
      "application/vnd.jupyter.widget-view+json": {
       "model_id": "a31c5cf33a8749a5a7dac1855d5b86dd",
       "version_major": 2,
       "version_minor": 0
      },
      "text/plain": [
       "Casting the dataset:   0%|          | 0/1 [00:00<?, ?ba/s]"
      ]
     },
     "metadata": {},
     "output_type": "display_data"
    },
    {
     "data": {
      "application/vnd.jupyter.widget-view+json": {
       "model_id": "4875b175805c4039ac4b789b7c5218b2",
       "version_major": 2,
       "version_minor": 0
      },
      "text/plain": [
       "Casting the dataset:   0%|          | 0/1 [00:00<?, ?ba/s]"
      ]
     },
     "metadata": {},
     "output_type": "display_data"
    },
    {
     "data": {
      "application/vnd.jupyter.widget-view+json": {
       "model_id": "295668e824464592af709e06f155abda",
       "version_major": 2,
       "version_minor": 0
      },
      "text/plain": [
       "  0%|          | 0/1 [00:00<?, ?ba/s]"
      ]
     },
     "metadata": {},
     "output_type": "display_data"
    },
    {
     "data": {
      "application/vnd.jupyter.widget-view+json": {
       "model_id": "1e99a1a354624d8e8ed92cac7c4ef9c0",
       "version_major": 2,
       "version_minor": 0
      },
      "text/plain": [
       "  0%|          | 0/1 [00:00<?, ?ba/s]"
      ]
     },
     "metadata": {},
     "output_type": "display_data"
    },
    {
     "data": {
      "application/vnd.jupyter.widget-view+json": {
       "model_id": "22f1fe922e3643d894c0cf2ee5dec744",
       "version_major": 2,
       "version_minor": 0
      },
      "text/plain": [
       "  0%|          | 0/1 [00:00<?, ?ba/s]"
      ]
     },
     "metadata": {},
     "output_type": "display_data"
    },
    {
     "name": "stdout",
     "output_type": "stream",
     "text": [
      "====...done.====\n",
      "====Creating roamDDPH Dataset object for train/val/test...====\n"
     ]
    },
    {
     "data": {
      "application/vnd.jupyter.widget-view+json": {
       "model_id": "483b82f8ccad401e8d833894e326b96e",
       "version_major": 2,
       "version_minor": 0
      },
      "text/plain": [
       "Casting the dataset:   0%|          | 0/1 [00:00<?, ?ba/s]"
      ]
     },
     "metadata": {},
     "output_type": "display_data"
    },
    {
     "data": {
      "application/vnd.jupyter.widget-view+json": {
       "model_id": "9c0c85a2315346b593fc432f64f8410e",
       "version_major": 2,
       "version_minor": 0
      },
      "text/plain": [
       "Casting the dataset:   0%|          | 0/1 [00:00<?, ?ba/s]"
      ]
     },
     "metadata": {},
     "output_type": "display_data"
    },
    {
     "data": {
      "application/vnd.jupyter.widget-view+json": {
       "model_id": "2ce1b2d4668649539eadfd6fceaa5e7f",
       "version_major": 2,
       "version_minor": 0
      },
      "text/plain": [
       "Casting the dataset:   0%|          | 0/1 [00:00<?, ?ba/s]"
      ]
     },
     "metadata": {},
     "output_type": "display_data"
    },
    {
     "data": {
      "application/vnd.jupyter.widget-view+json": {
       "model_id": "efa10e8bfbc046d68be5c355d607107d",
       "version_major": 2,
       "version_minor": 0
      },
      "text/plain": [
       "  0%|          | 0/1 [00:00<?, ?ba/s]"
      ]
     },
     "metadata": {},
     "output_type": "display_data"
    },
    {
     "data": {
      "application/vnd.jupyter.widget-view+json": {
       "model_id": "fb21ba62e89b4f90834104ff2d9cd23c",
       "version_major": 2,
       "version_minor": 0
      },
      "text/plain": [
       "  0%|          | 0/1 [00:00<?, ?ba/s]"
      ]
     },
     "metadata": {},
     "output_type": "display_data"
    },
    {
     "data": {
      "application/vnd.jupyter.widget-view+json": {
       "model_id": "c5e35dcac18b464abf59da9ac92bca4f",
       "version_major": 2,
       "version_minor": 0
      },
      "text/plain": [
       "  0%|          | 0/1 [00:00<?, ?ba/s]"
      ]
     },
     "metadata": {},
     "output_type": "display_data"
    },
    {
     "name": "stdout",
     "output_type": "stream",
     "text": [
      "====...done.====\n",
      "====Creating multinli Dataset object for evaluation only...====\n"
     ]
    },
    {
     "name": "stderr",
     "output_type": "stream",
     "text": [
      "Using custom data configuration default\n",
      "Found cached dataset multi_nli (/Users/dnsosa/.cache/huggingface/datasets/multi_nli/default/0.0.0/591f72eb6263d1ab527561777936b199b714cda156d35716881158a2bd144f39)\n"
     ]
    },
    {
     "data": {
      "application/vnd.jupyter.widget-view+json": {
       "model_id": "096bbd02f19a4623b2c23550c13db23a",
       "version_major": 2,
       "version_minor": 0
      },
      "text/plain": [
       "  0%|          | 0/3 [00:00<?, ?it/s]"
      ]
     },
     "metadata": {},
     "output_type": "display_data"
    },
    {
     "name": "stderr",
     "output_type": "stream",
     "text": [
      "Loading cached processed dataset at /Users/dnsosa/.cache/huggingface/datasets/multi_nli/default/0.0.0/591f72eb6263d1ab527561777936b199b714cda156d35716881158a2bd144f39/cache-cf746adc131b9a82.arrow\n",
      "Loading cached processed dataset at /Users/dnsosa/.cache/huggingface/datasets/multi_nli/default/0.0.0/591f72eb6263d1ab527561777936b199b714cda156d35716881158a2bd144f39/cache-219eae8003b88bad.arrow\n",
      "Loading cached processed dataset at /Users/dnsosa/.cache/huggingface/datasets/multi_nli/default/0.0.0/591f72eb6263d1ab527561777936b199b714cda156d35716881158a2bd144f39/cache-5f6c1b53460da3cd.arrow\n",
      "Loading cached split indices for dataset at /Users/dnsosa/.cache/huggingface/datasets/multi_nli/default/0.0.0/591f72eb6263d1ab527561777936b199b714cda156d35716881158a2bd144f39/cache-9b83d1256632f1d6.arrow and /Users/dnsosa/.cache/huggingface/datasets/multi_nli/default/0.0.0/591f72eb6263d1ab527561777936b199b714cda156d35716881158a2bd144f39/cache-e0c94d6a3ca27823.arrow\n",
      "Loading cached processed dataset at /Users/dnsosa/.cache/huggingface/datasets/multi_nli/default/0.0.0/591f72eb6263d1ab527561777936b199b714cda156d35716881158a2bd144f39/cache-a13df9a429650c87.arrow\n",
      "Loading cached processed dataset at /Users/dnsosa/.cache/huggingface/datasets/multi_nli/default/0.0.0/591f72eb6263d1ab527561777936b199b714cda156d35716881158a2bd144f39/cache-aea275f7b941c15a.arrow\n",
      "Loading cached processed dataset at /Users/dnsosa/.cache/huggingface/datasets/multi_nli/default/0.0.0/591f72eb6263d1ab527561777936b199b714cda156d35716881158a2bd144f39/cache-6e954c20a218b7de.arrow\n"
     ]
    },
    {
     "name": "stdout",
     "output_type": "stream",
     "text": [
      "====...done.====\n",
      "====Creating mednli Dataset object for evaluation only...====\n"
     ]
    },
    {
     "name": "stderr",
     "output_type": "stream",
     "text": [
      "Using custom data configuration default-e5247ea137d095d5\n",
      "Found cached dataset json (/Users/dnsosa/.cache/huggingface/datasets/json/default-e5247ea137d095d5/0.0.0/e6070c77f18f01a5ad4551a8b7edfba20b8438b7cad4d94e6ad9378022ce4aab)\n"
     ]
    },
    {
     "data": {
      "application/vnd.jupyter.widget-view+json": {
       "model_id": "ed3bb7f652134a579964228f5a28564a",
       "version_major": 2,
       "version_minor": 0
      },
      "text/plain": [
       "  0%|          | 0/3 [00:00<?, ?it/s]"
      ]
     },
     "metadata": {},
     "output_type": "display_data"
    },
    {
     "name": "stderr",
     "output_type": "stream",
     "text": [
      "Loading cached processed dataset at /Users/dnsosa/.cache/huggingface/datasets/json/default-e5247ea137d095d5/0.0.0/e6070c77f18f01a5ad4551a8b7edfba20b8438b7cad4d94e6ad9378022ce4aab/cache-b4834287848785dd.arrow\n",
      "Loading cached processed dataset at /Users/dnsosa/.cache/huggingface/datasets/json/default-e5247ea137d095d5/0.0.0/e6070c77f18f01a5ad4551a8b7edfba20b8438b7cad4d94e6ad9378022ce4aab/cache-7f0f4a316a8e5bb3.arrow\n",
      "Loading cached processed dataset at /Users/dnsosa/.cache/huggingface/datasets/json/default-e5247ea137d095d5/0.0.0/e6070c77f18f01a5ad4551a8b7edfba20b8438b7cad4d94e6ad9378022ce4aab/cache-af90fb7c154f5da6.arrow\n",
      "Loading cached processed dataset at /Users/dnsosa/.cache/huggingface/datasets/json/default-e5247ea137d095d5/0.0.0/e6070c77f18f01a5ad4551a8b7edfba20b8438b7cad4d94e6ad9378022ce4aab/cache-e40fa9fcc0faf7b1.arrow\n",
      "Loading cached processed dataset at /Users/dnsosa/.cache/huggingface/datasets/json/default-e5247ea137d095d5/0.0.0/e6070c77f18f01a5ad4551a8b7edfba20b8438b7cad4d94e6ad9378022ce4aab/cache-cddf317371ca03dc.arrow\n",
      "Loading cached processed dataset at /Users/dnsosa/.cache/huggingface/datasets/json/default-e5247ea137d095d5/0.0.0/e6070c77f18f01a5ad4551a8b7edfba20b8438b7cad4d94e6ad9378022ce4aab/cache-b7575665e7f2cfe1.arrow\n",
      "Loading cached processed dataset at /Users/dnsosa/.cache/huggingface/datasets/json/default-e5247ea137d095d5/0.0.0/e6070c77f18f01a5ad4551a8b7edfba20b8438b7cad4d94e6ad9378022ce4aab/cache-053ac8b7150d4be9.arrow\n",
      "Loading cached processed dataset at /Users/dnsosa/.cache/huggingface/datasets/json/default-e5247ea137d095d5/0.0.0/e6070c77f18f01a5ad4551a8b7edfba20b8438b7cad4d94e6ad9378022ce4aab/cache-1636f16a1c29c62c.arrow\n",
      "Loading cached processed dataset at /Users/dnsosa/.cache/huggingface/datasets/json/default-e5247ea137d095d5/0.0.0/e6070c77f18f01a5ad4551a8b7edfba20b8438b7cad4d94e6ad9378022ce4aab/cache-c9361da3430267be.arrow\n"
     ]
    },
    {
     "name": "stdout",
     "output_type": "stream",
     "text": [
      "====...done.====\n",
      "====Creating mancon Dataset object for evaluation only...====\n"
     ]
    },
    {
     "data": {
      "application/vnd.jupyter.widget-view+json": {
       "model_id": "309b54a1eec3431baf371c75d13d0f42",
       "version_major": 2,
       "version_minor": 0
      },
      "text/plain": [
       "Casting the dataset:   0%|          | 0/1 [00:00<?, ?ba/s]"
      ]
     },
     "metadata": {},
     "output_type": "display_data"
    },
    {
     "data": {
      "application/vnd.jupyter.widget-view+json": {
       "model_id": "18be9c25fed64de28f6638c6113d2990",
       "version_major": 2,
       "version_minor": 0
      },
      "text/plain": [
       "Casting the dataset:   0%|          | 0/1 [00:00<?, ?ba/s]"
      ]
     },
     "metadata": {},
     "output_type": "display_data"
    },
    {
     "data": {
      "application/vnd.jupyter.widget-view+json": {
       "model_id": "b0627ae0eb7c4b78a78a59c01933228d",
       "version_major": 2,
       "version_minor": 0
      },
      "text/plain": [
       "Casting the dataset:   0%|          | 0/1 [00:00<?, ?ba/s]"
      ]
     },
     "metadata": {},
     "output_type": "display_data"
    },
    {
     "data": {
      "application/vnd.jupyter.widget-view+json": {
       "model_id": "6a8f0ff1a07f4440ad06e997dbcfff4b",
       "version_major": 2,
       "version_minor": 0
      },
      "text/plain": [
       "  0%|          | 0/2 [00:00<?, ?ba/s]"
      ]
     },
     "metadata": {},
     "output_type": "display_data"
    },
    {
     "data": {
      "application/vnd.jupyter.widget-view+json": {
       "model_id": "73ada8e9ed1d4dd2bbeea401f22faf98",
       "version_major": 2,
       "version_minor": 0
      },
      "text/plain": [
       "  0%|          | 0/1 [00:00<?, ?ba/s]"
      ]
     },
     "metadata": {},
     "output_type": "display_data"
    },
    {
     "data": {
      "application/vnd.jupyter.widget-view+json": {
       "model_id": "bd6a4cad253c4efbb0b5ce03e10fce1d",
       "version_major": 2,
       "version_minor": 0
      },
      "text/plain": [
       "  0%|          | 0/1 [00:00<?, ?ba/s]"
      ]
     },
     "metadata": {},
     "output_type": "display_data"
    },
    {
     "name": "stdout",
     "output_type": "stream",
     "text": [
      "====...done.====\n",
      "====Creating roam Dataset object for evaluation only...====\n"
     ]
    },
    {
     "data": {
      "application/vnd.jupyter.widget-view+json": {
       "model_id": "85418ed35105427cbbf1cfc6684cbfa6",
       "version_major": 2,
       "version_minor": 0
      },
      "text/plain": [
       "  0%|          | 0/1 [00:00<?, ?ba/s]"
      ]
     },
     "metadata": {},
     "output_type": "display_data"
    },
    {
     "data": {
      "application/vnd.jupyter.widget-view+json": {
       "model_id": "258b277cb75c47688000484446050d35",
       "version_major": 2,
       "version_minor": 0
      },
      "text/plain": [
       "  0%|          | 0/1 [00:00<?, ?ba/s]"
      ]
     },
     "metadata": {},
     "output_type": "display_data"
    },
    {
     "data": {
      "application/vnd.jupyter.widget-view+json": {
       "model_id": "80ee5e1baf4546b3a4a296c9b61ebd08",
       "version_major": 2,
       "version_minor": 0
      },
      "text/plain": [
       "  0%|          | 0/1 [00:00<?, ?ba/s]"
      ]
     },
     "metadata": {},
     "output_type": "display_data"
    },
    {
     "data": {
      "application/vnd.jupyter.widget-view+json": {
       "model_id": "a72104d04c534e81884fe2e9afd51d6d",
       "version_major": 2,
       "version_minor": 0
      },
      "text/plain": [
       "Casting the dataset:   0%|          | 0/1 [00:00<?, ?ba/s]"
      ]
     },
     "metadata": {},
     "output_type": "display_data"
    },
    {
     "data": {
      "application/vnd.jupyter.widget-view+json": {
       "model_id": "15326233bbbf4f1f8d1e7b794fac3797",
       "version_major": 2,
       "version_minor": 0
      },
      "text/plain": [
       "Casting the dataset:   0%|          | 0/1 [00:00<?, ?ba/s]"
      ]
     },
     "metadata": {},
     "output_type": "display_data"
    },
    {
     "data": {
      "application/vnd.jupyter.widget-view+json": {
       "model_id": "2177e794aecb4e05adc04491f2b832ff",
       "version_major": 2,
       "version_minor": 0
      },
      "text/plain": [
       "Casting the dataset:   0%|          | 0/1 [00:00<?, ?ba/s]"
      ]
     },
     "metadata": {},
     "output_type": "display_data"
    },
    {
     "data": {
      "application/vnd.jupyter.widget-view+json": {
       "model_id": "a3cec01f9e7948abbae8b144ff13979d",
       "version_major": 2,
       "version_minor": 0
      },
      "text/plain": [
       "  0%|          | 0/1 [00:00<?, ?ba/s]"
      ]
     },
     "metadata": {},
     "output_type": "display_data"
    },
    {
     "data": {
      "application/vnd.jupyter.widget-view+json": {
       "model_id": "2636bd67df66424d86da0a46ae55ae62",
       "version_major": 2,
       "version_minor": 0
      },
      "text/plain": [
       "  0%|          | 0/1 [00:00<?, ?ba/s]"
      ]
     },
     "metadata": {},
     "output_type": "display_data"
    },
    {
     "data": {
      "application/vnd.jupyter.widget-view+json": {
       "model_id": "934f04448150453e9af6e128e577384e",
       "version_major": 2,
       "version_minor": 0
      },
      "text/plain": [
       "  0%|          | 0/1 [00:00<?, ?ba/s]"
      ]
     },
     "metadata": {},
     "output_type": "display_data"
    },
    {
     "name": "stdout",
     "output_type": "stream",
     "text": [
      "====...done.====\n",
      "====Creating roamAll Dataset object for evaluation only...====\n"
     ]
    },
    {
     "data": {
      "application/vnd.jupyter.widget-view+json": {
       "model_id": "76af3d43de5e4a9380c9db5107a2d61c",
       "version_major": 2,
       "version_minor": 0
      },
      "text/plain": [
       "Casting the dataset:   0%|          | 0/1 [00:00<?, ?ba/s]"
      ]
     },
     "metadata": {},
     "output_type": "display_data"
    },
    {
     "data": {
      "application/vnd.jupyter.widget-view+json": {
       "model_id": "3c884282d7624184924e326d0f87ac46",
       "version_major": 2,
       "version_minor": 0
      },
      "text/plain": [
       "Casting the dataset:   0%|          | 0/1 [00:00<?, ?ba/s]"
      ]
     },
     "metadata": {},
     "output_type": "display_data"
    },
    {
     "data": {
      "application/vnd.jupyter.widget-view+json": {
       "model_id": "2c9a88e7ff1046f9a7574b3820b45522",
       "version_major": 2,
       "version_minor": 0
      },
      "text/plain": [
       "Casting the dataset:   0%|          | 0/1 [00:00<?, ?ba/s]"
      ]
     },
     "metadata": {},
     "output_type": "display_data"
    },
    {
     "data": {
      "application/vnd.jupyter.widget-view+json": {
       "model_id": "78b5577e07114266801b1ed52f17415d",
       "version_major": 2,
       "version_minor": 0
      },
      "text/plain": [
       "  0%|          | 0/1 [00:00<?, ?ba/s]"
      ]
     },
     "metadata": {},
     "output_type": "display_data"
    },
    {
     "data": {
      "application/vnd.jupyter.widget-view+json": {
       "model_id": "696dbf8ff484413cb5ccb2bf6381f7ab",
       "version_major": 2,
       "version_minor": 0
      },
      "text/plain": [
       "  0%|          | 0/1 [00:00<?, ?ba/s]"
      ]
     },
     "metadata": {},
     "output_type": "display_data"
    },
    {
     "data": {
      "application/vnd.jupyter.widget-view+json": {
       "model_id": "99c0068db53441baa78025ae76a4a79b",
       "version_major": 2,
       "version_minor": 0
      },
      "text/plain": [
       "  0%|          | 0/1 [00:00<?, ?ba/s]"
      ]
     },
     "metadata": {},
     "output_type": "display_data"
    },
    {
     "name": "stdout",
     "output_type": "stream",
     "text": [
      "====...done.====\n",
      "====Creating roamPH Dataset object for evaluation only...====\n"
     ]
    },
    {
     "data": {
      "application/vnd.jupyter.widget-view+json": {
       "model_id": "bdcc0bd3a094409cbe2714d647831127",
       "version_major": 2,
       "version_minor": 0
      },
      "text/plain": [
       "Casting the dataset:   0%|          | 0/1 [00:00<?, ?ba/s]"
      ]
     },
     "metadata": {},
     "output_type": "display_data"
    },
    {
     "data": {
      "application/vnd.jupyter.widget-view+json": {
       "model_id": "bc6ad08b4ba7488b904715642c8e1435",
       "version_major": 2,
       "version_minor": 0
      },
      "text/plain": [
       "Casting the dataset:   0%|          | 0/1 [00:00<?, ?ba/s]"
      ]
     },
     "metadata": {},
     "output_type": "display_data"
    },
    {
     "data": {
      "application/vnd.jupyter.widget-view+json": {
       "model_id": "3489f4fe79bc4d8e9f722ed1a3a060dd",
       "version_major": 2,
       "version_minor": 0
      },
      "text/plain": [
       "Casting the dataset:   0%|          | 0/1 [00:00<?, ?ba/s]"
      ]
     },
     "metadata": {},
     "output_type": "display_data"
    },
    {
     "data": {
      "application/vnd.jupyter.widget-view+json": {
       "model_id": "79d83e670b6c4b1295150061ed9fe0d4",
       "version_major": 2,
       "version_minor": 0
      },
      "text/plain": [
       "  0%|          | 0/1 [00:00<?, ?ba/s]"
      ]
     },
     "metadata": {},
     "output_type": "display_data"
    },
    {
     "data": {
      "application/vnd.jupyter.widget-view+json": {
       "model_id": "e97294d536864db89b6ea30c322de789",
       "version_major": 2,
       "version_minor": 0
      },
      "text/plain": [
       "  0%|          | 0/1 [00:00<?, ?ba/s]"
      ]
     },
     "metadata": {},
     "output_type": "display_data"
    },
    {
     "data": {
      "application/vnd.jupyter.widget-view+json": {
       "model_id": "24298d3985d24931bf62da0cdc87a7df",
       "version_major": 2,
       "version_minor": 0
      },
      "text/plain": [
       "  0%|          | 0/1 [00:00<?, ?ba/s]"
      ]
     },
     "metadata": {},
     "output_type": "display_data"
    },
    {
     "name": "stdout",
     "output_type": "stream",
     "text": [
      "====...done.====\n",
      "====Creating roamDD Dataset object for evaluation only...====\n"
     ]
    },
    {
     "data": {
      "application/vnd.jupyter.widget-view+json": {
       "model_id": "d56cf5e2e2cc45e78a85584d1136b660",
       "version_major": 2,
       "version_minor": 0
      },
      "text/plain": [
       "Casting the dataset:   0%|          | 0/1 [00:00<?, ?ba/s]"
      ]
     },
     "metadata": {},
     "output_type": "display_data"
    },
    {
     "data": {
      "application/vnd.jupyter.widget-view+json": {
       "model_id": "d76c938cc75a4a4c8cc81971cdbd342e",
       "version_major": 2,
       "version_minor": 0
      },
      "text/plain": [
       "Casting the dataset:   0%|          | 0/1 [00:00<?, ?ba/s]"
      ]
     },
     "metadata": {},
     "output_type": "display_data"
    },
    {
     "data": {
      "application/vnd.jupyter.widget-view+json": {
       "model_id": "f253909018694174ba41084478e0a4de",
       "version_major": 2,
       "version_minor": 0
      },
      "text/plain": [
       "Casting the dataset:   0%|          | 0/1 [00:00<?, ?ba/s]"
      ]
     },
     "metadata": {},
     "output_type": "display_data"
    },
    {
     "data": {
      "application/vnd.jupyter.widget-view+json": {
       "model_id": "dc7b8e0eecd7481883e30a2a5a0faecd",
       "version_major": 2,
       "version_minor": 0
      },
      "text/plain": [
       "  0%|          | 0/1 [00:00<?, ?ba/s]"
      ]
     },
     "metadata": {},
     "output_type": "display_data"
    },
    {
     "data": {
      "application/vnd.jupyter.widget-view+json": {
       "model_id": "fc298118a7ac4ac898c507ed683d9d58",
       "version_major": 2,
       "version_minor": 0
      },
      "text/plain": [
       "  0%|          | 0/1 [00:00<?, ?ba/s]"
      ]
     },
     "metadata": {},
     "output_type": "display_data"
    },
    {
     "data": {
      "application/vnd.jupyter.widget-view+json": {
       "model_id": "b1e9e204b2d6413086d0ec4696af792c",
       "version_major": 2,
       "version_minor": 0
      },
      "text/plain": [
       "  0%|          | 0/1 [00:00<?, ?ba/s]"
      ]
     },
     "metadata": {},
     "output_type": "display_data"
    },
    {
     "name": "stdout",
     "output_type": "stream",
     "text": [
      "====...done.====\n",
      "====Creating roamDDPH Dataset object for evaluation only...====\n"
     ]
    },
    {
     "data": {
      "application/vnd.jupyter.widget-view+json": {
       "model_id": "08b7d48369d2416c8ba3cbf4e698113b",
       "version_major": 2,
       "version_minor": 0
      },
      "text/plain": [
       "Casting the dataset:   0%|          | 0/1 [00:00<?, ?ba/s]"
      ]
     },
     "metadata": {},
     "output_type": "display_data"
    },
    {
     "data": {
      "application/vnd.jupyter.widget-view+json": {
       "model_id": "3eba35772e8044ff9589b899167c3b38",
       "version_major": 2,
       "version_minor": 0
      },
      "text/plain": [
       "Casting the dataset:   0%|          | 0/1 [00:00<?, ?ba/s]"
      ]
     },
     "metadata": {},
     "output_type": "display_data"
    },
    {
     "data": {
      "application/vnd.jupyter.widget-view+json": {
       "model_id": "f019f97ca21e42b5b36792d0e3cf7837",
       "version_major": 2,
       "version_minor": 0
      },
      "text/plain": [
       "Casting the dataset:   0%|          | 0/1 [00:00<?, ?ba/s]"
      ]
     },
     "metadata": {},
     "output_type": "display_data"
    },
    {
     "data": {
      "application/vnd.jupyter.widget-view+json": {
       "model_id": "5ba7fbff3bde4f048082b3ea098e91e6",
       "version_major": 2,
       "version_minor": 0
      },
      "text/plain": [
       "  0%|          | 0/1 [00:00<?, ?ba/s]"
      ]
     },
     "metadata": {},
     "output_type": "display_data"
    },
    {
     "data": {
      "application/vnd.jupyter.widget-view+json": {
       "model_id": "89e6d06d001941ef9498597d78903732",
       "version_major": 2,
       "version_minor": 0
      },
      "text/plain": [
       "  0%|          | 0/1 [00:00<?, ?ba/s]"
      ]
     },
     "metadata": {},
     "output_type": "display_data"
    },
    {
     "data": {
      "application/vnd.jupyter.widget-view+json": {
       "model_id": "b8fad44bbba947b28ec50d55b43bd314",
       "version_major": 2,
       "version_minor": 0
      },
      "text/plain": [
       "  0%|          | 0/1 [00:00<?, ?ba/s]"
      ]
     },
     "metadata": {},
     "output_type": "display_data"
    },
    {
     "name": "stderr",
     "output_type": "stream",
     "text": [
      "Loading cached shuffled indices for dataset at /Users/dnsosa/.cache/huggingface/datasets/multi_nli/default/0.0.0/591f72eb6263d1ab527561777936b199b714cda156d35716881158a2bd144f39/cache-4e70c3b4af46282f.arrow\n",
      "Loading cached shuffled indices for dataset at /Users/dnsosa/.cache/huggingface/datasets/json/default-e5247ea137d095d5/0.0.0/e6070c77f18f01a5ad4551a8b7edfba20b8438b7cad4d94e6ad9378022ce4aab/cache-c9999423c7edd30e.arrow\n"
     ]
    },
    {
     "name": "stdout",
     "output_type": "stream",
     "text": [
      "====...done.====\n"
     ]
    }
   ],
   "source": [
    "import covid_lit_contra_claims as clcc\n",
    "from covid_lit_contra_claims.data.constants import model_id_mapper\n",
    "from covid_lit_contra_claims.data.DataLoader import load_train_datasets, load_additional_eval_datasets\n",
    "from covid_lit_contra_claims.data.DataExperiments import prepare_training_data\n",
    "\n",
    "from transformers import AutoTokenizer\n",
    "\n",
    "\n",
    "#out_dir = \n",
    "model = \"biobert\"\n",
    "train_datasets = \"multinli_mednli_mancon_roam_roamAll_roamPH_roamDD_roamDDPH\"\n",
    "eval_datasets = train_datasets\n",
    "truncation = True\n",
    "train_prep_experiment = \"shuffled\"\n",
    "data_ratios = 2\n",
    "SEED = 42\n",
    "\n",
    "# Loading tokenizer here because needed in data loading and model loading\n",
    "checkpoint = model_id_mapper[model]\n",
    "tokenizer = AutoTokenizer.from_pretrained(checkpoint)\n",
    "\n",
    "# Load training and evaluation datasets\n",
    "train_dataset_dict, val_dataset_dict, test_dataset_dict = load_train_datasets(train_datasets, tokenizer,\n",
    "                                                                              truncation=truncation,\n",
    "                                                                              SEED=SEED)\n",
    "\n",
    "# Two versions of CovidNLI: One where test is a separate network from train\n",
    "eval_dataset_dict = load_additional_eval_datasets(eval_datasets, tokenizer,\n",
    "                                                  truncation=truncation,\n",
    "                                                  SEED=SEED)\n",
    "\n",
    "# Conduct any input preprocessing for various experiments\n",
    "# Note currently only using data_ratio parameter for training data, NOT val data.\n"
   ]
  },
  {
   "cell_type": "code",
   "execution_count": 2,
   "metadata": {},
   "outputs": [
    {
     "data": {
      "text/plain": [
       "OrderedDict([('multinli',\n",
       "              Dataset({\n",
       "                  features: ['labels', 'input_ids', 'token_type_ids', 'attention_mask'],\n",
       "                  num_rows: 392702\n",
       "              })),\n",
       "             ('mednli',\n",
       "              Dataset({\n",
       "                  features: ['labels', 'input_ids', 'token_type_ids', 'attention_mask'],\n",
       "                  num_rows: 11232\n",
       "              })),\n",
       "             ('mancon',\n",
       "              Dataset({\n",
       "                  features: ['labels', 'input_ids', 'token_type_ids', 'attention_mask'],\n",
       "                  num_rows: 1396\n",
       "              })),\n",
       "             ('roam',\n",
       "              Dataset({\n",
       "                  features: ['labels', 'input_ids', 'token_type_ids', 'attention_mask'],\n",
       "                  num_rows: 434\n",
       "              })),\n",
       "             ('roamAll',\n",
       "              Dataset({\n",
       "                  features: ['labels', 'input_ids', 'token_type_ids', 'attention_mask'],\n",
       "                  num_rows: 740\n",
       "              })),\n",
       "             ('roamPH',\n",
       "              Dataset({\n",
       "                  features: ['labels', 'input_ids', 'token_type_ids', 'attention_mask'],\n",
       "                  num_rows: 171\n",
       "              })),\n",
       "             ('roamDD',\n",
       "              Dataset({\n",
       "                  features: ['labels', 'input_ids', 'token_type_ids', 'attention_mask'],\n",
       "                  num_rows: 300\n",
       "              })),\n",
       "             ('roamDDPH',\n",
       "              Dataset({\n",
       "                  features: ['labels', 'input_ids', 'token_type_ids', 'attention_mask'],\n",
       "                  num_rows: 264\n",
       "              }))])"
      ]
     },
     "execution_count": 2,
     "metadata": {},
     "output_type": "execute_result"
    }
   ],
   "source": [
    "train_dataset_dict"
   ]
  },
  {
   "cell_type": "code",
   "execution_count": 3,
   "metadata": {},
   "outputs": [
    {
     "data": {
      "text/plain": [
       "odict_keys(['roamPH', 'roam', 'roamAll', 'mednli', 'mancon', 'roamDD', 'roamDDPH', 'multinli'])"
      ]
     },
     "execution_count": 3,
     "metadata": {},
     "output_type": "execute_result"
    }
   ],
   "source": [
    "prepared_train_dataset_dict.keys()"
   ]
  },
  {
   "cell_type": "code",
   "execution_count": 7,
   "metadata": {},
   "outputs": [
    {
     "data": {
      "text/plain": [
       "OrderedDict([('roam',\n",
       "              Dataset({\n",
       "                  features: ['labels', 'input_ids', 'token_type_ids', 'attention_mask'],\n",
       "                  num_rows: 434\n",
       "              })),\n",
       "             ('roamAll',\n",
       "              Dataset({\n",
       "                  features: ['labels', 'input_ids', 'token_type_ids', 'attention_mask'],\n",
       "                  num_rows: 740\n",
       "              })),\n",
       "             ('roamDD',\n",
       "              Dataset({\n",
       "                  features: ['labels', 'input_ids', 'token_type_ids', 'attention_mask'],\n",
       "                  num_rows: 300\n",
       "              })),\n",
       "             ('roamDDPH',\n",
       "              Dataset({\n",
       "                  features: ['labels', 'input_ids', 'token_type_ids', 'attention_mask'],\n",
       "                  num_rows: 264\n",
       "              })),\n",
       "             ('mancon',\n",
       "              Dataset({\n",
       "                  features: ['labels', 'input_ids', 'token_type_ids', 'attention_mask'],\n",
       "                  num_rows: 1000\n",
       "              })),\n",
       "             ('roamPH',\n",
       "              Dataset({\n",
       "                  features: ['labels', 'input_ids', 'token_type_ids', 'attention_mask'],\n",
       "                  num_rows: 171\n",
       "              })),\n",
       "             ('multinli',\n",
       "              Dataset({\n",
       "                  features: ['labels', 'input_ids', 'token_type_ids', 'attention_mask'],\n",
       "                  num_rows: 4000\n",
       "              })),\n",
       "             ('mednli',\n",
       "              Dataset({\n",
       "                  features: ['labels', 'input_ids', 'token_type_ids', 'attention_mask'],\n",
       "                  num_rows: 2000\n",
       "              }))])"
      ]
     },
     "execution_count": 7,
     "metadata": {},
     "output_type": "execute_result"
    }
   ],
   "source": [
    "prepared_train_dataset_dict = prepare_training_data(train_dataset_dict, train_prep_experiment, SEED=SEED, data_ratios=data_ratios)\n",
    "prepared_train_dataset_dict"
   ]
  },
  {
   "cell_type": "code",
   "execution_count": 14,
   "metadata": {},
   "outputs": [
    {
     "name": "stdout",
     "output_type": "stream",
     "text": [
      "{'multinli': 32000, 'mednli': 8000, 'mancon': 1738}\n"
     ]
    }
   ],
   "source": [
    "big_datasets = [\"multinli\", \"mednli\", \"mancon\"]\n",
    "data_ratio = 4\n",
    "\n",
    "ratio_multiplier = len(set(big_datasets).intersection(train_dataset_dict.keys()))\n",
    "\n",
    "big_datasets_new_counts = {}\n",
    "for big_dataset in big_datasets:\n",
    "    if big_dataset in train_dataset_dict:\n",
    "        big_dataset_count = 500 * data_ratio ** ratio_multiplier\n",
    "        big_datasets_new_counts[big_dataset] = min(big_dataset_count, train_dataset_dict[big_dataset].num_rows)\n",
    "        ratio_multiplier -= 1\n",
    "\n",
    "print(big_datasets_new_counts)"
   ]
  },
  {
   "cell_type": "code",
   "execution_count": 17,
   "metadata": {},
   "outputs": [
    {
     "name": "stdout",
     "output_type": "stream",
     "text": [
      "Dataset({\n",
      "    features: ['labels', 'input_ids', 'token_type_ids', 'attention_mask'],\n",
      "    num_rows: 32000\n",
      "})\n",
      "Dataset({\n",
      "    features: ['labels', 'input_ids', 'token_type_ids', 'attention_mask'],\n",
      "    num_rows: 8000\n",
      "})\n",
      "Dataset({\n",
      "    features: ['labels', 'input_ids', 'token_type_ids', 'attention_mask'],\n",
      "    num_rows: 1738\n",
      "})\n"
     ]
    }
   ],
   "source": [
    "for big_dataset, new_count in big_datasets_new_counts.items():\n",
    "    zz = train_dataset_dict[big_dataset].shuffle(seed=42).select(range(new_count))\n",
    "    print(zz)\n"
   ]
  },
  {
   "cell_type": "code",
   "execution_count": 35,
   "metadata": {},
   "outputs": [],
   "source": [
    "from collections import OrderedDict\n",
    "\n",
    "xx = OrderedDict()\n",
    "#xx = OrderedDict({'a': 1, 'b': 2, 'c': 3})\n",
    "xx[\"test\"] = 5\n",
    "xx[\"8\"] = \"pizza\"\n",
    "xx[\"french\"] = \"fry\""
   ]
  },
  {
   "cell_type": "code",
   "execution_count": 38,
   "metadata": {},
   "outputs": [
    {
     "name": "stdout",
     "output_type": "stream",
     "text": [
      "test 5\n",
      "8 pizza\n",
      "french fry\n"
     ]
    }
   ],
   "source": [
    "for k,v in xx.items():\n",
    "    print(k,v)"
   ]
  },
  {
   "cell_type": "code",
   "execution_count": 55,
   "metadata": {},
   "outputs": [
    {
     "name": "stdout",
     "output_type": "stream",
     "text": [
      "8 pizza\n",
      "test 5\n",
      "french fry\n"
     ]
    }
   ],
   "source": [
    "import random\n",
    "\n",
    "random.seed(42)\n",
    "\n",
    "xx_items = list(xx.items())\n",
    "random.shuffle(xx_items)\n",
    "yy = OrderedDict(xx_items)\n",
    "\n",
    "for k,v in yy.items():\n",
    "    print(k,v)"
   ]
  },
  {
   "cell_type": "code",
   "execution_count": 56,
   "metadata": {},
   "outputs": [
    {
     "data": {
      "text/plain": [
       "[('8', 'pizza'), ('test', 5), ('french', 'fry')]"
      ]
     },
     "execution_count": 56,
     "metadata": {},
     "output_type": "execute_result"
    }
   ],
   "source": [
    "xx_items"
   ]
  },
  {
   "cell_type": "code",
   "execution_count": 60,
   "metadata": {},
   "outputs": [],
   "source": [
    "from collections import OrderedDict\n",
    "from datasets import concatenate_datasets\n",
    "\n",
    "combined = concatenate_datasets(list(train_dataset_dict.values()))"
   ]
  },
  {
   "cell_type": "code",
   "execution_count": 58,
   "metadata": {},
   "outputs": [
    {
     "data": {
      "text/plain": [
       "{'roam': Dataset({\n",
       "     features: ['labels', 'input_ids', 'token_type_ids', 'attention_mask'],\n",
       "     num_rows: 434\n",
       " }),\n",
       " 'roamAll': Dataset({\n",
       "     features: ['labels', 'input_ids', 'token_type_ids', 'attention_mask'],\n",
       "     num_rows: 740\n",
       " }),\n",
       " 'roamPH': Dataset({\n",
       "     features: ['labels', 'input_ids', 'token_type_ids', 'attention_mask'],\n",
       "     num_rows: 171\n",
       " }),\n",
       " 'roamDD': Dataset({\n",
       "     features: ['labels', 'input_ids', 'token_type_ids', 'attention_mask'],\n",
       "     num_rows: 300\n",
       " }),\n",
       " 'roamDDPH': Dataset({\n",
       "     features: ['labels', 'input_ids', 'token_type_ids', 'attention_mask'],\n",
       "     num_rows: 264\n",
       " })}"
      ]
     },
     "execution_count": 58,
     "metadata": {},
     "output_type": "execute_result"
    }
   ],
   "source": [
    "train_dataset_dict"
   ]
  },
  {
   "cell_type": "code",
   "execution_count": 66,
   "metadata": {
    "collapsed": true,
    "jupyter": {
     "outputs_hidden": true
    },
    "tags": []
   },
   "outputs": [
    {
     "data": {
      "text/plain": [
       "{'labels': [1, 0, 0],\n",
       " 'input_ids': [[101,\n",
       "   1103,\n",
       "   1329,\n",
       "   1104,\n",
       "   1142,\n",
       "   1207,\n",
       "   7606,\n",
       "   1107,\n",
       "   4612,\n",
       "   1114,\n",
       "   1168,\n",
       "   3252,\n",
       "   6665,\n",
       "   1176,\n",
       "   1103,\n",
       "   7991,\n",
       "   1104,\n",
       "   1957,\n",
       "   5557,\n",
       "   1216,\n",
       "   1112,\n",
       "   177,\n",
       "   19694,\n",
       "   16844,\n",
       "   1732,\n",
       "   10885,\n",
       "   1186,\n",
       "   12934,\n",
       "   1162,\n",
       "   1137,\n",
       "   1231,\n",
       "   1306,\n",
       "   4704,\n",
       "   11083,\n",
       "   3161,\n",
       "   117,\n",
       "   1336,\n",
       "   1129,\n",
       "   6315,\n",
       "   1107,\n",
       "   1884,\n",
       "   18312,\n",
       "   118,\n",
       "   1627,\n",
       "   4420,\n",
       "   119,\n",
       "   102,\n",
       "   1145,\n",
       "   117,\n",
       "   3209,\n",
       "   5557,\n",
       "   2345,\n",
       "   1107,\n",
       "   1952,\n",
       "   122,\n",
       "   117,\n",
       "   1216,\n",
       "   1112,\n",
       "   1231,\n",
       "   1306,\n",
       "   4704,\n",
       "   11083,\n",
       "   3161,\n",
       "   117,\n",
       "   1120,\n",
       "   10961,\n",
       "   3906,\n",
       "   25740,\n",
       "   117,\n",
       "   21718,\n",
       "   12934,\n",
       "   21704,\n",
       "   1197,\n",
       "   117,\n",
       "   1105,\n",
       "   1532,\n",
       "   26950,\n",
       "   4063,\n",
       "   117,\n",
       "   1105,\n",
       "   1106,\n",
       "   6617,\n",
       "   2646,\n",
       "   10337,\n",
       "   1918,\n",
       "   1830,\n",
       "   1169,\n",
       "   1129,\n",
       "   2234,\n",
       "   1112,\n",
       "   14115,\n",
       "   1111,\n",
       "   1884,\n",
       "   18312,\n",
       "   118,\n",
       "   1627,\n",
       "   1191,\n",
       "   1152,\n",
       "   5424,\n",
       "   1106,\n",
       "   1129,\n",
       "   3903,\n",
       "   1107,\n",
       "   3724,\n",
       "   1105,\n",
       "   7300,\n",
       "   2527,\n",
       "   119,\n",
       "   102],\n",
       "  [101,\n",
       "   1228,\n",
       "   118,\n",
       "   3107,\n",
       "   3252,\n",
       "   1114,\n",
       "   1899,\n",
       "   18873,\n",
       "   1643,\n",
       "   4359,\n",
       "   7221,\n",
       "   12805,\n",
       "   1673,\n",
       "   2908,\n",
       "   17713,\n",
       "   120,\n",
       "   1285,\n",
       "   117,\n",
       "   25338,\n",
       "   27822,\n",
       "   25740,\n",
       "   120,\n",
       "   187,\n",
       "   8383,\n",
       "   1605,\n",
       "   25740,\n",
       "   1105,\n",
       "   1344,\n",
       "   4235,\n",
       "   15120,\n",
       "   5783,\n",
       "   7621,\n",
       "   1107,\n",
       "   19456,\n",
       "   2116,\n",
       "   7606,\n",
       "   1127,\n",
       "   7087,\n",
       "   1113,\n",
       "   1285,\n",
       "   125,\n",
       "   132,\n",
       "   1133,\n",
       "   117,\n",
       "   1117,\n",
       "   177,\n",
       "   1183,\n",
       "   26466,\n",
       "   5024,\n",
       "   8191,\n",
       "   1598,\n",
       "   4146,\n",
       "   3381,\n",
       "   119,\n",
       "   102,\n",
       "   1107,\n",
       "   8828,\n",
       "   1106,\n",
       "   5199,\n",
       "   170,\n",
       "   15093,\n",
       "   1884,\n",
       "   18312,\n",
       "   118,\n",
       "   1627,\n",
       "   4420,\n",
       "   117,\n",
       "   1195,\n",
       "   1225,\n",
       "   1136,\n",
       "   12326,\n",
       "   1126,\n",
       "   3852,\n",
       "   1206,\n",
       "   3252,\n",
       "   1114,\n",
       "   177,\n",
       "   19694,\n",
       "   16844,\n",
       "   1732,\n",
       "   10885,\n",
       "   1186,\n",
       "   12934,\n",
       "   1162,\n",
       "   1137,\n",
       "   25338,\n",
       "   27822,\n",
       "   25740,\n",
       "   120,\n",
       "   187,\n",
       "   8383,\n",
       "   1605,\n",
       "   25740,\n",
       "   1105,\n",
       "   21828,\n",
       "   8009,\n",
       "   6207,\n",
       "   1714,\n",
       "   1552,\n",
       "   1112,\n",
       "   3402,\n",
       "   1106,\n",
       "   1185,\n",
       "   2848,\n",
       "   25740,\n",
       "   1348,\n",
       "   3252,\n",
       "   119,\n",
       "   102],\n",
       "  [101,\n",
       "   4728,\n",
       "   118,\n",
       "   10122,\n",
       "   2848,\n",
       "   25740,\n",
       "   1348,\n",
       "   1176,\n",
       "   1231,\n",
       "   1306,\n",
       "   10396,\n",
       "   11083,\n",
       "   3161,\n",
       "   117,\n",
       "   22572,\n",
       "   10885,\n",
       "   1186,\n",
       "   12934,\n",
       "   1162,\n",
       "   19273,\n",
       "   117,\n",
       "   175,\n",
       "   21704,\n",
       "   8508,\n",
       "   1611,\n",
       "   25740,\n",
       "   117,\n",
       "   184,\n",
       "   11510,\n",
       "   20284,\n",
       "   11083,\n",
       "   3161,\n",
       "   117,\n",
       "   118,\n",
       "   9455,\n",
       "   6732,\n",
       "   1320,\n",
       "   117,\n",
       "   25338,\n",
       "   27822,\n",
       "   25740,\n",
       "   116,\n",
       "   187,\n",
       "   8383,\n",
       "   1605,\n",
       "   25740,\n",
       "   117,\n",
       "   23298,\n",
       "   21704,\n",
       "   4854,\n",
       "   3566,\n",
       "   1675,\n",
       "   170,\n",
       "   1609,\n",
       "   1104,\n",
       "   2810,\n",
       "   1113,\n",
       "   1103,\n",
       "   2281,\n",
       "   1884,\n",
       "   18312,\n",
       "   118,\n",
       "   1627,\n",
       "   2635,\n",
       "   1334,\n",
       "   1118,\n",
       "   1334,\n",
       "   1114,\n",
       "   1103,\n",
       "   4778,\n",
       "   1470,\n",
       "   2332,\n",
       "   10700,\n",
       "   1145,\n",
       "   1304,\n",
       "   1696,\n",
       "   1106,\n",
       "   4651,\n",
       "   1142,\n",
       "   8010,\n",
       "   119,\n",
       "   102,\n",
       "   1292,\n",
       "   2686,\n",
       "   5996,\n",
       "   1115,\n",
       "   24928,\n",
       "   9654,\n",
       "   2983,\n",
       "   25740,\n",
       "   117,\n",
       "   25338,\n",
       "   27822,\n",
       "   25740,\n",
       "   117,\n",
       "   1105,\n",
       "   5580,\n",
       "   26231,\n",
       "   25740,\n",
       "   1169,\n",
       "   5515,\n",
       "   174,\n",
       "   1665,\n",
       "   1851,\n",
       "   1104,\n",
       "   1296,\n",
       "   3850,\n",
       "   1107,\n",
       "   1769,\n",
       "   1105,\n",
       "   1132,\n",
       "   3903,\n",
       "   1107,\n",
       "   1103,\n",
       "   3252,\n",
       "   1104,\n",
       "   1884,\n",
       "   18312,\n",
       "   118,\n",
       "   1627,\n",
       "   4420,\n",
       "   119,\n",
       "   102]],\n",
       " 'token_type_ids': [[0,\n",
       "   0,\n",
       "   0,\n",
       "   0,\n",
       "   0,\n",
       "   0,\n",
       "   0,\n",
       "   0,\n",
       "   0,\n",
       "   0,\n",
       "   0,\n",
       "   0,\n",
       "   0,\n",
       "   0,\n",
       "   0,\n",
       "   0,\n",
       "   0,\n",
       "   0,\n",
       "   0,\n",
       "   0,\n",
       "   0,\n",
       "   0,\n",
       "   0,\n",
       "   0,\n",
       "   0,\n",
       "   0,\n",
       "   0,\n",
       "   0,\n",
       "   0,\n",
       "   0,\n",
       "   0,\n",
       "   0,\n",
       "   0,\n",
       "   0,\n",
       "   0,\n",
       "   0,\n",
       "   0,\n",
       "   0,\n",
       "   0,\n",
       "   0,\n",
       "   0,\n",
       "   0,\n",
       "   0,\n",
       "   0,\n",
       "   0,\n",
       "   0,\n",
       "   0,\n",
       "   1,\n",
       "   1,\n",
       "   1,\n",
       "   1,\n",
       "   1,\n",
       "   1,\n",
       "   1,\n",
       "   1,\n",
       "   1,\n",
       "   1,\n",
       "   1,\n",
       "   1,\n",
       "   1,\n",
       "   1,\n",
       "   1,\n",
       "   1,\n",
       "   1,\n",
       "   1,\n",
       "   1,\n",
       "   1,\n",
       "   1,\n",
       "   1,\n",
       "   1,\n",
       "   1,\n",
       "   1,\n",
       "   1,\n",
       "   1,\n",
       "   1,\n",
       "   1,\n",
       "   1,\n",
       "   1,\n",
       "   1,\n",
       "   1,\n",
       "   1,\n",
       "   1,\n",
       "   1,\n",
       "   1,\n",
       "   1,\n",
       "   1,\n",
       "   1,\n",
       "   1,\n",
       "   1,\n",
       "   1,\n",
       "   1,\n",
       "   1,\n",
       "   1,\n",
       "   1,\n",
       "   1,\n",
       "   1,\n",
       "   1,\n",
       "   1,\n",
       "   1,\n",
       "   1,\n",
       "   1,\n",
       "   1,\n",
       "   1,\n",
       "   1,\n",
       "   1,\n",
       "   1,\n",
       "   1,\n",
       "   1,\n",
       "   1],\n",
       "  [0,\n",
       "   0,\n",
       "   0,\n",
       "   0,\n",
       "   0,\n",
       "   0,\n",
       "   0,\n",
       "   0,\n",
       "   0,\n",
       "   0,\n",
       "   0,\n",
       "   0,\n",
       "   0,\n",
       "   0,\n",
       "   0,\n",
       "   0,\n",
       "   0,\n",
       "   0,\n",
       "   0,\n",
       "   0,\n",
       "   0,\n",
       "   0,\n",
       "   0,\n",
       "   0,\n",
       "   0,\n",
       "   0,\n",
       "   0,\n",
       "   0,\n",
       "   0,\n",
       "   0,\n",
       "   0,\n",
       "   0,\n",
       "   0,\n",
       "   0,\n",
       "   0,\n",
       "   0,\n",
       "   0,\n",
       "   0,\n",
       "   0,\n",
       "   0,\n",
       "   0,\n",
       "   0,\n",
       "   0,\n",
       "   0,\n",
       "   0,\n",
       "   0,\n",
       "   0,\n",
       "   0,\n",
       "   0,\n",
       "   0,\n",
       "   0,\n",
       "   0,\n",
       "   0,\n",
       "   0,\n",
       "   0,\n",
       "   1,\n",
       "   1,\n",
       "   1,\n",
       "   1,\n",
       "   1,\n",
       "   1,\n",
       "   1,\n",
       "   1,\n",
       "   1,\n",
       "   1,\n",
       "   1,\n",
       "   1,\n",
       "   1,\n",
       "   1,\n",
       "   1,\n",
       "   1,\n",
       "   1,\n",
       "   1,\n",
       "   1,\n",
       "   1,\n",
       "   1,\n",
       "   1,\n",
       "   1,\n",
       "   1,\n",
       "   1,\n",
       "   1,\n",
       "   1,\n",
       "   1,\n",
       "   1,\n",
       "   1,\n",
       "   1,\n",
       "   1,\n",
       "   1,\n",
       "   1,\n",
       "   1,\n",
       "   1,\n",
       "   1,\n",
       "   1,\n",
       "   1,\n",
       "   1,\n",
       "   1,\n",
       "   1,\n",
       "   1,\n",
       "   1,\n",
       "   1,\n",
       "   1,\n",
       "   1,\n",
       "   1,\n",
       "   1,\n",
       "   1,\n",
       "   1,\n",
       "   1,\n",
       "   1,\n",
       "   1],\n",
       "  [0,\n",
       "   0,\n",
       "   0,\n",
       "   0,\n",
       "   0,\n",
       "   0,\n",
       "   0,\n",
       "   0,\n",
       "   0,\n",
       "   0,\n",
       "   0,\n",
       "   0,\n",
       "   0,\n",
       "   0,\n",
       "   0,\n",
       "   0,\n",
       "   0,\n",
       "   0,\n",
       "   0,\n",
       "   0,\n",
       "   0,\n",
       "   0,\n",
       "   0,\n",
       "   0,\n",
       "   0,\n",
       "   0,\n",
       "   0,\n",
       "   0,\n",
       "   0,\n",
       "   0,\n",
       "   0,\n",
       "   0,\n",
       "   0,\n",
       "   0,\n",
       "   0,\n",
       "   0,\n",
       "   0,\n",
       "   0,\n",
       "   0,\n",
       "   0,\n",
       "   0,\n",
       "   0,\n",
       "   0,\n",
       "   0,\n",
       "   0,\n",
       "   0,\n",
       "   0,\n",
       "   0,\n",
       "   0,\n",
       "   0,\n",
       "   0,\n",
       "   0,\n",
       "   0,\n",
       "   0,\n",
       "   0,\n",
       "   0,\n",
       "   0,\n",
       "   0,\n",
       "   0,\n",
       "   0,\n",
       "   0,\n",
       "   0,\n",
       "   0,\n",
       "   0,\n",
       "   0,\n",
       "   0,\n",
       "   0,\n",
       "   0,\n",
       "   0,\n",
       "   0,\n",
       "   0,\n",
       "   0,\n",
       "   0,\n",
       "   0,\n",
       "   0,\n",
       "   0,\n",
       "   0,\n",
       "   0,\n",
       "   0,\n",
       "   0,\n",
       "   0,\n",
       "   0,\n",
       "   1,\n",
       "   1,\n",
       "   1,\n",
       "   1,\n",
       "   1,\n",
       "   1,\n",
       "   1,\n",
       "   1,\n",
       "   1,\n",
       "   1,\n",
       "   1,\n",
       "   1,\n",
       "   1,\n",
       "   1,\n",
       "   1,\n",
       "   1,\n",
       "   1,\n",
       "   1,\n",
       "   1,\n",
       "   1,\n",
       "   1,\n",
       "   1,\n",
       "   1,\n",
       "   1,\n",
       "   1,\n",
       "   1,\n",
       "   1,\n",
       "   1,\n",
       "   1,\n",
       "   1,\n",
       "   1,\n",
       "   1,\n",
       "   1,\n",
       "   1,\n",
       "   1,\n",
       "   1,\n",
       "   1,\n",
       "   1,\n",
       "   1,\n",
       "   1,\n",
       "   1]],\n",
       " 'attention_mask': [[1,\n",
       "   1,\n",
       "   1,\n",
       "   1,\n",
       "   1,\n",
       "   1,\n",
       "   1,\n",
       "   1,\n",
       "   1,\n",
       "   1,\n",
       "   1,\n",
       "   1,\n",
       "   1,\n",
       "   1,\n",
       "   1,\n",
       "   1,\n",
       "   1,\n",
       "   1,\n",
       "   1,\n",
       "   1,\n",
       "   1,\n",
       "   1,\n",
       "   1,\n",
       "   1,\n",
       "   1,\n",
       "   1,\n",
       "   1,\n",
       "   1,\n",
       "   1,\n",
       "   1,\n",
       "   1,\n",
       "   1,\n",
       "   1,\n",
       "   1,\n",
       "   1,\n",
       "   1,\n",
       "   1,\n",
       "   1,\n",
       "   1,\n",
       "   1,\n",
       "   1,\n",
       "   1,\n",
       "   1,\n",
       "   1,\n",
       "   1,\n",
       "   1,\n",
       "   1,\n",
       "   1,\n",
       "   1,\n",
       "   1,\n",
       "   1,\n",
       "   1,\n",
       "   1,\n",
       "   1,\n",
       "   1,\n",
       "   1,\n",
       "   1,\n",
       "   1,\n",
       "   1,\n",
       "   1,\n",
       "   1,\n",
       "   1,\n",
       "   1,\n",
       "   1,\n",
       "   1,\n",
       "   1,\n",
       "   1,\n",
       "   1,\n",
       "   1,\n",
       "   1,\n",
       "   1,\n",
       "   1,\n",
       "   1,\n",
       "   1,\n",
       "   1,\n",
       "   1,\n",
       "   1,\n",
       "   1,\n",
       "   1,\n",
       "   1,\n",
       "   1,\n",
       "   1,\n",
       "   1,\n",
       "   1,\n",
       "   1,\n",
       "   1,\n",
       "   1,\n",
       "   1,\n",
       "   1,\n",
       "   1,\n",
       "   1,\n",
       "   1,\n",
       "   1,\n",
       "   1,\n",
       "   1,\n",
       "   1,\n",
       "   1,\n",
       "   1,\n",
       "   1,\n",
       "   1,\n",
       "   1,\n",
       "   1,\n",
       "   1,\n",
       "   1,\n",
       "   1,\n",
       "   1,\n",
       "   1,\n",
       "   1,\n",
       "   1],\n",
       "  [1,\n",
       "   1,\n",
       "   1,\n",
       "   1,\n",
       "   1,\n",
       "   1,\n",
       "   1,\n",
       "   1,\n",
       "   1,\n",
       "   1,\n",
       "   1,\n",
       "   1,\n",
       "   1,\n",
       "   1,\n",
       "   1,\n",
       "   1,\n",
       "   1,\n",
       "   1,\n",
       "   1,\n",
       "   1,\n",
       "   1,\n",
       "   1,\n",
       "   1,\n",
       "   1,\n",
       "   1,\n",
       "   1,\n",
       "   1,\n",
       "   1,\n",
       "   1,\n",
       "   1,\n",
       "   1,\n",
       "   1,\n",
       "   1,\n",
       "   1,\n",
       "   1,\n",
       "   1,\n",
       "   1,\n",
       "   1,\n",
       "   1,\n",
       "   1,\n",
       "   1,\n",
       "   1,\n",
       "   1,\n",
       "   1,\n",
       "   1,\n",
       "   1,\n",
       "   1,\n",
       "   1,\n",
       "   1,\n",
       "   1,\n",
       "   1,\n",
       "   1,\n",
       "   1,\n",
       "   1,\n",
       "   1,\n",
       "   1,\n",
       "   1,\n",
       "   1,\n",
       "   1,\n",
       "   1,\n",
       "   1,\n",
       "   1,\n",
       "   1,\n",
       "   1,\n",
       "   1,\n",
       "   1,\n",
       "   1,\n",
       "   1,\n",
       "   1,\n",
       "   1,\n",
       "   1,\n",
       "   1,\n",
       "   1,\n",
       "   1,\n",
       "   1,\n",
       "   1,\n",
       "   1,\n",
       "   1,\n",
       "   1,\n",
       "   1,\n",
       "   1,\n",
       "   1,\n",
       "   1,\n",
       "   1,\n",
       "   1,\n",
       "   1,\n",
       "   1,\n",
       "   1,\n",
       "   1,\n",
       "   1,\n",
       "   1,\n",
       "   1,\n",
       "   1,\n",
       "   1,\n",
       "   1,\n",
       "   1,\n",
       "   1,\n",
       "   1,\n",
       "   1,\n",
       "   1,\n",
       "   1,\n",
       "   1,\n",
       "   1,\n",
       "   1,\n",
       "   1,\n",
       "   1,\n",
       "   1,\n",
       "   1,\n",
       "   1],\n",
       "  [1,\n",
       "   1,\n",
       "   1,\n",
       "   1,\n",
       "   1,\n",
       "   1,\n",
       "   1,\n",
       "   1,\n",
       "   1,\n",
       "   1,\n",
       "   1,\n",
       "   1,\n",
       "   1,\n",
       "   1,\n",
       "   1,\n",
       "   1,\n",
       "   1,\n",
       "   1,\n",
       "   1,\n",
       "   1,\n",
       "   1,\n",
       "   1,\n",
       "   1,\n",
       "   1,\n",
       "   1,\n",
       "   1,\n",
       "   1,\n",
       "   1,\n",
       "   1,\n",
       "   1,\n",
       "   1,\n",
       "   1,\n",
       "   1,\n",
       "   1,\n",
       "   1,\n",
       "   1,\n",
       "   1,\n",
       "   1,\n",
       "   1,\n",
       "   1,\n",
       "   1,\n",
       "   1,\n",
       "   1,\n",
       "   1,\n",
       "   1,\n",
       "   1,\n",
       "   1,\n",
       "   1,\n",
       "   1,\n",
       "   1,\n",
       "   1,\n",
       "   1,\n",
       "   1,\n",
       "   1,\n",
       "   1,\n",
       "   1,\n",
       "   1,\n",
       "   1,\n",
       "   1,\n",
       "   1,\n",
       "   1,\n",
       "   1,\n",
       "   1,\n",
       "   1,\n",
       "   1,\n",
       "   1,\n",
       "   1,\n",
       "   1,\n",
       "   1,\n",
       "   1,\n",
       "   1,\n",
       "   1,\n",
       "   1,\n",
       "   1,\n",
       "   1,\n",
       "   1,\n",
       "   1,\n",
       "   1,\n",
       "   1,\n",
       "   1,\n",
       "   1,\n",
       "   1,\n",
       "   1,\n",
       "   1,\n",
       "   1,\n",
       "   1,\n",
       "   1,\n",
       "   1,\n",
       "   1,\n",
       "   1,\n",
       "   1,\n",
       "   1,\n",
       "   1,\n",
       "   1,\n",
       "   1,\n",
       "   1,\n",
       "   1,\n",
       "   1,\n",
       "   1,\n",
       "   1,\n",
       "   1,\n",
       "   1,\n",
       "   1,\n",
       "   1,\n",
       "   1,\n",
       "   1,\n",
       "   1,\n",
       "   1,\n",
       "   1,\n",
       "   1,\n",
       "   1,\n",
       "   1,\n",
       "   1,\n",
       "   1,\n",
       "   1,\n",
       "   1,\n",
       "   1,\n",
       "   1,\n",
       "   1,\n",
       "   1,\n",
       "   1,\n",
       "   1,\n",
       "   1]]}"
      ]
     },
     "execution_count": 66,
     "metadata": {},
     "output_type": "execute_result"
    }
   ],
   "source": [
    "combined.shuffle().select(range(3))[:]"
   ]
  },
  {
   "cell_type": "code",
   "execution_count": 69,
   "metadata": {},
   "outputs": [
    {
     "data": {
      "text/plain": [
       "'roam_roamAll_roamPH_roamDD_roamDDPH'"
      ]
     },
     "execution_count": 69,
     "metadata": {},
     "output_type": "execute_result"
    }
   ],
   "source": [
    "'_'.join(list(train_dataset_dict.keys()))"
   ]
  },
  {
   "cell_type": "code",
   "execution_count": null,
   "metadata": {},
   "outputs": [],
   "source": []
  },
  {
   "cell_type": "code",
   "execution_count": null,
   "metadata": {},
   "outputs": [],
   "source": []
  },
  {
   "cell_type": "code",
   "execution_count": null,
   "metadata": {},
   "outputs": [],
   "source": []
  }
 ],
 "metadata": {
  "kernelspec": {
   "display_name": "cc37",
   "language": "python",
   "name": "cc37"
  },
  "language_info": {
   "codemirror_mode": {
    "name": "ipython",
    "version": 3
   },
   "file_extension": ".py",
   "mimetype": "text/x-python",
   "name": "python",
   "nbconvert_exporter": "python",
   "pygments_lexer": "ipython3",
   "version": "3.7.13"
  }
 },
 "nbformat": 4,
 "nbformat_minor": 4
}
